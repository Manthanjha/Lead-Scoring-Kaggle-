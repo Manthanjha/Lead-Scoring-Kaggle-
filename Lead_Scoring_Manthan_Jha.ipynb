{
 "cells": [
  {
   "cell_type": "markdown",
   "id": "beb2c785",
   "metadata": {},
   "source": [
    "### Lead_Scoring"
   ]
  },
  {
   "cell_type": "code",
   "execution_count": 9,
   "id": "f9d1b7e4",
   "metadata": {},
   "outputs": [],
   "source": [
    "#Importing libraries\n",
    "\n",
    "# Warnings\n",
    "import warnings\n",
    "warnings.filterwarnings('ignore')\n",
    "\n",
    "# libraries for analysis\n",
    "import pandas as pd, numpy as np\n",
    "\n",
    "# libraries for visulaization\n",
    "import matplotlib.pyplot as plt\n",
    "from matplotlib.pyplot import xticks\n",
    "import seaborn as sns\n",
    "%matplotlib inline\n",
    "\n",
    "# libraries for model building and metrics calculations\n",
    "from sklearn.model_selection import train_test_split\n",
    "from sklearn.preprocessing import StandardScaler\n",
    "from sklearn.linear_model import LogisticRegression\n",
    "from sklearn.feature_selection import RFE\n",
    "from statsmodels.stats.outliers_influence import variance_inflation_factor\n",
    "from sklearn import metrics\n",
    "import statsmodels.api as sm"
   ]
  },
  {
   "cell_type": "markdown",
   "id": "a9d83a59",
   "metadata": {},
   "source": [
    "### Data Preprocessing"
   ]
  },
  {
   "cell_type": "code",
   "execution_count": 10,
   "id": "a46a3651",
   "metadata": {},
   "outputs": [
    {
     "name": "stdout",
     "output_type": "stream",
     "text": [
      "(9240, 37)\n"
     ]
    },
    {
     "data": {
      "text/html": [
       "<div>\n",
       "<style scoped>\n",
       "    .dataframe tbody tr th:only-of-type {\n",
       "        vertical-align: middle;\n",
       "    }\n",
       "\n",
       "    .dataframe tbody tr th {\n",
       "        vertical-align: top;\n",
       "    }\n",
       "\n",
       "    .dataframe thead th {\n",
       "        text-align: right;\n",
       "    }\n",
       "</style>\n",
       "<table border=\"1\" class=\"dataframe\">\n",
       "  <thead>\n",
       "    <tr style=\"text-align: right;\">\n",
       "      <th></th>\n",
       "      <th>Prospect ID</th>\n",
       "      <th>Lead Number</th>\n",
       "      <th>Lead Origin</th>\n",
       "      <th>Lead Source</th>\n",
       "      <th>Do Not Email</th>\n",
       "      <th>Do Not Call</th>\n",
       "      <th>Converted</th>\n",
       "      <th>TotalVisits</th>\n",
       "      <th>Total Time Spent on Website</th>\n",
       "      <th>Page Views Per Visit</th>\n",
       "      <th>...</th>\n",
       "      <th>Get updates on DM Content</th>\n",
       "      <th>Lead Profile</th>\n",
       "      <th>City</th>\n",
       "      <th>Asymmetrique Activity Index</th>\n",
       "      <th>Asymmetrique Profile Index</th>\n",
       "      <th>Asymmetrique Activity Score</th>\n",
       "      <th>Asymmetrique Profile Score</th>\n",
       "      <th>I agree to pay the amount through cheque</th>\n",
       "      <th>A free copy of Mastering The Interview</th>\n",
       "      <th>Last Notable Activity</th>\n",
       "    </tr>\n",
       "  </thead>\n",
       "  <tbody>\n",
       "    <tr>\n",
       "      <th>0</th>\n",
       "      <td>7927b2df-8bba-4d29-b9a2-b6e0beafe620</td>\n",
       "      <td>660737</td>\n",
       "      <td>API</td>\n",
       "      <td>Olark Chat</td>\n",
       "      <td>No</td>\n",
       "      <td>No</td>\n",
       "      <td>0</td>\n",
       "      <td>0.0</td>\n",
       "      <td>0</td>\n",
       "      <td>0.0</td>\n",
       "      <td>...</td>\n",
       "      <td>No</td>\n",
       "      <td>Select</td>\n",
       "      <td>Select</td>\n",
       "      <td>02.Medium</td>\n",
       "      <td>02.Medium</td>\n",
       "      <td>15.0</td>\n",
       "      <td>15.0</td>\n",
       "      <td>No</td>\n",
       "      <td>No</td>\n",
       "      <td>Modified</td>\n",
       "    </tr>\n",
       "    <tr>\n",
       "      <th>1</th>\n",
       "      <td>2a272436-5132-4136-86fa-dcc88c88f482</td>\n",
       "      <td>660728</td>\n",
       "      <td>API</td>\n",
       "      <td>Organic Search</td>\n",
       "      <td>No</td>\n",
       "      <td>No</td>\n",
       "      <td>0</td>\n",
       "      <td>5.0</td>\n",
       "      <td>674</td>\n",
       "      <td>2.5</td>\n",
       "      <td>...</td>\n",
       "      <td>No</td>\n",
       "      <td>Select</td>\n",
       "      <td>Select</td>\n",
       "      <td>02.Medium</td>\n",
       "      <td>02.Medium</td>\n",
       "      <td>15.0</td>\n",
       "      <td>15.0</td>\n",
       "      <td>No</td>\n",
       "      <td>No</td>\n",
       "      <td>Email Opened</td>\n",
       "    </tr>\n",
       "    <tr>\n",
       "      <th>2</th>\n",
       "      <td>8cc8c611-a219-4f35-ad23-fdfd2656bd8a</td>\n",
       "      <td>660727</td>\n",
       "      <td>Landing Page Submission</td>\n",
       "      <td>Direct Traffic</td>\n",
       "      <td>No</td>\n",
       "      <td>No</td>\n",
       "      <td>1</td>\n",
       "      <td>2.0</td>\n",
       "      <td>1532</td>\n",
       "      <td>2.0</td>\n",
       "      <td>...</td>\n",
       "      <td>No</td>\n",
       "      <td>Potential Lead</td>\n",
       "      <td>Mumbai</td>\n",
       "      <td>02.Medium</td>\n",
       "      <td>01.High</td>\n",
       "      <td>14.0</td>\n",
       "      <td>20.0</td>\n",
       "      <td>No</td>\n",
       "      <td>Yes</td>\n",
       "      <td>Email Opened</td>\n",
       "    </tr>\n",
       "    <tr>\n",
       "      <th>3</th>\n",
       "      <td>0cc2df48-7cf4-4e39-9de9-19797f9b38cc</td>\n",
       "      <td>660719</td>\n",
       "      <td>Landing Page Submission</td>\n",
       "      <td>Direct Traffic</td>\n",
       "      <td>No</td>\n",
       "      <td>No</td>\n",
       "      <td>0</td>\n",
       "      <td>1.0</td>\n",
       "      <td>305</td>\n",
       "      <td>1.0</td>\n",
       "      <td>...</td>\n",
       "      <td>No</td>\n",
       "      <td>Select</td>\n",
       "      <td>Mumbai</td>\n",
       "      <td>02.Medium</td>\n",
       "      <td>01.High</td>\n",
       "      <td>13.0</td>\n",
       "      <td>17.0</td>\n",
       "      <td>No</td>\n",
       "      <td>No</td>\n",
       "      <td>Modified</td>\n",
       "    </tr>\n",
       "    <tr>\n",
       "      <th>4</th>\n",
       "      <td>3256f628-e534-4826-9d63-4a8b88782852</td>\n",
       "      <td>660681</td>\n",
       "      <td>Landing Page Submission</td>\n",
       "      <td>Google</td>\n",
       "      <td>No</td>\n",
       "      <td>No</td>\n",
       "      <td>1</td>\n",
       "      <td>2.0</td>\n",
       "      <td>1428</td>\n",
       "      <td>1.0</td>\n",
       "      <td>...</td>\n",
       "      <td>No</td>\n",
       "      <td>Select</td>\n",
       "      <td>Mumbai</td>\n",
       "      <td>02.Medium</td>\n",
       "      <td>01.High</td>\n",
       "      <td>15.0</td>\n",
       "      <td>18.0</td>\n",
       "      <td>No</td>\n",
       "      <td>No</td>\n",
       "      <td>Modified</td>\n",
       "    </tr>\n",
       "  </tbody>\n",
       "</table>\n",
       "<p>5 rows × 37 columns</p>\n",
       "</div>"
      ],
      "text/plain": [
       "                            Prospect ID  Lead Number              Lead Origin   \n",
       "0  7927b2df-8bba-4d29-b9a2-b6e0beafe620       660737                      API  \\\n",
       "1  2a272436-5132-4136-86fa-dcc88c88f482       660728                      API   \n",
       "2  8cc8c611-a219-4f35-ad23-fdfd2656bd8a       660727  Landing Page Submission   \n",
       "3  0cc2df48-7cf4-4e39-9de9-19797f9b38cc       660719  Landing Page Submission   \n",
       "4  3256f628-e534-4826-9d63-4a8b88782852       660681  Landing Page Submission   \n",
       "\n",
       "      Lead Source Do Not Email Do Not Call  Converted  TotalVisits   \n",
       "0      Olark Chat           No          No          0          0.0  \\\n",
       "1  Organic Search           No          No          0          5.0   \n",
       "2  Direct Traffic           No          No          1          2.0   \n",
       "3  Direct Traffic           No          No          0          1.0   \n",
       "4          Google           No          No          1          2.0   \n",
       "\n",
       "   Total Time Spent on Website  Page Views Per Visit  ...   \n",
       "0                            0                   0.0  ...  \\\n",
       "1                          674                   2.5  ...   \n",
       "2                         1532                   2.0  ...   \n",
       "3                          305                   1.0  ...   \n",
       "4                         1428                   1.0  ...   \n",
       "\n",
       "  Get updates on DM Content    Lead Profile    City   \n",
       "0                        No          Select  Select  \\\n",
       "1                        No          Select  Select   \n",
       "2                        No  Potential Lead  Mumbai   \n",
       "3                        No          Select  Mumbai   \n",
       "4                        No          Select  Mumbai   \n",
       "\n",
       "  Asymmetrique Activity Index Asymmetrique Profile Index   \n",
       "0                   02.Medium                  02.Medium  \\\n",
       "1                   02.Medium                  02.Medium   \n",
       "2                   02.Medium                    01.High   \n",
       "3                   02.Medium                    01.High   \n",
       "4                   02.Medium                    01.High   \n",
       "\n",
       "  Asymmetrique Activity Score Asymmetrique Profile Score   \n",
       "0                        15.0                       15.0  \\\n",
       "1                        15.0                       15.0   \n",
       "2                        14.0                       20.0   \n",
       "3                        13.0                       17.0   \n",
       "4                        15.0                       18.0   \n",
       "\n",
       "  I agree to pay the amount through cheque   \n",
       "0                                       No  \\\n",
       "1                                       No   \n",
       "2                                       No   \n",
       "3                                       No   \n",
       "4                                       No   \n",
       "\n",
       "  A free copy of Mastering The Interview Last Notable Activity  \n",
       "0                                     No              Modified  \n",
       "1                                     No          Email Opened  \n",
       "2                                    Yes          Email Opened  \n",
       "3                                     No              Modified  \n",
       "4                                     No              Modified  \n",
       "\n",
       "[5 rows x 37 columns]"
      ]
     },
     "execution_count": 10,
     "metadata": {},
     "output_type": "execute_result"
    }
   ],
   "source": [
    "df = pd.read_csv('leads.csv')\n",
    "print(df.shape)\n",
    "df.head(5)"
   ]
  },
  {
   "cell_type": "code",
   "execution_count": 11,
   "id": "0348213a",
   "metadata": {},
   "outputs": [
    {
     "name": "stdout",
     "output_type": "stream",
     "text": [
      "<class 'pandas.core.frame.DataFrame'>\n",
      "RangeIndex: 9240 entries, 0 to 9239\n",
      "Data columns (total 37 columns):\n",
      " #   Column                                         Non-Null Count  Dtype  \n",
      "---  ------                                         --------------  -----  \n",
      " 0   Prospect ID                                    9240 non-null   object \n",
      " 1   Lead Number                                    9240 non-null   int64  \n",
      " 2   Lead Origin                                    9240 non-null   object \n",
      " 3   Lead Source                                    9204 non-null   object \n",
      " 4   Do Not Email                                   9240 non-null   object \n",
      " 5   Do Not Call                                    9240 non-null   object \n",
      " 6   Converted                                      9240 non-null   int64  \n",
      " 7   TotalVisits                                    9103 non-null   float64\n",
      " 8   Total Time Spent on Website                    9240 non-null   int64  \n",
      " 9   Page Views Per Visit                           9103 non-null   float64\n",
      " 10  Last Activity                                  9137 non-null   object \n",
      " 11  Country                                        6779 non-null   object \n",
      " 12  Specialization                                 7802 non-null   object \n",
      " 13  How did you hear about X Education             7033 non-null   object \n",
      " 14  What is your current occupation                6550 non-null   object \n",
      " 15  What matters most to you in choosing a course  6531 non-null   object \n",
      " 16  Search                                         9240 non-null   object \n",
      " 17  Magazine                                       9240 non-null   object \n",
      " 18  Newspaper Article                              9240 non-null   object \n",
      " 19  X Education Forums                             9240 non-null   object \n",
      " 20  Newspaper                                      9240 non-null   object \n",
      " 21  Digital Advertisement                          9240 non-null   object \n",
      " 22  Through Recommendations                        9240 non-null   object \n",
      " 23  Receive More Updates About Our Courses         9240 non-null   object \n",
      " 24  Tags                                           5887 non-null   object \n",
      " 25  Lead Quality                                   4473 non-null   object \n",
      " 26  Update me on Supply Chain Content              9240 non-null   object \n",
      " 27  Get updates on DM Content                      9240 non-null   object \n",
      " 28  Lead Profile                                   6531 non-null   object \n",
      " 29  City                                           7820 non-null   object \n",
      " 30  Asymmetrique Activity Index                    5022 non-null   object \n",
      " 31  Asymmetrique Profile Index                     5022 non-null   object \n",
      " 32  Asymmetrique Activity Score                    5022 non-null   float64\n",
      " 33  Asymmetrique Profile Score                     5022 non-null   float64\n",
      " 34  I agree to pay the amount through cheque       9240 non-null   object \n",
      " 35  A free copy of Mastering The Interview         9240 non-null   object \n",
      " 36  Last Notable Activity                          9240 non-null   object \n",
      "dtypes: float64(4), int64(3), object(30)\n",
      "memory usage: 2.6+ MB\n"
     ]
    }
   ],
   "source": [
    "df.info()"
   ]
  },
  {
   "cell_type": "code",
   "execution_count": 12,
   "id": "04c11537",
   "metadata": {},
   "outputs": [],
   "source": [
    "# Replacing 'Select' with NaN (As it means no option is selected)\n",
    "df = df.replace('Select', np.nan)"
   ]
  },
  {
   "cell_type": "code",
   "execution_count": 13,
   "id": "d65f65a9",
   "metadata": {},
   "outputs": [
    {
     "data": {
      "text/plain": [
       "Prospect ID                                      9240\n",
       "Lead Number                                      9240\n",
       "Lead Origin                                         5\n",
       "Lead Source                                        21\n",
       "Do Not Email                                        2\n",
       "Do Not Call                                         2\n",
       "Converted                                           2\n",
       "TotalVisits                                        41\n",
       "Total Time Spent on Website                      1731\n",
       "Page Views Per Visit                              114\n",
       "Last Activity                                      17\n",
       "Country                                            38\n",
       "Specialization                                     18\n",
       "How did you hear about X Education                  9\n",
       "What is your current occupation                     6\n",
       "What matters most to you in choosing a course       3\n",
       "Search                                              2\n",
       "Magazine                                            1\n",
       "Newspaper Article                                   2\n",
       "X Education Forums                                  2\n",
       "Newspaper                                           2\n",
       "Digital Advertisement                               2\n",
       "Through Recommendations                             2\n",
       "Receive More Updates About Our Courses              1\n",
       "Tags                                               26\n",
       "Lead Quality                                        5\n",
       "Update me on Supply Chain Content                   1\n",
       "Get updates on DM Content                           1\n",
       "Lead Profile                                        5\n",
       "City                                                6\n",
       "Asymmetrique Activity Index                         3\n",
       "Asymmetrique Profile Index                          3\n",
       "Asymmetrique Activity Score                        12\n",
       "Asymmetrique Profile Score                         10\n",
       "I agree to pay the amount through cheque            1\n",
       "A free copy of Mastering The Interview              2\n",
       "Last Notable Activity                              16\n",
       "dtype: int64"
      ]
     },
     "execution_count": 13,
     "metadata": {},
     "output_type": "execute_result"
    }
   ],
   "source": [
    "# Checking if there are columns with one unique value since it won't affect our analysis\n",
    "df.nunique()"
   ]
  },
  {
   "cell_type": "code",
   "execution_count": 14,
   "id": "12f8d5a2",
   "metadata": {},
   "outputs": [],
   "source": [
    "# Removing Id values since they are unique for everyone\n",
    "df = df.drop(['Prospect ID'],axis =  1)\n",
    "\n",
    "# Dropping single valued columns\n",
    "df = df.drop(['Magazine',\n",
    "              'Receive More Updates About Our Courses',\n",
    "              'I agree to pay the amount through cheque',\n",
    "              'Get updates on DM Content',\n",
    "              'Update me on Supply Chain Content'],axis=1)"
   ]
  },
  {
   "cell_type": "code",
   "execution_count": 15,
   "id": "d4ce8866",
   "metadata": {},
   "outputs": [
    {
     "data": {
      "text/plain": [
       "Lead Number                                       0.00\n",
       "Lead Origin                                       0.00\n",
       "Lead Source                                       0.39\n",
       "Do Not Email                                      0.00\n",
       "Do Not Call                                       0.00\n",
       "Converted                                         0.00\n",
       "TotalVisits                                       1.48\n",
       "Total Time Spent on Website                       0.00\n",
       "Page Views Per Visit                              1.48\n",
       "Last Activity                                     1.11\n",
       "Country                                          26.63\n",
       "Specialization                                   36.58\n",
       "How did you hear about X Education               78.46\n",
       "What is your current occupation                  29.11\n",
       "What matters most to you in choosing a course    29.32\n",
       "Search                                            0.00\n",
       "Newspaper Article                                 0.00\n",
       "X Education Forums                                0.00\n",
       "Newspaper                                         0.00\n",
       "Digital Advertisement                             0.00\n",
       "Through Recommendations                           0.00\n",
       "Tags                                             36.29\n",
       "Lead Quality                                     51.59\n",
       "Lead Profile                                     74.19\n",
       "City                                             39.71\n",
       "Asymmetrique Activity Index                      45.65\n",
       "Asymmetrique Profile Index                       45.65\n",
       "Asymmetrique Activity Score                      45.65\n",
       "Asymmetrique Profile Score                       45.65\n",
       "A free copy of Mastering The Interview            0.00\n",
       "Last Notable Activity                             0.00\n",
       "dtype: float64"
      ]
     },
     "execution_count": 15,
     "metadata": {},
     "output_type": "execute_result"
    }
   ],
   "source": [
    "# Checking the percentage of missing values\n",
    "round(100*(df.isnull().sum()/len(df.index)), 2)"
   ]
  },
  {
   "cell_type": "code",
   "execution_count": 16,
   "id": "9ce0851e",
   "metadata": {},
   "outputs": [],
   "source": [
    "# Removing columns with  >=40% null values\n",
    "df1 = df.loc[:, round(100*(df.isnull().sum()/len(df.index)), 2) < 40]"
   ]
  },
  {
   "cell_type": "code",
   "execution_count": 17,
   "id": "f078136d",
   "metadata": {},
   "outputs": [
    {
     "data": {
      "text/plain": [
       "Lead Number                                       0.00\n",
       "Lead Origin                                       0.00\n",
       "Lead Source                                       0.39\n",
       "Do Not Email                                      0.00\n",
       "Do Not Call                                       0.00\n",
       "Converted                                         0.00\n",
       "TotalVisits                                       1.48\n",
       "Total Time Spent on Website                       0.00\n",
       "Page Views Per Visit                              1.48\n",
       "Last Activity                                     1.11\n",
       "Country                                          26.63\n",
       "Specialization                                   36.58\n",
       "What is your current occupation                  29.11\n",
       "What matters most to you in choosing a course    29.32\n",
       "Search                                            0.00\n",
       "Newspaper Article                                 0.00\n",
       "X Education Forums                                0.00\n",
       "Newspaper                                         0.00\n",
       "Digital Advertisement                             0.00\n",
       "Through Recommendations                           0.00\n",
       "Tags                                             36.29\n",
       "City                                             39.71\n",
       "A free copy of Mastering The Interview            0.00\n",
       "Last Notable Activity                             0.00\n",
       "dtype: float64"
      ]
     },
     "execution_count": 17,
     "metadata": {},
     "output_type": "execute_result"
    }
   ],
   "source": [
    "# Checking the % of missing values in new dataframe\n",
    "round(100*(df1.isnull().sum()/len(df1.index)), 2)"
   ]
  },
  {
   "cell_type": "markdown",
   "id": "fbf2e652",
   "metadata": {},
   "source": [
    "Dealing with Null values"
   ]
  },
  {
   "cell_type": "markdown",
   "id": "7f1bd7bf",
   "metadata": {},
   "source": [
    "\n",
    "`City`, `Specialization`, `Tags`, `Country`, `What matters most to you in choosing a course`, `What is your current occupation`\n",
    "These 6 columns have the next highest null value percentages, Looking into them for further analysis\n",
    "\n"
   ]
  },
  {
   "cell_type": "code",
   "execution_count": 13,
   "id": "fb595b02",
   "metadata": {},
   "outputs": [
    {
     "name": "stdout",
     "output_type": "stream",
     "text": [
      "Countplot for City\n"
     ]
    },
    {
     "data": {
      "image/png": "[encoded data removed]",
      "text/plain": [
       "<Figure size 576x288 with 1 Axes>"
      ]
     },
     "metadata": {
      "needs_background": "light"
     },
     "output_type": "display_data"
    },
    {
     "name": "stdout",
     "output_type": "stream",
     "text": [
      "Countplot for Specialization\n"
     ]
    },
    {
     "data": {
      "image/png": "[encoded data removed]",
      "text/plain": [
       "<Figure size 576x288 with 1 Axes>"
      ]
     },
     "metadata": {
      "needs_background": "light"
     },
     "output_type": "display_data"
    },
    {
     "name": "stdout",
     "output_type": "stream",
     "text": [
      "Countplot for Tags\n"
     ]
    },
    {
     "data": {
      "image/png": "[encoded data removed]",
      "text/plain": [
       "<Figure size 576x288 with 1 Axes>"
      ]
     },
     "metadata": {
      "needs_background": "light"
     },
     "output_type": "display_data"
    },
    {
     "name": "stdout",
     "output_type": "stream",
     "text": [
      "Countplot for Country\n"
     ]
    },
    {
     "data": {
      "image/png": "[encoded data removed]",
      "text/plain": [
       "<Figure size 576x288 with 1 Axes>"
      ]
     },
     "metadata": {
      "needs_background": "light"
     },
     "output_type": "display_data"
    },
    {
     "name": "stdout",
     "output_type": "stream",
     "text": [
      "Countplot for What matters most to you in choosing a course\n"
     ]
    },
    {
     "data": {
      "image/png": "[encoded data removed]",
      "text/plain": [
       "<Figure size 576x288 with 1 Axes>"
      ]
     },
     "metadata": {
      "needs_background": "light"
     },
     "output_type": "display_data"
    },
    {
     "name": "stdout",
     "output_type": "stream",
     "text": [
      "Countplot for What is your current occupation\n"
     ]
    },
    {
     "data": {
      "image/png": "[encoded data removed]",
      "text/plain": [
       "<Figure size 576x288 with 1 Axes>"
      ]
     },
     "metadata": {
      "needs_background": "light"
     },
     "output_type": "display_data"
    }
   ],
   "source": [
    "null_val_cols = ['City', 'Specialization', 'Tags', 'Country', 'What matters most to you in choosing a course', \n",
    "                 'What is your current occupation']\n",
    "\n",
    "for col in null_val_cols:\n",
    "    print(\"Countplot for\", col)\n",
    "    plt.rcParams[\"figure.figsize\"] = (8,4)\n",
    "    sns.countplot(x =col, data=df)\n",
    "    xticks(rotation = 90)\n",
    "    plt.show()"
   ]
  },
  {
   "cell_type": "markdown",
   "id": "6e2de58b",
   "metadata": {},
   "source": [
    "#Checking Country and City Column percentage distribution\n",
    "print('Country % distribution')\n",
    "print(round(100*(df['Country'].value_counts(normalize=True)),2))\n",
    "print('------------------------------------------------------')\n",
    "print('City % distribution')\n",
    "print(round(100*(df['City'].value_counts(normalize=True)),2))"
   ]
  },
  {
   "cell_type": "code",
   "execution_count": 18,
   "id": "8d94c5c7",
   "metadata": {},
   "outputs": [],
   "source": [
    "# More than 95% of the total data is country 'India'. \n",
    "# Since remaining countries are not that significant, we will drop the country column.\n",
    "df = df.drop(['Country'], axis=1)\n",
    "\n",
    "# Around 58% of the total data is city 'Mumbai'. So we will impute Mumbai for NaN values.\n",
    "df['City'] = df['City'].replace(np.nan, 'Mumbai')\n",
    "\n",
    "#Remaining four columns do data is unavailable, so we will impute 'Not Provided' for NaN values.\n",
    "df['Specialization'] = df['Specialization'].replace(np.nan, 'Not Provided')\n",
    "df['Tags'] = df['Tags'].replace(np.nan, 'Not Provided')\n",
    "df['What matters most to you in choosing a course'] = df['What matters most to you in choosing a course'].replace(np.nan, 'Not Provided')\n",
    "df['What is your current occupation'] = df['What is your current occupation'].replace(np.nan, 'Not Provided')"
   ]
  },
  {
   "cell_type": "code",
   "execution_count": 28,
   "id": "4e565ab3",
   "metadata": {},
   "outputs": [
    {
     "data": {
      "text/plain": [
       "Lead Number                                       0.00\n",
       "Lead Origin                                       0.00\n",
       "Lead Source                                       0.39\n",
       "Do Not Email                                      0.00\n",
       "Do Not Call                                       0.00\n",
       "Converted                                         0.00\n",
       "TotalVisits                                       1.48\n",
       "Total Time Spent on Website                       0.00\n",
       "Page Views Per Visit                              1.48\n",
       "Last Activity                                     1.11\n",
       "Specialization                                    0.00\n",
       "How did you hear about X Education               78.46\n",
       "What is your current occupation                   0.00\n",
       "What matters most to you in choosing a course     0.00\n",
       "Search                                            0.00\n",
       "Newspaper Article                                 0.00\n",
       "X Education Forums                                0.00\n",
       "Newspaper                                         0.00\n",
       "Digital Advertisement                             0.00\n",
       "Through Recommendations                           0.00\n",
       "Tags                                              0.00\n",
       "Lead Quality                                     51.59\n",
       "Lead Profile                                     74.19\n",
       "City                                              0.00\n",
       "Asymmetrique Activity Index                      45.65\n",
       "Asymmetrique Profile Index                       45.65\n",
       "Asymmetrique Activity Score                      45.65\n",
       "Asymmetrique Profile Score                       45.65\n",
       "A free copy of Mastering The Interview            0.00\n",
       "Last Notable Activity                             0.00\n",
       "dtype: float64"
      ]
     },
     "execution_count": 28,
     "metadata": {},
     "output_type": "execute_result"
    }
   ],
   "source": [
    "# Verifying the null values for all the columns now again after imputing high null value columns\n",
    "round(100*(df.isnull().sum()/len(df.index)), 2)"
   ]
  },
  {
   "cell_type": "markdown",
   "id": "809252a2",
   "metadata": {},
   "source": [
    "\n",
    "The remaining columns have less than 2% missing data which is very less. \n",
    "\n"
   ]
  },
  {
   "cell_type": "markdown",
   "id": "73b223d2",
   "metadata": {},
   "source": [
    "### Exploratory Data Analysis"
   ]
  },
  {
   "cell_type": "code",
   "execution_count": 29,
   "id": "fb2966e5",
   "metadata": {},
   "outputs": [
    {
     "name": "stdout",
     "output_type": "stream",
     "text": [
      "<class 'pandas.core.frame.DataFrame'>\n",
      "RangeIndex: 9240 entries, 0 to 9239\n",
      "Data columns (total 30 columns):\n",
      " #   Column                                         Non-Null Count  Dtype  \n",
      "---  ------                                         --------------  -----  \n",
      " 0   Lead Number                                    9240 non-null   int64  \n",
      " 1   Lead Origin                                    9240 non-null   object \n",
      " 2   Lead Source                                    9204 non-null   object \n",
      " 3   Do Not Email                                   9240 non-null   object \n",
      " 4   Do Not Call                                    9240 non-null   object \n",
      " 5   Converted                                      9240 non-null   int64  \n",
      " 6   TotalVisits                                    9103 non-null   float64\n",
      " 7   Total Time Spent on Website                    9240 non-null   int64  \n",
      " 8   Page Views Per Visit                           9103 non-null   float64\n",
      " 9   Last Activity                                  9137 non-null   object \n",
      " 10  Specialization                                 9240 non-null   object \n",
      " 11  How did you hear about X Education             1990 non-null   object \n",
      " 12  What is your current occupation                9240 non-null   object \n",
      " 13  What matters most to you in choosing a course  9240 non-null   object \n",
      " 14  Search                                         9240 non-null   object \n",
      " 15  Newspaper Article                              9240 non-null   object \n",
      " 16  X Education Forums                             9240 non-null   object \n",
      " 17  Newspaper                                      9240 non-null   object \n",
      " 18  Digital Advertisement                          9240 non-null   object \n",
      " 19  Through Recommendations                        9240 non-null   object \n",
      " 20  Tags                                           9240 non-null   object \n",
      " 21  Lead Quality                                   4473 non-null   object \n",
      " 22  Lead Profile                                   2385 non-null   object \n",
      " 23  City                                           9240 non-null   object \n",
      " 24  Asymmetrique Activity Index                    5022 non-null   object \n",
      " 25  Asymmetrique Profile Index                     5022 non-null   object \n",
      " 26  Asymmetrique Activity Score                    5022 non-null   float64\n",
      " 27  Asymmetrique Profile Score                     5022 non-null   float64\n",
      " 28  A free copy of Mastering The Interview         9240 non-null   object \n",
      " 29  Last Notable Activity                          9240 non-null   object \n",
      "dtypes: float64(4), int64(3), object(23)\n",
      "memory usage: 2.1+ MB\n"
     ]
    }
   ],
   "source": [
    "df.info()"
   ]
  },
  {
   "cell_type": "code",
   "execution_count": 34,
   "id": "f4869c70",
   "metadata": {},
   "outputs": [
    {
     "data": {
      "image/png": "[encoded data removed]",
      "text/plain": [
       "<Figure size 1296x792 with 9 Axes>"
      ]
     },
     "metadata": {},
     "output_type": "display_data"
    }
   ],
   "source": [
    "# Univariate Analysis\n",
    "# Analyzing few Category columns\n",
    "cat_cols = [ 'Do Not Email', 'Do Not Call',   \n",
    "            'Search', 'Newspaper Article', 'X Education Forums', 'Newspaper', \n",
    "            'Digital Advertisement', 'Through Recommendations',\n",
    "            'A free copy of Mastering The Interview']\n",
    "\n",
    "fig, ax = plt.subplots(3,3, figsize = (18,11))\n",
    "counter=0\n",
    "for i in cat_cols:\n",
    "    trace_x = counter // 3\n",
    "    trace_y = counter % 3\n",
    "    sns.countplot(x=i,ax=ax[trace_x, trace_y], data=df)\n",
    "    counter += 1\n",
    "plt.show()"
   ]
  },
  {
   "cell_type": "code",
   "execution_count": 32,
   "id": "8cbd82cb",
   "metadata": {},
   "outputs": [
    {
     "data": {
      "image/png": "[encoded data removed]",
      "text/plain": [
       "<Figure size 432x216 with 1 Axes>"
      ]
     },
     "metadata": {},
     "output_type": "display_data"
    },
    {
     "data": {
      "image/png": "[encoded data removed]",
      "text/plain": [
       "<Figure size 432x216 with 1 Axes>"
      ]
     },
     "metadata": {},
     "output_type": "display_data"
    },
    {
     "data": {
      "image/png": "[encoded data removed]",
      "text/plain": [
       "<Figure size 432x216 with 1 Axes>"
      ]
     },
     "metadata": {},
     "output_type": "display_data"
    },
    {
     "data": {
      "image/png": "[encoded data removed]",
      "text/plain": [
       "<Figure size 432x216 with 1 Axes>"
      ]
     },
     "metadata": {},
     "output_type": "display_data"
    },
    {
     "data": {
      "image/png": "[encoded data removed]",
      "text/plain": [
       "<Figure size 432x216 with 1 Axes>"
      ]
     },
     "metadata": {},
     "output_type": "display_data"
    }
   ],
   "source": [
    "#Function to plot countplot\n",
    "def plot_countplot(column, dataframe):\n",
    "    plt.figure(figsize=(6,3))\n",
    "    sns.countplot(x=column, data=dataframe).tick_params(axis='x', rotation = 90)\n",
    "    plt.title(column)\n",
    "    plt.show()\n",
    "\n",
    "# Analyzing remaining category columns\n",
    "remaining_cat_cols = ['Lead Origin', 'Last Activity', 'Last Notable Activity', 'Lead Source', 'Converted']\n",
    "for col in remaining_cat_cols:\n",
    "    plot_countplot(col, df)"
   ]
  },
  {
   "cell_type": "markdown",
   "id": "d0e69ce1",
   "metadata": {},
   "source": [
    "Numerical Variables"
   ]
  },
  {
   "cell_type": "code",
   "execution_count": 33,
   "id": "9ae5bca5",
   "metadata": {},
   "outputs": [
    {
     "data": {
      "image/png": "[encoded data removed]",
      "text/plain": [
       "<Figure size 864x216 with 3 Axes>"
      ]
     },
     "metadata": {},
     "output_type": "display_data"
    }
   ],
   "source": [
    "plt.figure(figsize = (12,3))\n",
    "plt.subplot(131)\n",
    "plt.hist(df['TotalVisits'], bins = 200)\n",
    "plt.title('Total Visits')\n",
    "plt.xlim(0,25)\n",
    "\n",
    "plt.subplot(132)\n",
    "plt.hist(df['Total Time Spent on Website'], bins = 10)\n",
    "plt.title('Total Time Spent on Website')\n",
    "\n",
    "plt.subplot(133)\n",
    "plt.hist(df['Page Views Per Visit'], bins = 20)\n",
    "plt.title('Page Views Per Visit')\n",
    "plt.xlim(0,20)\n",
    "plt.show()"
   ]
  },
  {
   "cell_type": "markdown",
   "id": "9a80fde8",
   "metadata": {},
   "source": [
    "Bivariate Analysis\n",
    "\n"
   ]
  },
  {
   "cell_type": "code",
   "execution_count": 35,
   "id": "83f97f47",
   "metadata": {},
   "outputs": [
    {
     "data": {
      "image/png": "[encoded data removed]",
      "text/plain": [
       "<Figure size 1440x2880 with 11 Axes>"
      ]
     },
     "metadata": {},
     "output_type": "display_data"
    }
   ],
   "source": [
    "plt.figure(figsize = (20, 40))\n",
    "\n",
    "# Function to plot upto 12 bivariate countplots\n",
    "def plot_bivariate_countplot(fignum, x_col, hue_col, dataframe):\n",
    "    plt.subplot(6,2,fignum)\n",
    "    sns.countplot(x=x_col, hue=hue_col, data=dataframe).tick_params(axis='x', rotation = 90)\n",
    "    plt.title(x_col)\n",
    "\n",
    "plot_bivariate_countplot(1,'Lead Origin', 'Converted', df)\n",
    "plot_bivariate_countplot(2,'Lead Source', 'Converted', df)\n",
    "plot_bivariate_countplot(3,'Do Not Email', 'Converted', df)\n",
    "plot_bivariate_countplot(4,'Do Not Call', 'Converted', df)\n",
    "plot_bivariate_countplot(5,'Last Activity', 'Converted', df)\n",
    "plot_bivariate_countplot(6,'Specialization', 'Converted', df)\n",
    "plot_bivariate_countplot(7,'What is your current occupation', 'Converted', df)\n",
    "plot_bivariate_countplot(8,'What matters most to you in choosing a course', 'Converted', df)\n",
    "plot_bivariate_countplot(9,'Search', 'Converted', df)\n",
    "plot_bivariate_countplot(10,'Newspaper Article', 'Converted', df)\n",
    "plot_bivariate_countplot(11,'X Education Forums', 'Converted', df)\n",
    "\n",
    "plt.tight_layout()\n",
    "plt.show()"
   ]
  },
  {
   "cell_type": "code",
   "execution_count": 36,
   "id": "1dafe5ce",
   "metadata": {},
   "outputs": [],
   "source": [
    "# Lead Source- nan values can be replaced with Null value\n",
    "df['Lead Source'] = df['Lead Source'].fillna('Null')\n",
    "\n",
    "# As observed from plot above, many lead sources do not contribute much\n",
    "# Replacing all other categories having low or no conversion into other platforms.\n",
    "df['Lead Source'] = df['Lead Source'].replace(['google'], 'Google')\n",
    "df['Lead Source'] = df['Lead Source'].replace([ 'blog', 'Pay per Click Ads', 'bing', 'Social Media', 'WeLearn', \n",
    "                                                  'Click2call', 'Live Chat','welearnblog_Home', 'youtubechannel', 'testone', \n",
    "                                                   'Press_Release', 'NC_EDM','Null'], 'Other_Platforms')"
   ]
  },
  {
   "cell_type": "code",
   "execution_count": 37,
   "id": "8041ce52",
   "metadata": {},
   "outputs": [],
   "source": [
    "# These Last Activity the categories are not making significant contributions - \n",
    "# 'Had a Phone Conversation', 'View in browser link Clicked', 'Visited Booth in Tradeshow', 'Approached upfront','Resubscribed to emails','Email Received', 'Email Marked Spam' \n",
    "# So we group them in Other_Activity.\n",
    "\n",
    "df['Last Activity'] = df['Last Activity'].replace(['Had a Phone Conversation', 'View in browser link Clicked', \n",
    "                                                   'Visited Booth in Tradeshow', 'Approached upfront',\n",
    "                                                   'Resubscribed to emails','Email Received', 'Email Marked Spam'], \n",
    "                                                   'Other_Activity')"
   ]
  },
  {
   "cell_type": "code",
   "execution_count": 38,
   "id": "b6d4d2b2",
   "metadata": {},
   "outputs": [],
   "source": [
    "# Conversion rate is higher in 'Will revert after reading the email'.\n",
    "\n",
    "# Let's keep considerable last activities as such and club all others to \"Other_Activity\"\n",
    "df['Tags'] = df['Tags'].replace(['In confusion whether part time or DLP', 'in touch with EINS','Diploma holder (Not Eligible)',\n",
    "                                     'Approached upfront','Graduation in progress','number not provided', 'opp hangup','Still Thinking',\n",
    "                                    'Lost to Others','Shall take in the next coming month','Lateral student','Interested in Next batch',\n",
    "                                    'Recognition issue (DEC approval)','Want to take admission but has financial problems',\n",
    "                                    'University not recognized'], 'Other_Tags')"
   ]
  },
  {
   "cell_type": "code",
   "execution_count": 39,
   "id": "eb368530",
   "metadata": {},
   "outputs": [],
   "source": [
    "# In Last notable Activity column, We can see that these categories have no value at all - \n",
    "# 'Approached upfront','Resubscribed to emails', 'View in browser link Clicked','Form Submitted on Website', 'Email Received', 'Email Marked Spam' \n",
    "\n",
    "# Let's keep considerable last activities as such and club all others to \"Other_Activity\"\n",
    "df['Last Notable Activity'] = df['Last Notable Activity'].replace(['Approached upfront','Resubscribed to emails', \n",
    "                                                                   'View in browser link Clicked','Form Submitted on Website', \n",
    "                                                                   'Email Received', 'Email Marked Spam'], 'Other_Last_Notable_Activity')"
   ]
  },
  {
   "cell_type": "markdown",
   "id": "94258c38",
   "metadata": {},
   "source": [
    "#### Treating Outliers"
   ]
  },
  {
   "cell_type": "code",
   "execution_count": 40,
   "id": "903880c4",
   "metadata": {},
   "outputs": [
    {
     "data": {
      "image/png": "[encoded data removed]",
      "text/plain": [
       "<Figure size 1080x360 with 3 Axes>"
      ]
     },
     "metadata": {},
     "output_type": "display_data"
    }
   ],
   "source": [
    "cols = ['Total Time Spent on Website', 'Page Views Per Visit','TotalVisits']\n",
    "# Plotting for outliers\n",
    "plt.figure(figsize = (15, 5))\n",
    "for i, col in enumerate(cols):\n",
    "    plt.subplot(1,3, i+1)\n",
    "    sns.boxplot(df[col])\n",
    "plt.show()"
   ]
  },
  {
   "cell_type": "code",
   "execution_count": 41,
   "id": "8375bb50",
   "metadata": {},
   "outputs": [],
   "source": [
    "# Removing outliers using 1.5 IQR method\n",
    "for col in cols:\n",
    "    q1 = df[col].quantile(0.25)\n",
    "    q3 = df[col].quantile(0.75)\n",
    "\n",
    "    iqr = q3 - q1\n",
    "\n",
    "    lower_bound = q1 -(1.5 * iqr) \n",
    "    upper_bound = q3 +(1.5 * iqr)\n",
    "\n",
    "    df = df.loc[(df[col] >= lower_bound) & (df[col] <= upper_bound)]"
   ]
  },
  {
   "cell_type": "code",
   "execution_count": 42,
   "id": "b94b3af5",
   "metadata": {},
   "outputs": [
    {
     "data": {
      "image/png": "[encoded data removed]",
      "text/plain": [
       "<Figure size 1080x360 with 3 Axes>"
      ]
     },
     "metadata": {},
     "output_type": "display_data"
    }
   ],
   "source": [
    "# Plotting for outliers\n",
    "plt.figure(figsize = (15, 5))\n",
    "for i, col in enumerate(cols):\n",
    "    plt.subplot(1,3, i+1)\n",
    "    sns.boxplot(df[col])\n",
    "plt.show()"
   ]
  },
  {
   "cell_type": "markdown",
   "id": "d0b9311f",
   "metadata": {},
   "source": [
    "#### Observations\n",
    "\n",
    "From the above visualization and analysis we come to the conclusion that the below columns are not relevant from business perspective- \n",
    "\n",
    "'What matters most to you in choosing a course','Search','Newspaper Article',\n",
    "'X Education Forums','Newspaper','Digital Advertisement','Through Recommendations',\n",
    "'A free copy of Mastering The Interview'"
   ]
  },
  {
   "cell_type": "code",
   "execution_count": 44,
   "id": "387fe765",
   "metadata": {},
   "outputs": [],
   "source": [
    "# We will drop all those columns that are not relevant from our business perspective.\n",
    "\n",
    "new_df= df.copy()\n",
    "new_df= new_df.drop(['What matters most to you in choosing a course','Search','Newspaper Article',\n",
    "                     'X Education Forums','Newspaper','Digital Advertisement','Through Recommendations',\n",
    "                     'A free copy of Mastering The Interview'], axis =1)"
   ]
  },
  {
   "cell_type": "markdown",
   "id": "63e55a06",
   "metadata": {},
   "source": [
    "Let's check correlation between the variables"
   ]
  },
  {
   "cell_type": "code",
   "execution_count": null,
   "id": "ee97a793",
   "metadata": {},
   "outputs": [],
   "source": [
    "# To check the correlation \n",
    "plt.figure(figsize=(6,3))\n",
    "sns.heatmap(df.corr(), )\n",
    "plt.show()"
   ]
  },
  {
   "cell_type": "markdown",
   "id": "1eb6e268",
   "metadata": {},
   "source": []
  },
  {
   "cell_type": "code",
   "execution_count": 32,
   "id": "cd2cba87",
   "metadata": {},
   "outputs": [
    {
     "name": "stdout",
     "output_type": "stream",
     "text": [
      "<class 'pandas.core.frame.DataFrame'>\n",
      "Int64Index: 8474 entries, 0 to 9239\n",
      "Data columns (total 15 columns):\n",
      " #   Column                           Non-Null Count  Dtype  \n",
      "---  ------                           --------------  -----  \n",
      " 0   Lead Number                      8474 non-null   int64  \n",
      " 1   Lead Origin                      8474 non-null   object \n",
      " 2   Lead Source                      8474 non-null   object \n",
      " 3   Do Not Email                     8474 non-null   object \n",
      " 4   Do Not Call                      8474 non-null   object \n",
      " 5   Converted                        8474 non-null   int64  \n",
      " 6   TotalVisits                      8474 non-null   float64\n",
      " 7   Total Time Spent on Website      8474 non-null   int64  \n",
      " 8   Page Views Per Visit             8474 non-null   float64\n",
      " 9   Last Activity                    8474 non-null   object \n",
      " 10  Specialization                   8474 non-null   object \n",
      " 11  What is your current occupation  8474 non-null   object \n",
      " 12  Tags                             8474 non-null   object \n",
      " 13  City                             8474 non-null   object \n",
      " 14  Last Notable Activity            8474 non-null   object \n",
      "dtypes: float64(2), int64(3), object(10)\n",
      "memory usage: 1.3+ MB\n"
     ]
    }
   ],
   "source": [
    "new_df.info()"
   ]
  },
  {
   "cell_type": "markdown",
   "id": "044ff92c",
   "metadata": {},
   "source": [
    "Creating Dummy Variables"
   ]
  },
  {
   "cell_type": "code",
   "execution_count": 47,
   "id": "e89848ac",
   "metadata": {},
   "outputs": [],
   "source": [
    "# converting binary variables Yes/No to 1/0\n",
    "\n",
    "yes_no_cols = ['Do Not Email', 'Do Not Call']\n",
    "def binary_map(x):\n",
    "    return x.map({'Yes': 1, \"No\": 0})\n",
    "\n",
    "new_df[yes_no_cols] = new_df[yes_no_cols].apply(binary_map) "
   ]
  },
  {
   "cell_type": "code",
   "execution_count": 48,
   "id": "b21fb2fe",
   "metadata": {},
   "outputs": [
    {
     "data": {
      "text/plain": [
       "(8474, 87)"
      ]
     },
     "execution_count": 48,
     "metadata": {},
     "output_type": "execute_result"
    }
   ],
   "source": [
    "columns_for_dummies = ['Lead Origin', 'Lead Source', 'Last Activity', 'Specialization',\n",
    "                       'What is your current occupation','Tags', 'City', 'Last Notable Activity']\n",
    "\n",
    "# creating dummy columns\n",
    "dummies = pd.get_dummies(new_df[columns_for_dummies], drop_first=True)\n",
    "\n",
    "# concat with original data set\n",
    "new_df = pd.concat([new_df, dummies], axis = 1)\n",
    "\n",
    "# dropping the original columns\n",
    "new_df.drop(columns_for_dummies, axis = 1, inplace = True)\n",
    "new_df.shape"
   ]
  },
  {
   "cell_type": "code",
   "execution_count": 49,
   "id": "afa950a4",
   "metadata": {},
   "outputs": [],
   "source": [
    "new_df.set_index('Lead Number', inplace = True)"
   ]
  },
  {
   "cell_type": "code",
   "execution_count": 50,
   "id": "6ccbd4a7",
   "metadata": {},
   "outputs": [
    {
     "data": {
      "text/html": [
       "<div>\n",
       "<style scoped>\n",
       "    .dataframe tbody tr th:only-of-type {\n",
       "        vertical-align: middle;\n",
       "    }\n",
       "\n",
       "    .dataframe tbody tr th {\n",
       "        vertical-align: top;\n",
       "    }\n",
       "\n",
       "    .dataframe thead th {\n",
       "        text-align: right;\n",
       "    }\n",
       "</style>\n",
       "<table border=\"1\" class=\"dataframe\">\n",
       "  <thead>\n",
       "    <tr style=\"text-align: right;\">\n",
       "      <th></th>\n",
       "      <th>Do Not Email</th>\n",
       "      <th>Do Not Call</th>\n",
       "      <th>Converted</th>\n",
       "      <th>TotalVisits</th>\n",
       "      <th>Total Time Spent on Website</th>\n",
       "      <th>Page Views Per Visit</th>\n",
       "      <th>How did you hear about X Education</th>\n",
       "      <th>Lead Quality</th>\n",
       "      <th>Lead Profile</th>\n",
       "      <th>Asymmetrique Activity Index</th>\n",
       "      <th>...</th>\n",
       "      <th>Last Notable Activity_Email Link Clicked</th>\n",
       "      <th>Last Notable Activity_Email Opened</th>\n",
       "      <th>Last Notable Activity_Had a Phone Conversation</th>\n",
       "      <th>Last Notable Activity_Modified</th>\n",
       "      <th>Last Notable Activity_Olark Chat Conversation</th>\n",
       "      <th>Last Notable Activity_Other_Last_Notable_Activity</th>\n",
       "      <th>Last Notable Activity_Page Visited on Website</th>\n",
       "      <th>Last Notable Activity_SMS Sent</th>\n",
       "      <th>Last Notable Activity_Unreachable</th>\n",
       "      <th>Last Notable Activity_Unsubscribed</th>\n",
       "    </tr>\n",
       "    <tr>\n",
       "      <th>Lead Number</th>\n",
       "      <th></th>\n",
       "      <th></th>\n",
       "      <th></th>\n",
       "      <th></th>\n",
       "      <th></th>\n",
       "      <th></th>\n",
       "      <th></th>\n",
       "      <th></th>\n",
       "      <th></th>\n",
       "      <th></th>\n",
       "      <th></th>\n",
       "      <th></th>\n",
       "      <th></th>\n",
       "      <th></th>\n",
       "      <th></th>\n",
       "      <th></th>\n",
       "      <th></th>\n",
       "      <th></th>\n",
       "      <th></th>\n",
       "      <th></th>\n",
       "      <th></th>\n",
       "    </tr>\n",
       "  </thead>\n",
       "  <tbody>\n",
       "    <tr>\n",
       "      <th>660737</th>\n",
       "      <td>0</td>\n",
       "      <td>0</td>\n",
       "      <td>0</td>\n",
       "      <td>0.0</td>\n",
       "      <td>0</td>\n",
       "      <td>0.0</td>\n",
       "      <td>NaN</td>\n",
       "      <td>Low in Relevance</td>\n",
       "      <td>NaN</td>\n",
       "      <td>02.Medium</td>\n",
       "      <td>...</td>\n",
       "      <td>False</td>\n",
       "      <td>False</td>\n",
       "      <td>False</td>\n",
       "      <td>True</td>\n",
       "      <td>False</td>\n",
       "      <td>False</td>\n",
       "      <td>False</td>\n",
       "      <td>False</td>\n",
       "      <td>False</td>\n",
       "      <td>False</td>\n",
       "    </tr>\n",
       "    <tr>\n",
       "      <th>660728</th>\n",
       "      <td>0</td>\n",
       "      <td>0</td>\n",
       "      <td>0</td>\n",
       "      <td>5.0</td>\n",
       "      <td>674</td>\n",
       "      <td>2.5</td>\n",
       "      <td>NaN</td>\n",
       "      <td>NaN</td>\n",
       "      <td>NaN</td>\n",
       "      <td>02.Medium</td>\n",
       "      <td>...</td>\n",
       "      <td>False</td>\n",
       "      <td>True</td>\n",
       "      <td>False</td>\n",
       "      <td>False</td>\n",
       "      <td>False</td>\n",
       "      <td>False</td>\n",
       "      <td>False</td>\n",
       "      <td>False</td>\n",
       "      <td>False</td>\n",
       "      <td>False</td>\n",
       "    </tr>\n",
       "    <tr>\n",
       "      <th>660727</th>\n",
       "      <td>0</td>\n",
       "      <td>0</td>\n",
       "      <td>1</td>\n",
       "      <td>2.0</td>\n",
       "      <td>1532</td>\n",
       "      <td>2.0</td>\n",
       "      <td>NaN</td>\n",
       "      <td>Might be</td>\n",
       "      <td>Potential Lead</td>\n",
       "      <td>02.Medium</td>\n",
       "      <td>...</td>\n",
       "      <td>False</td>\n",
       "      <td>True</td>\n",
       "      <td>False</td>\n",
       "      <td>False</td>\n",
       "      <td>False</td>\n",
       "      <td>False</td>\n",
       "      <td>False</td>\n",
       "      <td>False</td>\n",
       "      <td>False</td>\n",
       "      <td>False</td>\n",
       "    </tr>\n",
       "    <tr>\n",
       "      <th>660719</th>\n",
       "      <td>0</td>\n",
       "      <td>0</td>\n",
       "      <td>0</td>\n",
       "      <td>1.0</td>\n",
       "      <td>305</td>\n",
       "      <td>1.0</td>\n",
       "      <td>Word Of Mouth</td>\n",
       "      <td>Not Sure</td>\n",
       "      <td>NaN</td>\n",
       "      <td>02.Medium</td>\n",
       "      <td>...</td>\n",
       "      <td>False</td>\n",
       "      <td>False</td>\n",
       "      <td>False</td>\n",
       "      <td>True</td>\n",
       "      <td>False</td>\n",
       "      <td>False</td>\n",
       "      <td>False</td>\n",
       "      <td>False</td>\n",
       "      <td>False</td>\n",
       "      <td>False</td>\n",
       "    </tr>\n",
       "    <tr>\n",
       "      <th>660681</th>\n",
       "      <td>0</td>\n",
       "      <td>0</td>\n",
       "      <td>1</td>\n",
       "      <td>2.0</td>\n",
       "      <td>1428</td>\n",
       "      <td>1.0</td>\n",
       "      <td>Other</td>\n",
       "      <td>Might be</td>\n",
       "      <td>NaN</td>\n",
       "      <td>02.Medium</td>\n",
       "      <td>...</td>\n",
       "      <td>False</td>\n",
       "      <td>False</td>\n",
       "      <td>False</td>\n",
       "      <td>True</td>\n",
       "      <td>False</td>\n",
       "      <td>False</td>\n",
       "      <td>False</td>\n",
       "      <td>False</td>\n",
       "      <td>False</td>\n",
       "      <td>False</td>\n",
       "    </tr>\n",
       "  </tbody>\n",
       "</table>\n",
       "<p>5 rows × 86 columns</p>\n",
       "</div>"
      ],
      "text/plain": [
       "             Do Not Email  Do Not Call  Converted  TotalVisits   \n",
       "Lead Number                                                      \n",
       "660737                  0            0          0          0.0  \\\n",
       "660728                  0            0          0          5.0   \n",
       "660727                  0            0          1          2.0   \n",
       "660719                  0            0          0          1.0   \n",
       "660681                  0            0          1          2.0   \n",
       "\n",
       "             Total Time Spent on Website  Page Views Per Visit   \n",
       "Lead Number                                                      \n",
       "660737                                 0                   0.0  \\\n",
       "660728                               674                   2.5   \n",
       "660727                              1532                   2.0   \n",
       "660719                               305                   1.0   \n",
       "660681                              1428                   1.0   \n",
       "\n",
       "            How did you hear about X Education      Lead Quality   \n",
       "Lead Number                                                        \n",
       "660737                                     NaN  Low in Relevance  \\\n",
       "660728                                     NaN               NaN   \n",
       "660727                                     NaN          Might be   \n",
       "660719                           Word Of Mouth          Not Sure   \n",
       "660681                                   Other          Might be   \n",
       "\n",
       "               Lead Profile Asymmetrique Activity Index  ...   \n",
       "Lead Number                                              ...   \n",
       "660737                  NaN                   02.Medium  ...  \\\n",
       "660728                  NaN                   02.Medium  ...   \n",
       "660727       Potential Lead                   02.Medium  ...   \n",
       "660719                  NaN                   02.Medium  ...   \n",
       "660681                  NaN                   02.Medium  ...   \n",
       "\n",
       "            Last Notable Activity_Email Link Clicked   \n",
       "Lead Number                                            \n",
       "660737                                         False  \\\n",
       "660728                                         False   \n",
       "660727                                         False   \n",
       "660719                                         False   \n",
       "660681                                         False   \n",
       "\n",
       "             Last Notable Activity_Email Opened   \n",
       "Lead Number                                       \n",
       "660737                                    False  \\\n",
       "660728                                     True   \n",
       "660727                                     True   \n",
       "660719                                    False   \n",
       "660681                                    False   \n",
       "\n",
       "             Last Notable Activity_Had a Phone Conversation   \n",
       "Lead Number                                                   \n",
       "660737                                                False  \\\n",
       "660728                                                False   \n",
       "660727                                                False   \n",
       "660719                                                False   \n",
       "660681                                                False   \n",
       "\n",
       "             Last Notable Activity_Modified   \n",
       "Lead Number                                   \n",
       "660737                                 True  \\\n",
       "660728                                False   \n",
       "660727                                False   \n",
       "660719                                 True   \n",
       "660681                                 True   \n",
       "\n",
       "             Last Notable Activity_Olark Chat Conversation   \n",
       "Lead Number                                                  \n",
       "660737                                               False  \\\n",
       "660728                                               False   \n",
       "660727                                               False   \n",
       "660719                                               False   \n",
       "660681                                               False   \n",
       "\n",
       "             Last Notable Activity_Other_Last_Notable_Activity   \n",
       "Lead Number                                                      \n",
       "660737                                                   False  \\\n",
       "660728                                                   False   \n",
       "660727                                                   False   \n",
       "660719                                                   False   \n",
       "660681                                                   False   \n",
       "\n",
       "             Last Notable Activity_Page Visited on Website   \n",
       "Lead Number                                                  \n",
       "660737                                               False  \\\n",
       "660728                                               False   \n",
       "660727                                               False   \n",
       "660719                                               False   \n",
       "660681                                               False   \n",
       "\n",
       "             Last Notable Activity_SMS Sent   \n",
       "Lead Number                                   \n",
       "660737                                False  \\\n",
       "660728                                False   \n",
       "660727                                False   \n",
       "660719                                False   \n",
       "660681                                False   \n",
       "\n",
       "             Last Notable Activity_Unreachable   \n",
       "Lead Number                                      \n",
       "660737                                   False  \\\n",
       "660728                                   False   \n",
       "660727                                   False   \n",
       "660719                                   False   \n",
       "660681                                   False   \n",
       "\n",
       "             Last Notable Activity_Unsubscribed  \n",
       "Lead Number                                      \n",
       "660737                                    False  \n",
       "660728                                    False  \n",
       "660727                                    False  \n",
       "660719                                    False  \n",
       "660681                                    False  \n",
       "\n",
       "[5 rows x 86 columns]"
      ]
     },
     "execution_count": 50,
     "metadata": {},
     "output_type": "execute_result"
    }
   ],
   "source": [
    "new_df.head()"
   ]
  },
  {
   "cell_type": "code",
   "execution_count": 51,
   "id": "7a674ae4",
   "metadata": {},
   "outputs": [],
   "source": [
    "# Putting feature variable to X\n",
    "X = new_df.drop(['Converted'], axis=1)\n",
    "\n",
    "# storing response variable to y\n",
    "y = new_df['Converted']\n",
    "\n",
    "# Splitting the data into train and test\n",
    "X_train, X_test, y_train, y_test = train_test_split(X, y, train_size=0.7, test_size=0.3, random_state=100)"
   ]
  },
  {
   "cell_type": "code",
   "execution_count": 52,
   "id": "7e1d0550",
   "metadata": {},
   "outputs": [],
   "source": [
    "# Scaling for continuous variables:\n",
    "\n",
    "scaler = StandardScaler()\n",
    "\n",
    "X_train[['Total Time Spent on Website', 'Page Views Per Visit','TotalVisits']] = scaler.fit_transform(X_train[['Total Time Spent on Website', 'Page Views Per Visit',\n",
    "                                                                                                               'TotalVisits']])"
   ]
  },
  {
   "cell_type": "code",
   "execution_count": 53,
   "id": "b76d1115",
   "metadata": {},
   "outputs": [
    {
     "data": {
      "text/plain": [
       "37.65636063252301"
      ]
     },
     "execution_count": 53,
     "metadata": {},
     "output_type": "execute_result"
    }
   ],
   "source": [
    "### Checking the conversion rate\n",
    "conversion_rate = (sum(new_df['Converted'])/len(new_df['Converted'].index))*100\n",
    "conversion_rate"
   ]
  },
  {
   "cell_type": "markdown",
   "id": "d5466cb6",
   "metadata": {},
   "source": [
    "The current conversion rate is 37.65%"
   ]
  },
  {
   "cell_type": "markdown",
   "id": "89da48d3",
   "metadata": {},
   "source": [
    "### Model Building"
   ]
  },
  {
   "cell_type": "code",
   "execution_count": null,
   "id": "a1f70ea5",
   "metadata": {},
   "outputs": [],
   "source": [
    "# Logistic regression model with StatsModels\n",
    "logm1 = sm.GLM(y_train,(sm.add_constant(X_train)), family = sm.families.Binomial())\n",
    "logm1.fit().summary()"
   ]
  },
  {
   "cell_type": "markdown",
   "id": "1b894a11",
   "metadata": {},
   "source": [
    "\n",
    "RFE"
   ]
  },
  {
   "cell_type": "code",
   "execution_count": 41,
   "id": "b358dbb2",
   "metadata": {},
   "outputs": [],
   "source": [
    "\n",
    "# Creating object of LogisticRegression class from sklearn.linear_model\n",
    "logreg = LogisticRegression()\n",
    "\n",
    "# running RFE with 15 variables as output using sklearn.feature_selection\n",
    "rfe = RFE(logreg, n_features_to_select=15)             \n",
    "rfe = rfe.fit(X_train, y_train)"
   ]
  },
  {
   "cell_type": "code",
   "execution_count": 42,
   "id": "5100c489",
   "metadata": {},
   "outputs": [
    {
     "data": {
      "text/plain": [
       "Index(['Do Not Email', 'Lead Origin_Lead Add Form',\n",
       "       'Lead Source_Welingak Website', 'Last Activity_Olark Chat Conversation',\n",
       "       'What is your current occupation_Not Provided', 'Tags_Busy',\n",
       "       'Tags_Closed by Horizzon', 'Tags_Lost to EINS', 'Tags_Not Provided',\n",
       "       'Tags_Ringing', 'Tags_Will revert after reading the email',\n",
       "       'Tags_invalid number', 'Tags_switched off', 'Tags_wrong number given',\n",
       "       'Last Notable Activity_SMS Sent'],\n",
       "      dtype='object')"
      ]
     },
     "execution_count": 42,
     "metadata": {},
     "output_type": "execute_result"
    }
   ],
   "source": [
    "col = X_train.columns[rfe.support_]\n",
    "col"
   ]
  },
  {
   "cell_type": "markdown",
   "id": "080c78f6",
   "metadata": {},
   "source": [
    "VIF calculation"
   ]
  },
  {
   "cell_type": "code",
   "execution_count": 43,
   "id": "d807415e",
   "metadata": {},
   "outputs": [],
   "source": [
    "# Function to calculate VIF\n",
    "def calc_vif(column, X_train):\n",
    "    vif = pd.DataFrame()\n",
    "    vif['Features'] = X_train[column].columns\n",
    "    vif['VIF'] = [variance_inflation_factor(X_train[column].values, i) for i in range(X_train[column].shape[1])]\n",
    "    vif['VIF'] = round(vif['VIF'], 2)\n",
    "    vif = vif.sort_values(by = \"VIF\", ascending = False)\n",
    "    return vif"
   ]
  },
  {
   "cell_type": "code",
   "execution_count": 44,
   "id": "2b37164a",
   "metadata": {},
   "outputs": [
    {
     "data": {
      "text/html": [
       "<table class=\"simpletable\">\n",
       "<caption>Generalized Linear Model Regression Results</caption>\n",
       "<tr>\n",
       "  <th>Dep. Variable:</th>       <td>Converted</td>    <th>  No. Observations:  </th>  <td>  5931</td> \n",
       "</tr>\n",
       "<tr>\n",
       "  <th>Model:</th>                  <td>GLM</td>       <th>  Df Residuals:      </th>  <td>  5915</td> \n",
       "</tr>\n",
       "<tr>\n",
       "  <th>Model Family:</th>        <td>Binomial</td>     <th>  Df Model:          </th>  <td>    15</td> \n",
       "</tr>\n",
       "<tr>\n",
       "  <th>Link Function:</th>         <td>Logit</td>      <th>  Scale:             </th> <td>  1.0000</td>\n",
       "</tr>\n",
       "<tr>\n",
       "  <th>Method:</th>                <td>IRLS</td>       <th>  Log-Likelihood:    </th> <td> -1148.8</td>\n",
       "</tr>\n",
       "<tr>\n",
       "  <th>Date:</th>            <td>Sun, 04 Jun 2023</td> <th>  Deviance:          </th> <td>  2297.6</td>\n",
       "</tr>\n",
       "<tr>\n",
       "  <th>Time:</th>                <td>16:34:07</td>     <th>  Pearson chi2:      </th> <td>8.54e+03</td>\n",
       "</tr>\n",
       "<tr>\n",
       "  <th>No. Iterations:</th>         <td>22</td>        <th>  Pseudo R-squ. (CS):</th>  <td>0.6080</td> \n",
       "</tr>\n",
       "<tr>\n",
       "  <th>Covariance Type:</th>     <td>nonrobust</td>    <th>                     </th>     <td> </td>   \n",
       "</tr>\n",
       "</table>\n",
       "<table class=\"simpletable\">\n",
       "<tr>\n",
       "                        <td></td>                          <th>coef</th>     <th>std err</th>      <th>z</th>      <th>P>|z|</th>  <th>[0.025</th>    <th>0.975]</th>  \n",
       "</tr>\n",
       "<tr>\n",
       "  <th>const</th>                                        <td>   -3.7262</td> <td>    0.219</td> <td>  -16.994</td> <td> 0.000</td> <td>   -4.156</td> <td>   -3.296</td>\n",
       "</tr>\n",
       "<tr>\n",
       "  <th>Do Not Email</th>                                 <td>   -1.4833</td> <td>    0.247</td> <td>   -6.003</td> <td> 0.000</td> <td>   -1.968</td> <td>   -0.999</td>\n",
       "</tr>\n",
       "<tr>\n",
       "  <th>Lead Origin_Lead Add Form</th>                    <td>    0.8823</td> <td>    0.421</td> <td>    2.094</td> <td> 0.036</td> <td>    0.057</td> <td>    1.708</td>\n",
       "</tr>\n",
       "<tr>\n",
       "  <th>Lead Source_Welingak Website</th>                 <td>    2.2732</td> <td>    1.107</td> <td>    2.054</td> <td> 0.040</td> <td>    0.104</td> <td>    4.443</td>\n",
       "</tr>\n",
       "<tr>\n",
       "  <th>Last Activity_Olark Chat Conversation</th>        <td>   -1.5218</td> <td>    0.239</td> <td>   -6.364</td> <td> 0.000</td> <td>   -1.990</td> <td>   -1.053</td>\n",
       "</tr>\n",
       "<tr>\n",
       "  <th>What is your current occupation_Not Provided</th> <td>   -2.4399</td> <td>    0.147</td> <td>  -16.549</td> <td> 0.000</td> <td>   -2.729</td> <td>   -2.151</td>\n",
       "</tr>\n",
       "<tr>\n",
       "  <th>Tags_Busy</th>                                    <td>    3.0057</td> <td>    0.314</td> <td>    9.586</td> <td> 0.000</td> <td>    2.391</td> <td>    3.620</td>\n",
       "</tr>\n",
       "<tr>\n",
       "  <th>Tags_Closed by Horizzon</th>                      <td>    8.6717</td> <td>    1.032</td> <td>    8.403</td> <td> 0.000</td> <td>    6.649</td> <td>   10.694</td>\n",
       "</tr>\n",
       "<tr>\n",
       "  <th>Tags_Lost to EINS</th>                            <td>    8.6679</td> <td>    0.659</td> <td>   13.163</td> <td> 0.000</td> <td>    7.377</td> <td>    9.959</td>\n",
       "</tr>\n",
       "<tr>\n",
       "  <th>Tags_Not Provided</th>                            <td>    3.9544</td> <td>    0.248</td> <td>   15.946</td> <td> 0.000</td> <td>    3.468</td> <td>    4.440</td>\n",
       "</tr>\n",
       "<tr>\n",
       "  <th>Tags_Ringing</th>                                 <td>   -1.5820</td> <td>    0.345</td> <td>   -4.590</td> <td> 0.000</td> <td>   -2.257</td> <td>   -0.906</td>\n",
       "</tr>\n",
       "<tr>\n",
       "  <th>Tags_Will revert after reading the email</th>     <td>    6.6167</td> <td>    0.272</td> <td>   24.298</td> <td> 0.000</td> <td>    6.083</td> <td>    7.150</td>\n",
       "</tr>\n",
       "<tr>\n",
       "  <th>Tags_invalid number</th>                          <td>   -1.4870</td> <td>    1.057</td> <td>   -1.407</td> <td> 0.159</td> <td>   -3.558</td> <td>    0.584</td>\n",
       "</tr>\n",
       "<tr>\n",
       "  <th>Tags_switched off</th>                            <td>   -2.2141</td> <td>    0.756</td> <td>   -2.929</td> <td> 0.003</td> <td>   -3.696</td> <td>   -0.732</td>\n",
       "</tr>\n",
       "<tr>\n",
       "  <th>Tags_wrong number given</th>                      <td>  -20.8699</td> <td> 1.37e+04</td> <td>   -0.002</td> <td> 0.999</td> <td>-2.69e+04</td> <td> 2.69e+04</td>\n",
       "</tr>\n",
       "<tr>\n",
       "  <th>Last Notable Activity_SMS Sent</th>               <td>    2.6009</td> <td>    0.139</td> <td>   18.708</td> <td> 0.000</td> <td>    2.328</td> <td>    2.873</td>\n",
       "</tr>\n",
       "</table>"
      ],
      "text/plain": [
       "<class 'statsmodels.iolib.summary.Summary'>\n",
       "\"\"\"\n",
       "                 Generalized Linear Model Regression Results                  \n",
       "==============================================================================\n",
       "Dep. Variable:              Converted   No. Observations:                 5931\n",
       "Model:                            GLM   Df Residuals:                     5915\n",
       "Model Family:                Binomial   Df Model:                           15\n",
       "Link Function:                  Logit   Scale:                          1.0000\n",
       "Method:                          IRLS   Log-Likelihood:                -1148.8\n",
       "Date:                Sun, 04 Jun 2023   Deviance:                       2297.6\n",
       "Time:                        16:34:07   Pearson chi2:                 8.54e+03\n",
       "No. Iterations:                    22   Pseudo R-squ. (CS):             0.6080\n",
       "Covariance Type:            nonrobust                                         \n",
       "================================================================================================================\n",
       "                                                   coef    std err          z      P>|z|      [0.025      0.975]\n",
       "----------------------------------------------------------------------------------------------------------------\n",
       "const                                           -3.7262      0.219    -16.994      0.000      -4.156      -3.296\n",
       "Do Not Email                                    -1.4833      0.247     -6.003      0.000      -1.968      -0.999\n",
       "Lead Origin_Lead Add Form                        0.8823      0.421      2.094      0.036       0.057       1.708\n",
       "Lead Source_Welingak Website                     2.2732      1.107      2.054      0.040       0.104       4.443\n",
       "Last Activity_Olark Chat Conversation           -1.5218      0.239     -6.364      0.000      -1.990      -1.053\n",
       "What is your current occupation_Not Provided    -2.4399      0.147    -16.549      0.000      -2.729      -2.151\n",
       "Tags_Busy                                        3.0057      0.314      9.586      0.000       2.391       3.620\n",
       "Tags_Closed by Horizzon                          8.6717      1.032      8.403      0.000       6.649      10.694\n",
       "Tags_Lost to EINS                                8.6679      0.659     13.163      0.000       7.377       9.959\n",
       "Tags_Not Provided                                3.9544      0.248     15.946      0.000       3.468       4.440\n",
       "Tags_Ringing                                    -1.5820      0.345     -4.590      0.000      -2.257      -0.906\n",
       "Tags_Will revert after reading the email         6.6167      0.272     24.298      0.000       6.083       7.150\n",
       "Tags_invalid number                             -1.4870      1.057     -1.407      0.159      -3.558       0.584\n",
       "Tags_switched off                               -2.2141      0.756     -2.929      0.003      -3.696      -0.732\n",
       "Tags_wrong number given                        -20.8699   1.37e+04     -0.002      0.999   -2.69e+04    2.69e+04\n",
       "Last Notable Activity_SMS Sent                   2.6009      0.139     18.708      0.000       2.328       2.873\n",
       "================================================================================================================\n",
       "\"\"\""
      ]
     },
     "execution_count": 44,
     "metadata": {},
     "output_type": "execute_result"
    }
   ],
   "source": [
    "# Adding constant\n",
    "X_train_sm = sm.add_constant(X_train[col])\n",
    "\n",
    "# Running sm.GLM\n",
    "logm2 = sm.GLM(y_train,X_train_sm, family = sm.families.Binomial())\n",
    "res = logm2.fit()\n",
    "res.summary()"
   ]
  },
  {
   "cell_type": "code",
   "execution_count": 45,
   "id": "310e536a",
   "metadata": {},
   "outputs": [
    {
     "data": {
      "text/html": [
       "<div>\n",
       "<style scoped>\n",
       "    .dataframe tbody tr th:only-of-type {\n",
       "        vertical-align: middle;\n",
       "    }\n",
       "\n",
       "    .dataframe tbody tr th {\n",
       "        vertical-align: top;\n",
       "    }\n",
       "\n",
       "    .dataframe thead th {\n",
       "        text-align: right;\n",
       "    }\n",
       "</style>\n",
       "<table border=\"1\" class=\"dataframe\">\n",
       "  <thead>\n",
       "    <tr style=\"text-align: right;\">\n",
       "      <th></th>\n",
       "      <th>Features</th>\n",
       "      <th>VIF</th>\n",
       "    </tr>\n",
       "  </thead>\n",
       "  <tbody>\n",
       "    <tr>\n",
       "      <th>8</th>\n",
       "      <td>Tags_Not Provided</td>\n",
       "      <td>5.06</td>\n",
       "    </tr>\n",
       "    <tr>\n",
       "      <th>4</th>\n",
       "      <td>What is your current occupation_Not Provided</td>\n",
       "      <td>4.72</td>\n",
       "    </tr>\n",
       "    <tr>\n",
       "      <th>14</th>\n",
       "      <td>Last Notable Activity_SMS Sent</td>\n",
       "      <td>1.64</td>\n",
       "    </tr>\n",
       "    <tr>\n",
       "      <th>1</th>\n",
       "      <td>Lead Origin_Lead Add Form</td>\n",
       "      <td>1.58</td>\n",
       "    </tr>\n",
       "    <tr>\n",
       "      <th>10</th>\n",
       "      <td>Tags_Will revert after reading the email</td>\n",
       "      <td>1.47</td>\n",
       "    </tr>\n",
       "    <tr>\n",
       "      <th>2</th>\n",
       "      <td>Lead Source_Welingak Website</td>\n",
       "      <td>1.40</td>\n",
       "    </tr>\n",
       "    <tr>\n",
       "      <th>3</th>\n",
       "      <td>Last Activity_Olark Chat Conversation</td>\n",
       "      <td>1.16</td>\n",
       "    </tr>\n",
       "    <tr>\n",
       "      <th>6</th>\n",
       "      <td>Tags_Closed by Horizzon</td>\n",
       "      <td>1.10</td>\n",
       "    </tr>\n",
       "    <tr>\n",
       "      <th>9</th>\n",
       "      <td>Tags_Ringing</td>\n",
       "      <td>1.09</td>\n",
       "    </tr>\n",
       "    <tr>\n",
       "      <th>0</th>\n",
       "      <td>Do Not Email</td>\n",
       "      <td>1.08</td>\n",
       "    </tr>\n",
       "    <tr>\n",
       "      <th>5</th>\n",
       "      <td>Tags_Busy</td>\n",
       "      <td>1.03</td>\n",
       "    </tr>\n",
       "    <tr>\n",
       "      <th>7</th>\n",
       "      <td>Tags_Lost to EINS</td>\n",
       "      <td>1.03</td>\n",
       "    </tr>\n",
       "    <tr>\n",
       "      <th>12</th>\n",
       "      <td>Tags_switched off</td>\n",
       "      <td>1.03</td>\n",
       "    </tr>\n",
       "    <tr>\n",
       "      <th>11</th>\n",
       "      <td>Tags_invalid number</td>\n",
       "      <td>1.01</td>\n",
       "    </tr>\n",
       "    <tr>\n",
       "      <th>13</th>\n",
       "      <td>Tags_wrong number given</td>\n",
       "      <td>1.01</td>\n",
       "    </tr>\n",
       "  </tbody>\n",
       "</table>\n",
       "</div>"
      ],
      "text/plain": [
       "                                        Features   VIF\n",
       "8                              Tags_Not Provided  5.06\n",
       "4   What is your current occupation_Not Provided  4.72\n",
       "14                Last Notable Activity_SMS Sent  1.64\n",
       "1                      Lead Origin_Lead Add Form  1.58\n",
       "10      Tags_Will revert after reading the email  1.47\n",
       "2                   Lead Source_Welingak Website  1.40\n",
       "3          Last Activity_Olark Chat Conversation  1.16\n",
       "6                        Tags_Closed by Horizzon  1.10\n",
       "9                                   Tags_Ringing  1.09\n",
       "0                                   Do Not Email  1.08\n",
       "5                                      Tags_Busy  1.03\n",
       "7                              Tags_Lost to EINS  1.03\n",
       "12                             Tags_switched off  1.03\n",
       "11                           Tags_invalid number  1.01\n",
       "13                       Tags_wrong number given  1.01"
      ]
     },
     "execution_count": 45,
     "metadata": {},
     "output_type": "execute_result"
    }
   ],
   "source": [
    "\n",
    "# Create a dataframe that will contain the names of all the feature variables and their respective VIFs\n",
    "calc_vif(col, X_train)"
   ]
  },
  {
   "cell_type": "markdown",
   "id": "8c342d84",
   "metadata": {},
   "source": [
    "VIF > 5 should be dropped."
   ]
  },
  {
   "cell_type": "code",
   "execution_count": 46,
   "id": "1fef962a",
   "metadata": {},
   "outputs": [
    {
     "data": {
      "text/html": [
       "<table class=\"simpletable\">\n",
       "<caption>Generalized Linear Model Regression Results</caption>\n",
       "<tr>\n",
       "  <th>Dep. Variable:</th>       <td>Converted</td>    <th>  No. Observations:  </th>  <td>  5931</td> \n",
       "</tr>\n",
       "<tr>\n",
       "  <th>Model:</th>                  <td>GLM</td>       <th>  Df Residuals:      </th>  <td>  5916</td> \n",
       "</tr>\n",
       "<tr>\n",
       "  <th>Model Family:</th>        <td>Binomial</td>     <th>  Df Model:          </th>  <td>    14</td> \n",
       "</tr>\n",
       "<tr>\n",
       "  <th>Link Function:</th>         <td>Logit</td>      <th>  Scale:             </th> <td>  1.0000</td>\n",
       "</tr>\n",
       "<tr>\n",
       "  <th>Method:</th>                <td>IRLS</td>       <th>  Log-Likelihood:    </th> <td> -1358.4</td>\n",
       "</tr>\n",
       "<tr>\n",
       "  <th>Date:</th>            <td>Sun, 04 Jun 2023</td> <th>  Deviance:          </th> <td>  2716.7</td>\n",
       "</tr>\n",
       "<tr>\n",
       "  <th>Time:</th>                <td>16:34:09</td>     <th>  Pearson chi2:      </th> <td>9.48e+03</td>\n",
       "</tr>\n",
       "<tr>\n",
       "  <th>No. Iterations:</th>         <td>22</td>        <th>  Pseudo R-squ. (CS):</th>  <td>0.5793</td> \n",
       "</tr>\n",
       "<tr>\n",
       "  <th>Covariance Type:</th>     <td>nonrobust</td>    <th>                     </th>     <td> </td>   \n",
       "</tr>\n",
       "</table>\n",
       "<table class=\"simpletable\">\n",
       "<tr>\n",
       "                        <td></td>                          <th>coef</th>     <th>std err</th>      <th>z</th>      <th>P>|z|</th>  <th>[0.025</th>    <th>0.975]</th>  \n",
       "</tr>\n",
       "<tr>\n",
       "  <th>const</th>                                        <td>   -1.6403</td> <td>    0.083</td> <td>  -19.707</td> <td> 0.000</td> <td>   -1.803</td> <td>   -1.477</td>\n",
       "</tr>\n",
       "<tr>\n",
       "  <th>Do Not Email</th>                                 <td>   -1.3733</td> <td>    0.234</td> <td>   -5.878</td> <td> 0.000</td> <td>   -1.831</td> <td>   -0.915</td>\n",
       "</tr>\n",
       "<tr>\n",
       "  <th>Lead Origin_Lead Add Form</th>                    <td>    1.1037</td> <td>    0.377</td> <td>    2.930</td> <td> 0.003</td> <td>    0.365</td> <td>    1.842</td>\n",
       "</tr>\n",
       "<tr>\n",
       "  <th>Lead Source_Welingak Website</th>                 <td>    3.8359</td> <td>    1.089</td> <td>    3.521</td> <td> 0.000</td> <td>    1.701</td> <td>    5.971</td>\n",
       "</tr>\n",
       "<tr>\n",
       "  <th>Last Activity_Olark Chat Conversation</th>        <td>   -1.4770</td> <td>    0.230</td> <td>   -6.417</td> <td> 0.000</td> <td>   -1.928</td> <td>   -1.026</td>\n",
       "</tr>\n",
       "<tr>\n",
       "  <th>What is your current occupation_Not Provided</th> <td>   -0.6975</td> <td>    0.116</td> <td>   -6.004</td> <td> 0.000</td> <td>   -0.925</td> <td>   -0.470</td>\n",
       "</tr>\n",
       "<tr>\n",
       "  <th>Tags_Busy</th>                                    <td>    0.8041</td> <td>    0.247</td> <td>    3.252</td> <td> 0.001</td> <td>    0.319</td> <td>    1.289</td>\n",
       "</tr>\n",
       "<tr>\n",
       "  <th>Tags_Closed by Horizzon</th>                      <td>    6.5318</td> <td>    1.011</td> <td>    6.463</td> <td> 0.000</td> <td>    4.551</td> <td>    8.513</td>\n",
       "</tr>\n",
       "<tr>\n",
       "  <th>Tags_Lost to EINS</th>                            <td>    5.4731</td> <td>    0.596</td> <td>    9.182</td> <td> 0.000</td> <td>    4.305</td> <td>    6.641</td>\n",
       "</tr>\n",
       "<tr>\n",
       "  <th>Tags_Ringing</th>                                 <td>   -3.9644</td> <td>    0.280</td> <td>  -14.167</td> <td> 0.000</td> <td>   -4.513</td> <td>   -3.416</td>\n",
       "</tr>\n",
       "<tr>\n",
       "  <th>Tags_Will revert after reading the email</th>     <td>    4.4871</td> <td>    0.181</td> <td>   24.759</td> <td> 0.000</td> <td>    4.132</td> <td>    4.842</td>\n",
       "</tr>\n",
       "<tr>\n",
       "  <th>Tags_invalid number</th>                          <td>   -3.8488</td> <td>    1.039</td> <td>   -3.705</td> <td> 0.000</td> <td>   -5.885</td> <td>   -1.813</td>\n",
       "</tr>\n",
       "<tr>\n",
       "  <th>Tags_switched off</th>                            <td>   -4.5874</td> <td>    0.728</td> <td>   -6.298</td> <td> 0.000</td> <td>   -6.015</td> <td>   -3.160</td>\n",
       "</tr>\n",
       "<tr>\n",
       "  <th>Tags_wrong number given</th>                      <td>  -23.1987</td> <td> 1.34e+04</td> <td>   -0.002</td> <td> 0.999</td> <td>-2.63e+04</td> <td> 2.63e+04</td>\n",
       "</tr>\n",
       "<tr>\n",
       "  <th>Last Notable Activity_SMS Sent</th>               <td>    2.9140</td> <td>    0.127</td> <td>   22.911</td> <td> 0.000</td> <td>    2.665</td> <td>    3.163</td>\n",
       "</tr>\n",
       "</table>"
      ],
      "text/plain": [
       "<class 'statsmodels.iolib.summary.Summary'>\n",
       "\"\"\"\n",
       "                 Generalized Linear Model Regression Results                  \n",
       "==============================================================================\n",
       "Dep. Variable:              Converted   No. Observations:                 5931\n",
       "Model:                            GLM   Df Residuals:                     5916\n",
       "Model Family:                Binomial   Df Model:                           14\n",
       "Link Function:                  Logit   Scale:                          1.0000\n",
       "Method:                          IRLS   Log-Likelihood:                -1358.4\n",
       "Date:                Sun, 04 Jun 2023   Deviance:                       2716.7\n",
       "Time:                        16:34:09   Pearson chi2:                 9.48e+03\n",
       "No. Iterations:                    22   Pseudo R-squ. (CS):             0.5793\n",
       "Covariance Type:            nonrobust                                         \n",
       "================================================================================================================\n",
       "                                                   coef    std err          z      P>|z|      [0.025      0.975]\n",
       "----------------------------------------------------------------------------------------------------------------\n",
       "const                                           -1.6403      0.083    -19.707      0.000      -1.803      -1.477\n",
       "Do Not Email                                    -1.3733      0.234     -5.878      0.000      -1.831      -0.915\n",
       "Lead Origin_Lead Add Form                        1.1037      0.377      2.930      0.003       0.365       1.842\n",
       "Lead Source_Welingak Website                     3.8359      1.089      3.521      0.000       1.701       5.971\n",
       "Last Activity_Olark Chat Conversation           -1.4770      0.230     -6.417      0.000      -1.928      -1.026\n",
       "What is your current occupation_Not Provided    -0.6975      0.116     -6.004      0.000      -0.925      -0.470\n",
       "Tags_Busy                                        0.8041      0.247      3.252      0.001       0.319       1.289\n",
       "Tags_Closed by Horizzon                          6.5318      1.011      6.463      0.000       4.551       8.513\n",
       "Tags_Lost to EINS                                5.4731      0.596      9.182      0.000       4.305       6.641\n",
       "Tags_Ringing                                    -3.9644      0.280    -14.167      0.000      -4.513      -3.416\n",
       "Tags_Will revert after reading the email         4.4871      0.181     24.759      0.000       4.132       4.842\n",
       "Tags_invalid number                             -3.8488      1.039     -3.705      0.000      -5.885      -1.813\n",
       "Tags_switched off                               -4.5874      0.728     -6.298      0.000      -6.015      -3.160\n",
       "Tags_wrong number given                        -23.1987   1.34e+04     -0.002      0.999   -2.63e+04    2.63e+04\n",
       "Last Notable Activity_SMS Sent                   2.9140      0.127     22.911      0.000       2.665       3.163\n",
       "================================================================================================================\n",
       "\"\"\""
      ]
     },
     "execution_count": 46,
     "metadata": {},
     "output_type": "execute_result"
    }
   ],
   "source": [
    "# Dropping 'Tags_Not Provided'\n",
    "col1 = col.drop('Tags_Not Provided',1)\n",
    "\n",
    "#Model 2\n",
    "X_train_sm = sm.add_constant(X_train[col1])\n",
    "logm2 = sm.GLM(y_train,X_train_sm, family = sm.families.Binomial())\n",
    "res = logm2.fit()\n",
    "res.summary()"
   ]
  },
  {
   "cell_type": "code",
   "execution_count": 47,
   "id": "b875db91",
   "metadata": {},
   "outputs": [
    {
     "data": {
      "text/html": [
       "<div>\n",
       "<style scoped>\n",
       "    .dataframe tbody tr th:only-of-type {\n",
       "        vertical-align: middle;\n",
       "    }\n",
       "\n",
       "    .dataframe tbody tr th {\n",
       "        vertical-align: top;\n",
       "    }\n",
       "\n",
       "    .dataframe thead th {\n",
       "        text-align: right;\n",
       "    }\n",
       "</style>\n",
       "<table border=\"1\" class=\"dataframe\">\n",
       "  <thead>\n",
       "    <tr style=\"text-align: right;\">\n",
       "      <th></th>\n",
       "      <th>Features</th>\n",
       "      <th>VIF</th>\n",
       "    </tr>\n",
       "  </thead>\n",
       "  <tbody>\n",
       "    <tr>\n",
       "      <th>1</th>\n",
       "      <td>Lead Origin_Lead Add Form</td>\n",
       "      <td>1.57</td>\n",
       "    </tr>\n",
       "    <tr>\n",
       "      <th>13</th>\n",
       "      <td>Last Notable Activity_SMS Sent</td>\n",
       "      <td>1.54</td>\n",
       "    </tr>\n",
       "    <tr>\n",
       "      <th>9</th>\n",
       "      <td>Tags_Will revert after reading the email</td>\n",
       "      <td>1.43</td>\n",
       "    </tr>\n",
       "    <tr>\n",
       "      <th>2</th>\n",
       "      <td>Lead Source_Welingak Website</td>\n",
       "      <td>1.32</td>\n",
       "    </tr>\n",
       "    <tr>\n",
       "      <th>4</th>\n",
       "      <td>What is your current occupation_Not Provided</td>\n",
       "      <td>1.22</td>\n",
       "    </tr>\n",
       "    <tr>\n",
       "      <th>3</th>\n",
       "      <td>Last Activity_Olark Chat Conversation</td>\n",
       "      <td>1.15</td>\n",
       "    </tr>\n",
       "    <tr>\n",
       "      <th>6</th>\n",
       "      <td>Tags_Closed by Horizzon</td>\n",
       "      <td>1.10</td>\n",
       "    </tr>\n",
       "    <tr>\n",
       "      <th>8</th>\n",
       "      <td>Tags_Ringing</td>\n",
       "      <td>1.08</td>\n",
       "    </tr>\n",
       "    <tr>\n",
       "      <th>0</th>\n",
       "      <td>Do Not Email</td>\n",
       "      <td>1.07</td>\n",
       "    </tr>\n",
       "    <tr>\n",
       "      <th>5</th>\n",
       "      <td>Tags_Busy</td>\n",
       "      <td>1.03</td>\n",
       "    </tr>\n",
       "    <tr>\n",
       "      <th>11</th>\n",
       "      <td>Tags_switched off</td>\n",
       "      <td>1.03</td>\n",
       "    </tr>\n",
       "    <tr>\n",
       "      <th>7</th>\n",
       "      <td>Tags_Lost to EINS</td>\n",
       "      <td>1.01</td>\n",
       "    </tr>\n",
       "    <tr>\n",
       "      <th>10</th>\n",
       "      <td>Tags_invalid number</td>\n",
       "      <td>1.01</td>\n",
       "    </tr>\n",
       "    <tr>\n",
       "      <th>12</th>\n",
       "      <td>Tags_wrong number given</td>\n",
       "      <td>1.01</td>\n",
       "    </tr>\n",
       "  </tbody>\n",
       "</table>\n",
       "</div>"
      ],
      "text/plain": [
       "                                        Features   VIF\n",
       "1                      Lead Origin_Lead Add Form  1.57\n",
       "13                Last Notable Activity_SMS Sent  1.54\n",
       "9       Tags_Will revert after reading the email  1.43\n",
       "2                   Lead Source_Welingak Website  1.32\n",
       "4   What is your current occupation_Not Provided  1.22\n",
       "3          Last Activity_Olark Chat Conversation  1.15\n",
       "6                        Tags_Closed by Horizzon  1.10\n",
       "8                                   Tags_Ringing  1.08\n",
       "0                                   Do Not Email  1.07\n",
       "5                                      Tags_Busy  1.03\n",
       "11                             Tags_switched off  1.03\n",
       "7                              Tags_Lost to EINS  1.01\n",
       "10                           Tags_invalid number  1.01\n",
       "12                       Tags_wrong number given  1.01"
      ]
     },
     "execution_count": 47,
     "metadata": {},
     "output_type": "execute_result"
    }
   ],
   "source": [
    "# again checking the VIF now:\n",
    "calc_vif(col1, X_train)"
   ]
  },
  {
   "cell_type": "markdown",
   "id": "c19f7354",
   "metadata": {},
   "source": [
    "No VIF value is above 5 but,'Tags_wrong number given' has p-value is 0.999. Therefore we must drop it and the we can go ahead with these features."
   ]
  },
  {
   "cell_type": "code",
   "execution_count": 48,
   "id": "f84d168d",
   "metadata": {},
   "outputs": [
    {
     "data": {
      "text/html": [
       "<table class=\"simpletable\">\n",
       "<caption>Generalized Linear Model Regression Results</caption>\n",
       "<tr>\n",
       "  <th>Dep. Variable:</th>       <td>Converted</td>    <th>  No. Observations:  </th>  <td>  5931</td> \n",
       "</tr>\n",
       "<tr>\n",
       "  <th>Model:</th>                  <td>GLM</td>       <th>  Df Residuals:      </th>  <td>  5917</td> \n",
       "</tr>\n",
       "<tr>\n",
       "  <th>Model Family:</th>        <td>Binomial</td>     <th>  Df Model:          </th>  <td>    13</td> \n",
       "</tr>\n",
       "<tr>\n",
       "  <th>Link Function:</th>         <td>Logit</td>      <th>  Scale:             </th> <td>  1.0000</td>\n",
       "</tr>\n",
       "<tr>\n",
       "  <th>Method:</th>                <td>IRLS</td>       <th>  Log-Likelihood:    </th> <td> -1370.7</td>\n",
       "</tr>\n",
       "<tr>\n",
       "  <th>Date:</th>            <td>Sun, 04 Jun 2023</td> <th>  Deviance:          </th> <td>  2741.4</td>\n",
       "</tr>\n",
       "<tr>\n",
       "  <th>Time:</th>                <td>16:34:11</td>     <th>  Pearson chi2:      </th> <td>9.22e+03</td>\n",
       "</tr>\n",
       "<tr>\n",
       "  <th>No. Iterations:</th>          <td>8</td>        <th>  Pseudo R-squ. (CS):</th>  <td>0.5775</td> \n",
       "</tr>\n",
       "<tr>\n",
       "  <th>Covariance Type:</th>     <td>nonrobust</td>    <th>                     </th>     <td> </td>   \n",
       "</tr>\n",
       "</table>\n",
       "<table class=\"simpletable\">\n",
       "<tr>\n",
       "                        <td></td>                          <th>coef</th>     <th>std err</th>      <th>z</th>      <th>P>|z|</th>  <th>[0.025</th>    <th>0.975]</th>  \n",
       "</tr>\n",
       "<tr>\n",
       "  <th>const</th>                                        <td>   -1.6734</td> <td>    0.083</td> <td>  -20.090</td> <td> 0.000</td> <td>   -1.837</td> <td>   -1.510</td>\n",
       "</tr>\n",
       "<tr>\n",
       "  <th>Do Not Email</th>                                 <td>   -1.4469</td> <td>    0.232</td> <td>   -6.246</td> <td> 0.000</td> <td>   -1.901</td> <td>   -0.993</td>\n",
       "</tr>\n",
       "<tr>\n",
       "  <th>Lead Origin_Lead Add Form</th>                    <td>    1.1432</td> <td>    0.375</td> <td>    3.045</td> <td> 0.002</td> <td>    0.407</td> <td>    1.879</td>\n",
       "</tr>\n",
       "<tr>\n",
       "  <th>Lead Source_Welingak Website</th>                 <td>    3.8499</td> <td>    1.089</td> <td>    3.535</td> <td> 0.000</td> <td>    1.715</td> <td>    5.985</td>\n",
       "</tr>\n",
       "<tr>\n",
       "  <th>Last Activity_Olark Chat Conversation</th>        <td>   -1.4742</td> <td>    0.230</td> <td>   -6.399</td> <td> 0.000</td> <td>   -1.926</td> <td>   -1.023</td>\n",
       "</tr>\n",
       "<tr>\n",
       "  <th>What is your current occupation_Not Provided</th> <td>   -0.6414</td> <td>    0.115</td> <td>   -5.572</td> <td> 0.000</td> <td>   -0.867</td> <td>   -0.416</td>\n",
       "</tr>\n",
       "<tr>\n",
       "  <th>Tags_Busy</th>                                    <td>    0.8622</td> <td>    0.245</td> <td>    3.516</td> <td> 0.000</td> <td>    0.382</td> <td>    1.343</td>\n",
       "</tr>\n",
       "<tr>\n",
       "  <th>Tags_Closed by Horizzon</th>                      <td>    6.5602</td> <td>    1.011</td> <td>    6.491</td> <td> 0.000</td> <td>    4.579</td> <td>    8.541</td>\n",
       "</tr>\n",
       "<tr>\n",
       "  <th>Tags_Lost to EINS</th>                            <td>    5.4805</td> <td>    0.596</td> <td>    9.200</td> <td> 0.000</td> <td>    4.313</td> <td>    6.648</td>\n",
       "</tr>\n",
       "<tr>\n",
       "  <th>Tags_Ringing</th>                                 <td>   -3.8800</td> <td>    0.279</td> <td>  -13.931</td> <td> 0.000</td> <td>   -4.426</td> <td>   -3.334</td>\n",
       "</tr>\n",
       "<tr>\n",
       "  <th>Tags_Will revert after reading the email</th>     <td>    4.5264</td> <td>    0.181</td> <td>   24.978</td> <td> 0.000</td> <td>    4.171</td> <td>    4.882</td>\n",
       "</tr>\n",
       "<tr>\n",
       "  <th>Tags_invalid number</th>                          <td>   -3.7581</td> <td>    1.038</td> <td>   -3.620</td> <td> 0.000</td> <td>   -5.793</td> <td>   -1.723</td>\n",
       "</tr>\n",
       "<tr>\n",
       "  <th>Tags_switched off</th>                            <td>   -4.4942</td> <td>    0.728</td> <td>   -6.175</td> <td> 0.000</td> <td>   -5.921</td> <td>   -3.068</td>\n",
       "</tr>\n",
       "<tr>\n",
       "  <th>Last Notable Activity_SMS Sent</th>               <td>    2.8525</td> <td>    0.125</td> <td>   22.867</td> <td> 0.000</td> <td>    2.608</td> <td>    3.097</td>\n",
       "</tr>\n",
       "</table>"
      ],
      "text/plain": [
       "<class 'statsmodels.iolib.summary.Summary'>\n",
       "\"\"\"\n",
       "                 Generalized Linear Model Regression Results                  \n",
       "==============================================================================\n",
       "Dep. Variable:              Converted   No. Observations:                 5931\n",
       "Model:                            GLM   Df Residuals:                     5917\n",
       "Model Family:                Binomial   Df Model:                           13\n",
       "Link Function:                  Logit   Scale:                          1.0000\n",
       "Method:                          IRLS   Log-Likelihood:                -1370.7\n",
       "Date:                Sun, 04 Jun 2023   Deviance:                       2741.4\n",
       "Time:                        16:34:11   Pearson chi2:                 9.22e+03\n",
       "No. Iterations:                     8   Pseudo R-squ. (CS):             0.5775\n",
       "Covariance Type:            nonrobust                                         \n",
       "================================================================================================================\n",
       "                                                   coef    std err          z      P>|z|      [0.025      0.975]\n",
       "----------------------------------------------------------------------------------------------------------------\n",
       "const                                           -1.6734      0.083    -20.090      0.000      -1.837      -1.510\n",
       "Do Not Email                                    -1.4469      0.232     -6.246      0.000      -1.901      -0.993\n",
       "Lead Origin_Lead Add Form                        1.1432      0.375      3.045      0.002       0.407       1.879\n",
       "Lead Source_Welingak Website                     3.8499      1.089      3.535      0.000       1.715       5.985\n",
       "Last Activity_Olark Chat Conversation           -1.4742      0.230     -6.399      0.000      -1.926      -1.023\n",
       "What is your current occupation_Not Provided    -0.6414      0.115     -5.572      0.000      -0.867      -0.416\n",
       "Tags_Busy                                        0.8622      0.245      3.516      0.000       0.382       1.343\n",
       "Tags_Closed by Horizzon                          6.5602      1.011      6.491      0.000       4.579       8.541\n",
       "Tags_Lost to EINS                                5.4805      0.596      9.200      0.000       4.313       6.648\n",
       "Tags_Ringing                                    -3.8800      0.279    -13.931      0.000      -4.426      -3.334\n",
       "Tags_Will revert after reading the email         4.5264      0.181     24.978      0.000       4.171       4.882\n",
       "Tags_invalid number                             -3.7581      1.038     -3.620      0.000      -5.793      -1.723\n",
       "Tags_switched off                               -4.4942      0.728     -6.175      0.000      -5.921      -3.068\n",
       "Last Notable Activity_SMS Sent                   2.8525      0.125     22.867      0.000       2.608       3.097\n",
       "================================================================================================================\n",
       "\"\"\""
      ]
     },
     "execution_count": 48,
     "metadata": {},
     "output_type": "execute_result"
    }
   ],
   "source": [
    "col2 = col1.drop('Tags_wrong number given',axis = 1)\n",
    "\n",
    "X_train_sm = sm.add_constant(X_train[col2])\n",
    "logm3 = sm.GLM(y_train,X_train_sm, family = sm.families.Binomial())\n",
    "res = logm3.fit()\n",
    "res.summary()"
   ]
  },
  {
   "cell_type": "code",
   "execution_count": 49,
   "id": "eae7dd27",
   "metadata": {},
   "outputs": [
    {
     "data": {
      "text/html": [
       "<div>\n",
       "<style scoped>\n",
       "    .dataframe tbody tr th:only-of-type {\n",
       "        vertical-align: middle;\n",
       "    }\n",
       "\n",
       "    .dataframe tbody tr th {\n",
       "        vertical-align: top;\n",
       "    }\n",
       "\n",
       "    .dataframe thead th {\n",
       "        text-align: right;\n",
       "    }\n",
       "</style>\n",
       "<table border=\"1\" class=\"dataframe\">\n",
       "  <thead>\n",
       "    <tr style=\"text-align: right;\">\n",
       "      <th></th>\n",
       "      <th>Features</th>\n",
       "      <th>VIF</th>\n",
       "    </tr>\n",
       "  </thead>\n",
       "  <tbody>\n",
       "    <tr>\n",
       "      <th>1</th>\n",
       "      <td>Lead Origin_Lead Add Form</td>\n",
       "      <td>1.57</td>\n",
       "    </tr>\n",
       "    <tr>\n",
       "      <th>12</th>\n",
       "      <td>Last Notable Activity_SMS Sent</td>\n",
       "      <td>1.53</td>\n",
       "    </tr>\n",
       "    <tr>\n",
       "      <th>9</th>\n",
       "      <td>Tags_Will revert after reading the email</td>\n",
       "      <td>1.43</td>\n",
       "    </tr>\n",
       "    <tr>\n",
       "      <th>2</th>\n",
       "      <td>Lead Source_Welingak Website</td>\n",
       "      <td>1.32</td>\n",
       "    </tr>\n",
       "    <tr>\n",
       "      <th>4</th>\n",
       "      <td>What is your current occupation_Not Provided</td>\n",
       "      <td>1.22</td>\n",
       "    </tr>\n",
       "    <tr>\n",
       "      <th>3</th>\n",
       "      <td>Last Activity_Olark Chat Conversation</td>\n",
       "      <td>1.15</td>\n",
       "    </tr>\n",
       "    <tr>\n",
       "      <th>6</th>\n",
       "      <td>Tags_Closed by Horizzon</td>\n",
       "      <td>1.10</td>\n",
       "    </tr>\n",
       "    <tr>\n",
       "      <th>8</th>\n",
       "      <td>Tags_Ringing</td>\n",
       "      <td>1.08</td>\n",
       "    </tr>\n",
       "    <tr>\n",
       "      <th>0</th>\n",
       "      <td>Do Not Email</td>\n",
       "      <td>1.07</td>\n",
       "    </tr>\n",
       "    <tr>\n",
       "      <th>5</th>\n",
       "      <td>Tags_Busy</td>\n",
       "      <td>1.03</td>\n",
       "    </tr>\n",
       "    <tr>\n",
       "      <th>11</th>\n",
       "      <td>Tags_switched off</td>\n",
       "      <td>1.03</td>\n",
       "    </tr>\n",
       "    <tr>\n",
       "      <th>7</th>\n",
       "      <td>Tags_Lost to EINS</td>\n",
       "      <td>1.01</td>\n",
       "    </tr>\n",
       "    <tr>\n",
       "      <th>10</th>\n",
       "      <td>Tags_invalid number</td>\n",
       "      <td>1.01</td>\n",
       "    </tr>\n",
       "  </tbody>\n",
       "</table>\n",
       "</div>"
      ],
      "text/plain": [
       "                                        Features   VIF\n",
       "1                      Lead Origin_Lead Add Form  1.57\n",
       "12                Last Notable Activity_SMS Sent  1.53\n",
       "9       Tags_Will revert after reading the email  1.43\n",
       "2                   Lead Source_Welingak Website  1.32\n",
       "4   What is your current occupation_Not Provided  1.22\n",
       "3          Last Activity_Olark Chat Conversation  1.15\n",
       "6                        Tags_Closed by Horizzon  1.10\n",
       "8                                   Tags_Ringing  1.08\n",
       "0                                   Do Not Email  1.07\n",
       "5                                      Tags_Busy  1.03\n",
       "11                             Tags_switched off  1.03\n",
       "7                              Tags_Lost to EINS  1.01\n",
       "10                           Tags_invalid number  1.01"
      ]
     },
     "execution_count": 49,
     "metadata": {},
     "output_type": "execute_result"
    }
   ],
   "source": [
    "calc_vif(col2, X_train)"
   ]
  },
  {
   "cell_type": "markdown",
   "id": "f2fdb932",
   "metadata": {},
   "source": [
    "Model is apt now."
   ]
  },
  {
   "cell_type": "markdown",
   "id": "34c4aed0",
   "metadata": {},
   "source": [
    "#### Evaluating the Model"
   ]
  },
  {
   "cell_type": "code",
   "execution_count": 50,
   "id": "2f4e45da",
   "metadata": {},
   "outputs": [
    {
     "data": {
      "text/plain": [
       "Lead Number\n",
       "618332    0.089906\n",
       "605316    0.998940\n",
       "655685    0.003859\n",
       "581653    0.157972\n",
       "619035    0.631279\n",
       "624090    0.089906\n",
       "645483    0.945474\n",
       "623355    0.089906\n",
       "591659    0.022716\n",
       "641106    0.764786\n",
       "dtype: float64"
      ]
     },
     "execution_count": 50,
     "metadata": {},
     "output_type": "execute_result"
    }
   ],
   "source": [
    "# Getting the predicted values on the train set\n",
    "y_train_pred = res.predict(X_train_sm)\n",
    "y_train_pred[:10]"
   ]
  },
  {
   "cell_type": "code",
   "execution_count": 51,
   "id": "8db3eb5b",
   "metadata": {},
   "outputs": [
    {
     "data": {
      "text/plain": [
       "array([0.08990584, 0.99894028, 0.00385924, 0.15797205, 0.63127942,\n",
       "       0.08990584, 0.94547443, 0.08990584, 0.02271636, 0.76478586])"
      ]
     },
     "execution_count": 51,
     "metadata": {},
     "output_type": "execute_result"
    }
   ],
   "source": [
    "# Reshaping y_train_pred\n",
    "y_train_pred = y_train_pred.values.reshape(-1)\n",
    "y_train_pred[:10]"
   ]
  },
  {
   "cell_type": "code",
   "execution_count": 52,
   "id": "a1ccbfb2",
   "metadata": {},
   "outputs": [
    {
     "data": {
      "text/html": [
       "<div>\n",
       "<style scoped>\n",
       "    .dataframe tbody tr th:only-of-type {\n",
       "        vertical-align: middle;\n",
       "    }\n",
       "\n",
       "    .dataframe tbody tr th {\n",
       "        vertical-align: top;\n",
       "    }\n",
       "\n",
       "    .dataframe thead th {\n",
       "        text-align: right;\n",
       "    }\n",
       "</style>\n",
       "<table border=\"1\" class=\"dataframe\">\n",
       "  <thead>\n",
       "    <tr style=\"text-align: right;\">\n",
       "      <th></th>\n",
       "      <th>Converted</th>\n",
       "      <th>Converted_Prob</th>\n",
       "      <th>Lead Number</th>\n",
       "    </tr>\n",
       "  </thead>\n",
       "  <tbody>\n",
       "    <tr>\n",
       "      <th>0</th>\n",
       "      <td>1</td>\n",
       "      <td>0.089906</td>\n",
       "      <td>618332</td>\n",
       "    </tr>\n",
       "    <tr>\n",
       "      <th>1</th>\n",
       "      <td>1</td>\n",
       "      <td>0.998940</td>\n",
       "      <td>605316</td>\n",
       "    </tr>\n",
       "    <tr>\n",
       "      <th>2</th>\n",
       "      <td>0</td>\n",
       "      <td>0.003859</td>\n",
       "      <td>655685</td>\n",
       "    </tr>\n",
       "    <tr>\n",
       "      <th>3</th>\n",
       "      <td>0</td>\n",
       "      <td>0.157972</td>\n",
       "      <td>581653</td>\n",
       "    </tr>\n",
       "    <tr>\n",
       "      <th>4</th>\n",
       "      <td>1</td>\n",
       "      <td>0.631279</td>\n",
       "      <td>619035</td>\n",
       "    </tr>\n",
       "  </tbody>\n",
       "</table>\n",
       "</div>"
      ],
      "text/plain": [
       "   Converted  Converted_Prob  Lead Number\n",
       "0          1        0.089906       618332\n",
       "1          1        0.998940       605316\n",
       "2          0        0.003859       655685\n",
       "3          0        0.157972       581653\n",
       "4          1        0.631279       619035"
      ]
     },
     "execution_count": 52,
     "metadata": {},
     "output_type": "execute_result"
    }
   ],
   "source": [
    "#Creating a dataframe with the actual converted flag and the predicted probabilities\n",
    "\n",
    "y_train_pred_final = pd.DataFrame({'Converted':y_train.values, 'Converted_Prob':y_train_pred})\n",
    "y_train_pred_final['Lead Number'] = y_train.index\n",
    "y_train_pred_final.head()"
   ]
  },
  {
   "cell_type": "markdown",
   "id": "6b5c6406",
   "metadata": {},
   "source": [
    "##### Creating new column 'predicted' with 1 if Converted_Prob > 0.5 else 0. \n",
    "\n",
    "Since the logistic curve gives you just the probabilities and not the actual classification of 'Converted' and 'Not Converted', you need to find a threshold probability to classify customers as 'Converted' and 'Not Converted'. \n",
    "\n",
    "- Here, we choose 0.5 as an arbitrary cutoff wherein if the probability of a particular customer churning is less than 0.5, you'd classify it as 'Not Converted' and if it's greater than 0.5, you'd classify it as 'Converted'."
   ]
  },
  {
   "cell_type": "code",
   "execution_count": 53,
   "id": "6a2fab23",
   "metadata": {},
   "outputs": [
    {
     "data": {
      "text/html": [
       "<div>\n",
       "<style scoped>\n",
       "    .dataframe tbody tr th:only-of-type {\n",
       "        vertical-align: middle;\n",
       "    }\n",
       "\n",
       "    .dataframe tbody tr th {\n",
       "        vertical-align: top;\n",
       "    }\n",
       "\n",
       "    .dataframe thead th {\n",
       "        text-align: right;\n",
       "    }\n",
       "</style>\n",
       "<table border=\"1\" class=\"dataframe\">\n",
       "  <thead>\n",
       "    <tr style=\"text-align: right;\">\n",
       "      <th></th>\n",
       "      <th>Converted</th>\n",
       "      <th>Converted_Prob</th>\n",
       "      <th>Lead Number</th>\n",
       "      <th>predicted</th>\n",
       "    </tr>\n",
       "  </thead>\n",
       "  <tbody>\n",
       "    <tr>\n",
       "      <th>0</th>\n",
       "      <td>1</td>\n",
       "      <td>0.089906</td>\n",
       "      <td>618332</td>\n",
       "      <td>0</td>\n",
       "    </tr>\n",
       "    <tr>\n",
       "      <th>1</th>\n",
       "      <td>1</td>\n",
       "      <td>0.998940</td>\n",
       "      <td>605316</td>\n",
       "      <td>1</td>\n",
       "    </tr>\n",
       "    <tr>\n",
       "      <th>2</th>\n",
       "      <td>0</td>\n",
       "      <td>0.003859</td>\n",
       "      <td>655685</td>\n",
       "      <td>0</td>\n",
       "    </tr>\n",
       "    <tr>\n",
       "      <th>3</th>\n",
       "      <td>0</td>\n",
       "      <td>0.157972</td>\n",
       "      <td>581653</td>\n",
       "      <td>0</td>\n",
       "    </tr>\n",
       "    <tr>\n",
       "      <th>4</th>\n",
       "      <td>1</td>\n",
       "      <td>0.631279</td>\n",
       "      <td>619035</td>\n",
       "      <td>1</td>\n",
       "    </tr>\n",
       "  </tbody>\n",
       "</table>\n",
       "</div>"
      ],
      "text/plain": [
       "   Converted  Converted_Prob  Lead Number  predicted\n",
       "0          1        0.089906       618332          0\n",
       "1          1        0.998940       605316          1\n",
       "2          0        0.003859       655685          0\n",
       "3          0        0.157972       581653          0\n",
       "4          1        0.631279       619035          1"
      ]
     },
     "execution_count": 53,
     "metadata": {},
     "output_type": "execute_result"
    }
   ],
   "source": [
    "y_train_pred_final['predicted'] = y_train_pred_final.Converted_Prob.map(lambda x: 1 if x > 0.5 else 0)\n",
    "\n",
    "# Let's see the head\n",
    "y_train_pred_final.head()"
   ]
  },
  {
   "cell_type": "code",
   "execution_count": 54,
   "id": "97a18959",
   "metadata": {},
   "outputs": [
    {
     "name": "stdout",
     "output_type": "stream",
     "text": [
      "For model with arbitrary cut-off 0.5\n",
      "\n",
      "Confusion Matrix:\n",
      "[[3549  154]\n",
      " [ 302 1926]]\n",
      "\n",
      "Overall Accuracy: 0.9231158320687911\n"
     ]
    }
   ],
   "source": [
    "# Confusion matrix \n",
    "print(\"For model with arbitrary cut-off 0.5\")\n",
    "confusion = metrics.confusion_matrix(y_train_pred_final.Converted, y_train_pred_final.predicted )\n",
    "print(\"\\nConfusion Matrix:\")\n",
    "print(confusion)\n",
    "\n",
    "# Let's check the overall accuracy.\n",
    "print(\"\\nOverall Accuracy:\", metrics.accuracy_score(y_train_pred_final.Converted, y_train_pred_final.predicted))"
   ]
  },
  {
   "cell_type": "markdown",
   "id": "412a9d47",
   "metadata": {},
   "source": [
    "The model has nearly 90 % accuracy."
   ]
  },
  {
   "cell_type": "code",
   "execution_count": 55,
   "id": "45ae767e",
   "metadata": {},
   "outputs": [
    {
     "name": "stdout",
     "output_type": "stream",
     "text": [
      "sensitivity: 0.8644524236983842\n",
      "specificity: 0.9584120982986768\n",
      "false_postive_rate: 0.04158790170132325\n",
      "positive_predictive_value: 0.9259615384615385\n",
      "negative_predictive_value: 0.9215788106985199\n"
     ]
    }
   ],
   "source": [
    "# Let's check the specificity and sensitivity.\n",
    "TP = confusion[1,1] # true positive \n",
    "TN = confusion[0,0] # true negatives\n",
    "FP = confusion[0,1] # false positives\n",
    "FN = confusion[1,0] # false negatives\n",
    "\n",
    "# Let's see the sensitivity\n",
    "# It tells how many conversions have been identified correctly\n",
    "sensitivity = TP / float(TP+FN)\n",
    "\n",
    "# Let us calculate specificity\n",
    "# It tells of all how we correctly detect.\n",
    "specificity = TN / float(TN+FP)\n",
    "\n",
    "# False postive rate - predicting converted when lead have not converted\n",
    "false_postive_rate = FP/ float(TN+FP)\n",
    "\n",
    "# positive predictive value \n",
    "positive_predictive_value = TP / float(TP+FP)\n",
    "\n",
    "# Negative predictive value\n",
    "negative_predictive_value = TN / float(TN+ FN)\n",
    "\n",
    "print(\"sensitivity:\", sensitivity)\n",
    "print(\"specificity:\", specificity)\n",
    "print(\"false_postive_rate:\", false_postive_rate)\n",
    "print(\"positive_predictive_value:\", positive_predictive_value)\n",
    "print(\"negative_predictive_value:\", negative_predictive_value)"
   ]
  },
  {
   "cell_type": "markdown",
   "id": "6e0ccff7",
   "metadata": {},
   "source": [
    "\n",
    "\n",
    "ROC Curve"
   ]
  },
  {
   "cell_type": "code",
   "execution_count": 56,
   "id": "01290c3a",
   "metadata": {},
   "outputs": [],
   "source": [
    "def draw_roc( actual, probs ):\n",
    "    fpr, tpr, thresholds = metrics.roc_curve( actual, probs,\n",
    "                                              drop_intermediate = False )\n",
    "    auc_score = metrics.roc_auc_score( actual, probs )\n",
    "    plt.figure(figsize=(5, 5))\n",
    "    plt.plot( fpr, tpr, label='ROC curve (area = %0.2f)' % auc_score )\n",
    "    plt.plot([0, 1], [0, 1], 'k--')\n",
    "    plt.xlim([0.0, 1.0])\n",
    "    plt.ylim([0.0, 1.05])\n",
    "    plt.xlabel('False Positive Rate or [1 - True Negative Rate]')\n",
    "    plt.ylabel('True Positive Rate')\n",
    "    plt.title('Receiver operating characteristic')\n",
    "    plt.legend(loc=\"lower right\")\n",
    "    plt.show()\n",
    "\n",
    "    return None"
   ]
  },
  {
   "cell_type": "code",
   "execution_count": 57,
   "id": "d9dcad5b",
   "metadata": {},
   "outputs": [
    {
     "data": {
      "image/png": "[encoded data removed]",
      "text/plain": [
       "<Figure size 360x360 with 1 Axes>"
      ]
     },
     "metadata": {
      "needs_background": "light"
     },
     "output_type": "display_data"
    }
   ],
   "source": [
    "draw_roc(y_train_pred_final.Converted, y_train_pred_final.Converted_Prob)"
   ]
  },
  {
   "cell_type": "markdown",
   "id": "51ce2a31",
   "metadata": {},
   "source": [
    "\n",
    "\n",
    "Optimal cutoff probability is that prob where we get balanced sensitivity and specificity"
   ]
  },
  {
   "cell_type": "code",
   "execution_count": 58,
   "id": "5469bd68",
   "metadata": {},
   "outputs": [
    {
     "data": {
      "text/html": [
       "<div>\n",
       "<style scoped>\n",
       "    .dataframe tbody tr th:only-of-type {\n",
       "        vertical-align: middle;\n",
       "    }\n",
       "\n",
       "    .dataframe tbody tr th {\n",
       "        vertical-align: top;\n",
       "    }\n",
       "\n",
       "    .dataframe thead th {\n",
       "        text-align: right;\n",
       "    }\n",
       "</style>\n",
       "<table border=\"1\" class=\"dataframe\">\n",
       "  <thead>\n",
       "    <tr style=\"text-align: right;\">\n",
       "      <th></th>\n",
       "      <th>Converted</th>\n",
       "      <th>Converted_Prob</th>\n",
       "      <th>Lead Number</th>\n",
       "      <th>predicted</th>\n",
       "      <th>0.0</th>\n",
       "      <th>0.1</th>\n",
       "      <th>0.2</th>\n",
       "      <th>0.3</th>\n",
       "      <th>0.4</th>\n",
       "      <th>0.5</th>\n",
       "      <th>0.6</th>\n",
       "      <th>0.7</th>\n",
       "      <th>0.8</th>\n",
       "      <th>0.9</th>\n",
       "    </tr>\n",
       "  </thead>\n",
       "  <tbody>\n",
       "    <tr>\n",
       "      <th>0</th>\n",
       "      <td>1</td>\n",
       "      <td>0.089906</td>\n",
       "      <td>618332</td>\n",
       "      <td>0</td>\n",
       "      <td>1</td>\n",
       "      <td>0</td>\n",
       "      <td>0</td>\n",
       "      <td>0</td>\n",
       "      <td>0</td>\n",
       "      <td>0</td>\n",
       "      <td>0</td>\n",
       "      <td>0</td>\n",
       "      <td>0</td>\n",
       "      <td>0</td>\n",
       "    </tr>\n",
       "    <tr>\n",
       "      <th>1</th>\n",
       "      <td>1</td>\n",
       "      <td>0.998940</td>\n",
       "      <td>605316</td>\n",
       "      <td>1</td>\n",
       "      <td>1</td>\n",
       "      <td>1</td>\n",
       "      <td>1</td>\n",
       "      <td>1</td>\n",
       "      <td>1</td>\n",
       "      <td>1</td>\n",
       "      <td>1</td>\n",
       "      <td>1</td>\n",
       "      <td>1</td>\n",
       "      <td>1</td>\n",
       "    </tr>\n",
       "    <tr>\n",
       "      <th>2</th>\n",
       "      <td>0</td>\n",
       "      <td>0.003859</td>\n",
       "      <td>655685</td>\n",
       "      <td>0</td>\n",
       "      <td>1</td>\n",
       "      <td>0</td>\n",
       "      <td>0</td>\n",
       "      <td>0</td>\n",
       "      <td>0</td>\n",
       "      <td>0</td>\n",
       "      <td>0</td>\n",
       "      <td>0</td>\n",
       "      <td>0</td>\n",
       "      <td>0</td>\n",
       "    </tr>\n",
       "    <tr>\n",
       "      <th>3</th>\n",
       "      <td>0</td>\n",
       "      <td>0.157972</td>\n",
       "      <td>581653</td>\n",
       "      <td>0</td>\n",
       "      <td>1</td>\n",
       "      <td>1</td>\n",
       "      <td>0</td>\n",
       "      <td>0</td>\n",
       "      <td>0</td>\n",
       "      <td>0</td>\n",
       "      <td>0</td>\n",
       "      <td>0</td>\n",
       "      <td>0</td>\n",
       "      <td>0</td>\n",
       "    </tr>\n",
       "    <tr>\n",
       "      <th>4</th>\n",
       "      <td>1</td>\n",
       "      <td>0.631279</td>\n",
       "      <td>619035</td>\n",
       "      <td>1</td>\n",
       "      <td>1</td>\n",
       "      <td>1</td>\n",
       "      <td>1</td>\n",
       "      <td>1</td>\n",
       "      <td>1</td>\n",
       "      <td>1</td>\n",
       "      <td>1</td>\n",
       "      <td>0</td>\n",
       "      <td>0</td>\n",
       "      <td>0</td>\n",
       "    </tr>\n",
       "  </tbody>\n",
       "</table>\n",
       "</div>"
      ],
      "text/plain": [
       "   Converted  Converted_Prob  Lead Number  predicted  0.0  0.1  0.2  0.3  0.4  \\\n",
       "0          1        0.089906       618332          0    1    0    0    0    0   \n",
       "1          1        0.998940       605316          1    1    1    1    1    1   \n",
       "2          0        0.003859       655685          0    1    0    0    0    0   \n",
       "3          0        0.157972       581653          0    1    1    0    0    0   \n",
       "4          1        0.631279       619035          1    1    1    1    1    1   \n",
       "\n",
       "   0.5  0.6  0.7  0.8  0.9  \n",
       "0    0    0    0    0    0  \n",
       "1    1    1    1    1    1  \n",
       "2    0    0    0    0    0  \n",
       "3    0    0    0    0    0  \n",
       "4    1    1    0    0    0  "
      ]
     },
     "execution_count": 58,
     "metadata": {},
     "output_type": "execute_result"
    }
   ],
   "source": [
    "# Let's create columns with different probability cutoffs \n",
    "numbers = [float(x)/10 for x in range(10)]\n",
    "for i in numbers:\n",
    "    y_train_pred_final[i]= y_train_pred_final.Converted_Prob.map(lambda x: 1 if x > i else 0)\n",
    "y_train_pred_final.head()"
   ]
  },
  {
   "cell_type": "code",
   "execution_count": 59,
   "id": "8960e394",
   "metadata": {},
   "outputs": [
    {
     "name": "stdout",
     "output_type": "stream",
     "text": [
      "     prob  accuracy     sensi     speci\n",
      "0.0   0.0  0.375653  1.000000  0.000000\n",
      "0.1   0.1  0.812173  0.939408  0.735620\n",
      "0.2   0.2  0.921936  0.883752  0.944910\n",
      "0.3   0.3  0.923453  0.882855  0.947880\n",
      "0.4   0.4  0.922610  0.866697  0.956252\n",
      "0.5   0.5  0.923116  0.864452  0.958412\n",
      "0.6   0.6  0.923116  0.864452  0.958412\n",
      "0.7   0.7  0.912156  0.806553  0.975695\n",
      "0.8   0.8  0.890575  0.736984  0.982987\n",
      "0.9   0.9  0.886697  0.715889  0.989468\n"
     ]
    }
   ],
   "source": [
    "# Now let's calculate accuracy sensitivity and specificity for various probability cutoffs.\n",
    "cutoff_df = pd.DataFrame( columns = ['prob','accuracy','sensi','speci'])\n",
    "from sklearn.metrics import confusion_matrix\n",
    "\n",
    "num = [0.0,0.1,0.2,0.3,0.4,0.5,0.6,0.7,0.8,0.9]\n",
    "for i in num:\n",
    "    cm1 = metrics.confusion_matrix(y_train_pred_final.Converted, y_train_pred_final[i] )\n",
    "    total1=sum(sum(cm1))\n",
    "    accuracy = (cm1[0,0]+cm1[1,1])/total1\n",
    "    \n",
    "    speci = cm1[0,0]/(cm1[0,0]+cm1[0,1])\n",
    "    sensi = cm1[1,1]/(cm1[1,0]+cm1[1,1])\n",
    "    cutoff_df.loc[i] =[ i ,accuracy,sensi,speci]\n",
    "print(cutoff_df)"
   ]
  },
  {
   "cell_type": "code",
   "execution_count": 60,
   "id": "4c158ad4",
   "metadata": {},
   "outputs": [
    {
     "data": {
      "image/png": "[encoded data removed]",
      "text/plain": [
       "<Figure size 576x288 with 1 Axes>"
      ]
     },
     "metadata": {
      "needs_background": "light"
     },
     "output_type": "display_data"
    }
   ],
   "source": [
    "# Let's plot accuracy sensitivity and specificity for various probabilities.\n",
    "cutoff_df.plot.line(x='prob', y=['accuracy','sensi','speci'])\n",
    "plt.show()"
   ]
  },
  {
   "cell_type": "markdown",
   "id": "5f6cc1a8",
   "metadata": {},
   "source": [
    "Probability cutoff = 0.2"
   ]
  },
  {
   "cell_type": "code",
   "execution_count": 61,
   "id": "336c7e34",
   "metadata": {},
   "outputs": [
    {
     "data": {
      "text/html": [
       "<div>\n",
       "<style scoped>\n",
       "    .dataframe tbody tr th:only-of-type {\n",
       "        vertical-align: middle;\n",
       "    }\n",
       "\n",
       "    .dataframe tbody tr th {\n",
       "        vertical-align: top;\n",
       "    }\n",
       "\n",
       "    .dataframe thead th {\n",
       "        text-align: right;\n",
       "    }\n",
       "</style>\n",
       "<table border=\"1\" class=\"dataframe\">\n",
       "  <thead>\n",
       "    <tr style=\"text-align: right;\">\n",
       "      <th></th>\n",
       "      <th>Converted</th>\n",
       "      <th>Converted_Prob</th>\n",
       "      <th>Lead Number</th>\n",
       "      <th>predicted</th>\n",
       "      <th>0.0</th>\n",
       "      <th>0.1</th>\n",
       "      <th>0.2</th>\n",
       "      <th>0.3</th>\n",
       "      <th>0.4</th>\n",
       "      <th>0.5</th>\n",
       "      <th>0.6</th>\n",
       "      <th>0.7</th>\n",
       "      <th>0.8</th>\n",
       "      <th>0.9</th>\n",
       "      <th>final_predicted</th>\n",
       "    </tr>\n",
       "  </thead>\n",
       "  <tbody>\n",
       "    <tr>\n",
       "      <th>0</th>\n",
       "      <td>1</td>\n",
       "      <td>0.089906</td>\n",
       "      <td>618332</td>\n",
       "      <td>0</td>\n",
       "      <td>1</td>\n",
       "      <td>0</td>\n",
       "      <td>0</td>\n",
       "      <td>0</td>\n",
       "      <td>0</td>\n",
       "      <td>0</td>\n",
       "      <td>0</td>\n",
       "      <td>0</td>\n",
       "      <td>0</td>\n",
       "      <td>0</td>\n",
       "      <td>0</td>\n",
       "    </tr>\n",
       "    <tr>\n",
       "      <th>1</th>\n",
       "      <td>1</td>\n",
       "      <td>0.998940</td>\n",
       "      <td>605316</td>\n",
       "      <td>1</td>\n",
       "      <td>1</td>\n",
       "      <td>1</td>\n",
       "      <td>1</td>\n",
       "      <td>1</td>\n",
       "      <td>1</td>\n",
       "      <td>1</td>\n",
       "      <td>1</td>\n",
       "      <td>1</td>\n",
       "      <td>1</td>\n",
       "      <td>1</td>\n",
       "      <td>1</td>\n",
       "    </tr>\n",
       "    <tr>\n",
       "      <th>2</th>\n",
       "      <td>0</td>\n",
       "      <td>0.003859</td>\n",
       "      <td>655685</td>\n",
       "      <td>0</td>\n",
       "      <td>1</td>\n",
       "      <td>0</td>\n",
       "      <td>0</td>\n",
       "      <td>0</td>\n",
       "      <td>0</td>\n",
       "      <td>0</td>\n",
       "      <td>0</td>\n",
       "      <td>0</td>\n",
       "      <td>0</td>\n",
       "      <td>0</td>\n",
       "      <td>0</td>\n",
       "    </tr>\n",
       "    <tr>\n",
       "      <th>3</th>\n",
       "      <td>0</td>\n",
       "      <td>0.157972</td>\n",
       "      <td>581653</td>\n",
       "      <td>0</td>\n",
       "      <td>1</td>\n",
       "      <td>1</td>\n",
       "      <td>0</td>\n",
       "      <td>0</td>\n",
       "      <td>0</td>\n",
       "      <td>0</td>\n",
       "      <td>0</td>\n",
       "      <td>0</td>\n",
       "      <td>0</td>\n",
       "      <td>0</td>\n",
       "      <td>0</td>\n",
       "    </tr>\n",
       "    <tr>\n",
       "      <th>4</th>\n",
       "      <td>1</td>\n",
       "      <td>0.631279</td>\n",
       "      <td>619035</td>\n",
       "      <td>1</td>\n",
       "      <td>1</td>\n",
       "      <td>1</td>\n",
       "      <td>1</td>\n",
       "      <td>1</td>\n",
       "      <td>1</td>\n",
       "      <td>1</td>\n",
       "      <td>1</td>\n",
       "      <td>0</td>\n",
       "      <td>0</td>\n",
       "      <td>0</td>\n",
       "      <td>1</td>\n",
       "    </tr>\n",
       "  </tbody>\n",
       "</table>\n",
       "</div>"
      ],
      "text/plain": [
       "   Converted  Converted_Prob  Lead Number  predicted  0.0  0.1  0.2  0.3  0.4  \\\n",
       "0          1        0.089906       618332          0    1    0    0    0    0   \n",
       "1          1        0.998940       605316          1    1    1    1    1    1   \n",
       "2          0        0.003859       655685          0    1    0    0    0    0   \n",
       "3          0        0.157972       581653          0    1    1    0    0    0   \n",
       "4          1        0.631279       619035          1    1    1    1    1    1   \n",
       "\n",
       "   0.5  0.6  0.7  0.8  0.9  final_predicted  \n",
       "0    0    0    0    0    0                0  \n",
       "1    1    1    1    1    1                1  \n",
       "2    0    0    0    0    0                0  \n",
       "3    0    0    0    0    0                0  \n",
       "4    1    1    0    0    0                1  "
      ]
     },
     "execution_count": 61,
     "metadata": {},
     "output_type": "execute_result"
    }
   ],
   "source": [
    "# From the above plot we get to know that 0.29 is the optimum point to take it as a cut-off\n",
    "y_train_pred_final['final_predicted'] = y_train_pred_final.Converted_Prob.map( lambda x: 1 if x > 0.2 else 0)\n",
    "\n",
    "y_train_pred_final.head()"
   ]
  },
  {
   "cell_type": "code",
   "execution_count": 62,
   "id": "c4460e4d",
   "metadata": {},
   "outputs": [
    {
     "name": "stdout",
     "output_type": "stream",
     "text": [
      "Accuracy: 0.9219355926487944\n",
      "\n",
      "Confusion Matrix:\n",
      "[[3499  204]\n",
      " [ 259 1969]]\n",
      "\n",
      "sensitivity: 0.8837522441651705\n",
      "specificity: 0.9449095328112341\n",
      "false_postive_rate: 0.05509046718876587\n",
      "positive_predictive_value: 0.9061205706396687\n",
      "negative_predictive_value: 0.9310803618946248\n"
     ]
    }
   ],
   "source": [
    "# Accuracy of model with cut-off 0.2\n",
    "accuracy = metrics.accuracy_score(y_train_pred_final.Converted, y_train_pred_final.final_predicted)\n",
    "print(\"Accuracy:\", accuracy)\n",
    "\n",
    "confusion2 = metrics.confusion_matrix(y_train_pred_final.Converted, y_train_pred_final.final_predicted )\n",
    "print(\"\\nConfusion Matrix:\")\n",
    "print(confusion2)\n",
    "\n",
    "TP = confusion2[1,1] # true positive \n",
    "TN = confusion2[0,0] # true negatives\n",
    "FP = confusion2[0,1] # false positives\n",
    "FN = confusion2[1,0] # false negatives\n",
    "\n",
    "# Let's see the sensitivity\n",
    "sensitivity = TP / float(TP+FN)\n",
    "\n",
    "# Let us calculate specificity\n",
    "specificity = TN / float(TN+FP)\n",
    "\n",
    "# False postive rate - predicting converted when lead have not converted\n",
    "false_postive_rate = FP/ float(TN+FP)\n",
    "\n",
    "# positive predictive value \n",
    "positive_predictive_value = TP / float(TP+FP)\n",
    "\n",
    "# Negative predictive value\n",
    "negative_predictive_value = TN / float(TN+ FN)\n",
    "\n",
    "print(\"\\nsensitivity:\", sensitivity)\n",
    "print(\"specificity:\", specificity)\n",
    "print(\"false_postive_rate:\", false_postive_rate)\n",
    "print(\"positive_predictive_value:\", positive_predictive_value)\n",
    "print(\"negative_predictive_value:\", negative_predictive_value)"
   ]
  },
  {
   "cell_type": "markdown",
   "id": "7f4d2678",
   "metadata": {},
   "source": [
    "Confusion matrix\n"
   ]
  },
  {
   "cell_type": "code",
   "execution_count": 63,
   "id": "befe5c8d",
   "metadata": {},
   "outputs": [
    {
     "name": "stdout",
     "output_type": "stream",
     "text": [
      "Confusion Matrix:\n",
      "[[3549  154]\n",
      " [ 302 1926]]\n",
      "\n",
      "precision: 0.9259615384615385\n",
      "recall: 0.8644524236983842\n"
     ]
    }
   ],
   "source": [
    "confusion = metrics.confusion_matrix(y_train_pred_final.Converted, y_train_pred_final.predicted)\n",
    "print(\"Confusion Matrix:\")\n",
    "print(confusion)\n",
    "\n",
    "#Precision = TP / TP + FP\n",
    "precision = confusion[1,1]/(confusion[0,1]+confusion[1,1])\n",
    "\n",
    "#Recall = TP / TP + FN\n",
    "recall = confusion[1,1]/(confusion[1,0]+confusion[1,1])\n",
    "\n",
    "print(\"\\nprecision:\", precision)\n",
    "print(\"recall:\", recall)"
   ]
  },
  {
   "cell_type": "code",
   "execution_count": 64,
   "id": "36a65251",
   "metadata": {},
   "outputs": [
    {
     "name": "stdout",
     "output_type": "stream",
     "text": [
      "Precision: 0.9259615384615385\n",
      "Recall: 0.8644524236983842\n"
     ]
    }
   ],
   "source": [
    "\n",
    "#Using sklearn to calculate the same\n",
    "from sklearn.metrics import precision_score, recall_score\n",
    "print(\"Precision:\", precision_score(y_train_pred_final.Converted, y_train_pred_final.predicted))\n",
    "print(\"Recall:\", recall_score(y_train_pred_final.Converted, y_train_pred_final.predicted))"
   ]
  },
  {
   "cell_type": "code",
   "execution_count": 65,
   "id": "b4996a70",
   "metadata": {},
   "outputs": [
    {
     "data": {
      "image/png": "[encoded data removed]",
      "text/plain": [
       "<Figure size 576x288 with 1 Axes>"
      ]
     },
     "metadata": {
      "needs_background": "light"
     },
     "output_type": "display_data"
    }
   ],
   "source": [
    "from sklearn.metrics import precision_recall_curve\n",
    "p, r, thresholds = precision_recall_curve(y_train_pred_final.Converted, y_train_pred_final.Converted_Prob)\n",
    "plt.plot(thresholds, p[:-1], \"g-\")\n",
    "plt.plot(thresholds, r[:-1], \"r-\")\n",
    "plt.show()"
   ]
  },
  {
   "cell_type": "markdown",
   "id": "5b3a2070",
   "metadata": {},
   "source": [
    " Making Predictions on the test dataset"
   ]
  },
  {
   "cell_type": "code",
   "execution_count": 66,
   "id": "3eb6ed37",
   "metadata": {},
   "outputs": [],
   "source": [
    "#Scaling continuous vars of test data\n",
    "X_test[['TotalVisits','Total Time Spent on Website','Page Views Per Visit']] = scaler.transform(X_test[['TotalVisits',\n",
    "                                                            'Total Time Spent on Website','Page Views Per Visit']])"
   ]
  },
  {
   "cell_type": "code",
   "execution_count": 67,
   "id": "b9a411c3",
   "metadata": {},
   "outputs": [],
   "source": [
    "X_test = X_test[col2]\n",
    "X_test_sm = sm.add_constant(X_test)\n",
    "\n",
    "# Making prediction on the test set:\n",
    "y_test_pred = res.predict(X_test_sm)"
   ]
  },
  {
   "cell_type": "code",
   "execution_count": 68,
   "id": "f3409486",
   "metadata": {},
   "outputs": [],
   "source": [
    "\n",
    "# Converting y_pred to a dataframe which is an array\n",
    "y_pred_1 = pd.DataFrame(y_test_pred)\n",
    "\n",
    "# Converting y_test to dataframe\n",
    "y_test_df = pd.DataFrame(y_test)\n",
    "\n",
    "#Putting Lead Number to index\n",
    "y_test_df['Lead Number'] = y_test_df.index\n",
    "\n",
    "# Removing index for both dataframes to append them side by side \n",
    "y_test_df.reset_index(drop=True, inplace=True)\n",
    "y_pred_1.reset_index(drop=True, inplace=True)\n",
    "\n",
    "# Appending y_test_df and y_pred_1\n",
    "y_pred_final = pd.concat([y_test_df, y_pred_1],axis=1)"
   ]
  },
  {
   "cell_type": "code",
   "execution_count": 69,
   "id": "aafdc616",
   "metadata": {},
   "outputs": [
    {
     "data": {
      "text/html": [
       "<div>\n",
       "<style scoped>\n",
       "    .dataframe tbody tr th:only-of-type {\n",
       "        vertical-align: middle;\n",
       "    }\n",
       "\n",
       "    .dataframe tbody tr th {\n",
       "        vertical-align: top;\n",
       "    }\n",
       "\n",
       "    .dataframe thead th {\n",
       "        text-align: right;\n",
       "    }\n",
       "</style>\n",
       "<table border=\"1\" class=\"dataframe\">\n",
       "  <thead>\n",
       "    <tr style=\"text-align: right;\">\n",
       "      <th></th>\n",
       "      <th>Converted</th>\n",
       "      <th>Lead Number</th>\n",
       "      <th>Converted_Prob</th>\n",
       "    </tr>\n",
       "  </thead>\n",
       "  <tbody>\n",
       "    <tr>\n",
       "      <th>0</th>\n",
       "      <td>0</td>\n",
       "      <td>590700</td>\n",
       "      <td>0.004358</td>\n",
       "    </tr>\n",
       "    <tr>\n",
       "      <th>1</th>\n",
       "      <td>1</td>\n",
       "      <td>594833</td>\n",
       "      <td>0.996683</td>\n",
       "    </tr>\n",
       "    <tr>\n",
       "      <th>2</th>\n",
       "      <td>0</td>\n",
       "      <td>600817</td>\n",
       "      <td>0.089906</td>\n",
       "    </tr>\n",
       "    <tr>\n",
       "      <th>3</th>\n",
       "      <td>0</td>\n",
       "      <td>656621</td>\n",
       "      <td>0.003859</td>\n",
       "    </tr>\n",
       "    <tr>\n",
       "      <th>4</th>\n",
       "      <td>0</td>\n",
       "      <td>580732</td>\n",
       "      <td>0.042278</td>\n",
       "    </tr>\n",
       "  </tbody>\n",
       "</table>\n",
       "</div>"
      ],
      "text/plain": [
       "   Converted  Lead Number  Converted_Prob\n",
       "0          0       590700        0.004358\n",
       "1          1       594833        0.996683\n",
       "2          0       600817        0.089906\n",
       "3          0       656621        0.003859\n",
       "4          0       580732        0.042278"
      ]
     },
     "execution_count": 69,
     "metadata": {},
     "output_type": "execute_result"
    }
   ],
   "source": [
    "# Renaming the column \n",
    "y_pred_final= y_pred_final.rename(columns={ 0 : 'Converted_Prob'})\n",
    "y_pred_final.head()"
   ]
  },
  {
   "cell_type": "code",
   "execution_count": 70,
   "id": "47d9ae63",
   "metadata": {},
   "outputs": [
    {
     "data": {
      "text/html": [
       "<div>\n",
       "<style scoped>\n",
       "    .dataframe tbody tr th:only-of-type {\n",
       "        vertical-align: middle;\n",
       "    }\n",
       "\n",
       "    .dataframe tbody tr th {\n",
       "        vertical-align: top;\n",
       "    }\n",
       "\n",
       "    .dataframe thead th {\n",
       "        text-align: right;\n",
       "    }\n",
       "</style>\n",
       "<table border=\"1\" class=\"dataframe\">\n",
       "  <thead>\n",
       "    <tr style=\"text-align: right;\">\n",
       "      <th></th>\n",
       "      <th>Converted</th>\n",
       "      <th>Lead Number</th>\n",
       "      <th>Converted_Prob</th>\n",
       "      <th>final_predicted</th>\n",
       "    </tr>\n",
       "  </thead>\n",
       "  <tbody>\n",
       "    <tr>\n",
       "      <th>0</th>\n",
       "      <td>0</td>\n",
       "      <td>590700</td>\n",
       "      <td>0.004358</td>\n",
       "      <td>0</td>\n",
       "    </tr>\n",
       "    <tr>\n",
       "      <th>1</th>\n",
       "      <td>1</td>\n",
       "      <td>594833</td>\n",
       "      <td>0.996683</td>\n",
       "      <td>1</td>\n",
       "    </tr>\n",
       "    <tr>\n",
       "      <th>2</th>\n",
       "      <td>0</td>\n",
       "      <td>600817</td>\n",
       "      <td>0.089906</td>\n",
       "      <td>0</td>\n",
       "    </tr>\n",
       "    <tr>\n",
       "      <th>3</th>\n",
       "      <td>0</td>\n",
       "      <td>656621</td>\n",
       "      <td>0.003859</td>\n",
       "      <td>0</td>\n",
       "    </tr>\n",
       "    <tr>\n",
       "      <th>4</th>\n",
       "      <td>0</td>\n",
       "      <td>580732</td>\n",
       "      <td>0.042278</td>\n",
       "      <td>0</td>\n",
       "    </tr>\n",
       "  </tbody>\n",
       "</table>\n",
       "</div>"
      ],
      "text/plain": [
       "   Converted  Lead Number  Converted_Prob  final_predicted\n",
       "0          0       590700        0.004358                0\n",
       "1          1       594833        0.996683                1\n",
       "2          0       600817        0.089906                0\n",
       "3          0       656621        0.003859                0\n",
       "4          0       580732        0.042278                0"
      ]
     },
     "execution_count": 70,
     "metadata": {},
     "output_type": "execute_result"
    }
   ],
   "source": [
    "# Creating predicted column with 0.2 probability cutoff\n",
    "y_pred_final['final_predicted'] = y_pred_final.Converted_Prob.map(lambda x: 1 if x > 0.2 else 0)\n",
    "\n",
    "y_pred_final.head()"
   ]
  },
  {
   "cell_type": "code",
   "execution_count": 71,
   "id": "04dc8679",
   "metadata": {},
   "outputs": [
    {
     "name": "stdout",
     "output_type": "stream",
     "text": [
      "Accuracy: 0.9233189146677153\n",
      "\n",
      "Confusion Matrix:\n",
      "[[1494   86]\n",
      " [ 109  854]]\n",
      "\n",
      "Sensitivity: 0.8868120456905504\n",
      "Specificity: 0.9455696202531646\n"
     ]
    }
   ],
   "source": [
    "# Overall Accuracy\n",
    "accuracy = metrics.accuracy_score(y_pred_final.Converted, y_pred_final.final_predicted)\n",
    "print(\"Accuracy:\", accuracy)\n",
    "\n",
    "confusion3 = metrics.confusion_matrix(y_pred_final.Converted, y_pred_final.final_predicted )\n",
    "print(\"\\nConfusion Matrix:\")\n",
    "print(confusion3)\n",
    "\n",
    "TP = confusion3[1,1] # true positive \n",
    "TN = confusion3[0,0] # true negatives\n",
    "FP = confusion3[0,1] # false positives\n",
    "FN = confusion3[1,0] # false negatives\n",
    "\n",
    "# Let's see the sensitivity of our logistic regression model\n",
    "print(\"\\nSensitivity:\", TP / float(TP+FN))\n",
    "\n",
    "# Let us calculate specificity\n",
    "print(\"Specificity:\", TN / float(TN+FP))"
   ]
  },
  {
   "cell_type": "markdown",
   "id": "ad690a6d",
   "metadata": {},
   "source": [
    "\n",
    "Lead Score = 100 * ConversionProbability"
   ]
  },
  {
   "cell_type": "code",
   "execution_count": 72,
   "id": "db02499d",
   "metadata": {},
   "outputs": [
    {
     "data": {
      "text/html": [
       "<div>\n",
       "<style scoped>\n",
       "    .dataframe tbody tr th:only-of-type {\n",
       "        vertical-align: middle;\n",
       "    }\n",
       "\n",
       "    .dataframe tbody tr th {\n",
       "        vertical-align: top;\n",
       "    }\n",
       "\n",
       "    .dataframe thead th {\n",
       "        text-align: right;\n",
       "    }\n",
       "</style>\n",
       "<table border=\"1\" class=\"dataframe\">\n",
       "  <thead>\n",
       "    <tr style=\"text-align: right;\">\n",
       "      <th></th>\n",
       "      <th>Converted</th>\n",
       "      <th>Lead Number</th>\n",
       "      <th>Converted_Prob</th>\n",
       "      <th>final_predicted</th>\n",
       "    </tr>\n",
       "  </thead>\n",
       "  <tbody>\n",
       "    <tr>\n",
       "      <th>0</th>\n",
       "      <td>0</td>\n",
       "      <td>590700</td>\n",
       "      <td>0.004358</td>\n",
       "      <td>0</td>\n",
       "    </tr>\n",
       "    <tr>\n",
       "      <th>1</th>\n",
       "      <td>1</td>\n",
       "      <td>594833</td>\n",
       "      <td>0.996683</td>\n",
       "      <td>1</td>\n",
       "    </tr>\n",
       "    <tr>\n",
       "      <th>2</th>\n",
       "      <td>0</td>\n",
       "      <td>600817</td>\n",
       "      <td>0.089906</td>\n",
       "      <td>0</td>\n",
       "    </tr>\n",
       "    <tr>\n",
       "      <th>3</th>\n",
       "      <td>0</td>\n",
       "      <td>656621</td>\n",
       "      <td>0.003859</td>\n",
       "      <td>0</td>\n",
       "    </tr>\n",
       "    <tr>\n",
       "      <th>4</th>\n",
       "      <td>0</td>\n",
       "      <td>580732</td>\n",
       "      <td>0.042278</td>\n",
       "      <td>0</td>\n",
       "    </tr>\n",
       "  </tbody>\n",
       "</table>\n",
       "</div>"
      ],
      "text/plain": [
       "   Converted  Lead Number  Converted_Prob  final_predicted\n",
       "0          0       590700        0.004358                0\n",
       "1          1       594833        0.996683                1\n",
       "2          0       600817        0.089906                0\n",
       "3          0       656621        0.003859                0\n",
       "4          0       580732        0.042278                0"
      ]
     },
     "execution_count": 72,
     "metadata": {},
     "output_type": "execute_result"
    }
   ],
   "source": [
    "# Selecting the test dataset along with the Conversion Probability and final predicted value for 'Converted'\n",
    "leads_test_pred = y_pred_final.copy()\n",
    "leads_test_pred.head()"
   ]
  },
  {
   "cell_type": "code",
   "execution_count": 73,
   "id": "7b056b53",
   "metadata": {},
   "outputs": [
    {
     "data": {
      "text/html": [
       "<div>\n",
       "<style scoped>\n",
       "    .dataframe tbody tr th:only-of-type {\n",
       "        vertical-align: middle;\n",
       "    }\n",
       "\n",
       "    .dataframe tbody tr th {\n",
       "        vertical-align: top;\n",
       "    }\n",
       "\n",
       "    .dataframe thead th {\n",
       "        text-align: right;\n",
       "    }\n",
       "</style>\n",
       "<table border=\"1\" class=\"dataframe\">\n",
       "  <thead>\n",
       "    <tr style=\"text-align: right;\">\n",
       "      <th></th>\n",
       "      <th>Converted</th>\n",
       "      <th>Converted_Prob</th>\n",
       "      <th>Lead Number</th>\n",
       "      <th>predicted</th>\n",
       "      <th>0.0</th>\n",
       "      <th>0.1</th>\n",
       "      <th>0.2</th>\n",
       "      <th>0.3</th>\n",
       "      <th>0.4</th>\n",
       "      <th>0.5</th>\n",
       "      <th>0.6</th>\n",
       "      <th>0.7</th>\n",
       "      <th>0.8</th>\n",
       "      <th>0.9</th>\n",
       "      <th>final_predicted</th>\n",
       "    </tr>\n",
       "  </thead>\n",
       "  <tbody>\n",
       "    <tr>\n",
       "      <th>0</th>\n",
       "      <td>1</td>\n",
       "      <td>0.089906</td>\n",
       "      <td>618332</td>\n",
       "      <td>0</td>\n",
       "      <td>1</td>\n",
       "      <td>0</td>\n",
       "      <td>0</td>\n",
       "      <td>0</td>\n",
       "      <td>0</td>\n",
       "      <td>0</td>\n",
       "      <td>0</td>\n",
       "      <td>0</td>\n",
       "      <td>0</td>\n",
       "      <td>0</td>\n",
       "      <td>0</td>\n",
       "    </tr>\n",
       "    <tr>\n",
       "      <th>1</th>\n",
       "      <td>1</td>\n",
       "      <td>0.998940</td>\n",
       "      <td>605316</td>\n",
       "      <td>1</td>\n",
       "      <td>1</td>\n",
       "      <td>1</td>\n",
       "      <td>1</td>\n",
       "      <td>1</td>\n",
       "      <td>1</td>\n",
       "      <td>1</td>\n",
       "      <td>1</td>\n",
       "      <td>1</td>\n",
       "      <td>1</td>\n",
       "      <td>1</td>\n",
       "      <td>1</td>\n",
       "    </tr>\n",
       "    <tr>\n",
       "      <th>2</th>\n",
       "      <td>0</td>\n",
       "      <td>0.003859</td>\n",
       "      <td>655685</td>\n",
       "      <td>0</td>\n",
       "      <td>1</td>\n",
       "      <td>0</td>\n",
       "      <td>0</td>\n",
       "      <td>0</td>\n",
       "      <td>0</td>\n",
       "      <td>0</td>\n",
       "      <td>0</td>\n",
       "      <td>0</td>\n",
       "      <td>0</td>\n",
       "      <td>0</td>\n",
       "      <td>0</td>\n",
       "    </tr>\n",
       "    <tr>\n",
       "      <th>3</th>\n",
       "      <td>0</td>\n",
       "      <td>0.157972</td>\n",
       "      <td>581653</td>\n",
       "      <td>0</td>\n",
       "      <td>1</td>\n",
       "      <td>1</td>\n",
       "      <td>0</td>\n",
       "      <td>0</td>\n",
       "      <td>0</td>\n",
       "      <td>0</td>\n",
       "      <td>0</td>\n",
       "      <td>0</td>\n",
       "      <td>0</td>\n",
       "      <td>0</td>\n",
       "      <td>0</td>\n",
       "    </tr>\n",
       "    <tr>\n",
       "      <th>4</th>\n",
       "      <td>1</td>\n",
       "      <td>0.631279</td>\n",
       "      <td>619035</td>\n",
       "      <td>1</td>\n",
       "      <td>1</td>\n",
       "      <td>1</td>\n",
       "      <td>1</td>\n",
       "      <td>1</td>\n",
       "      <td>1</td>\n",
       "      <td>1</td>\n",
       "      <td>1</td>\n",
       "      <td>0</td>\n",
       "      <td>0</td>\n",
       "      <td>0</td>\n",
       "      <td>1</td>\n",
       "    </tr>\n",
       "  </tbody>\n",
       "</table>\n",
       "</div>"
      ],
      "text/plain": [
       "   Converted  Converted_Prob  Lead Number  predicted  0.0  0.1  0.2  0.3  0.4  \\\n",
       "0          1        0.089906       618332          0    1    0    0    0    0   \n",
       "1          1        0.998940       605316          1    1    1    1    1    1   \n",
       "2          0        0.003859       655685          0    1    0    0    0    0   \n",
       "3          0        0.157972       581653          0    1    1    0    0    0   \n",
       "4          1        0.631279       619035          1    1    1    1    1    1   \n",
       "\n",
       "   0.5  0.6  0.7  0.8  0.9  final_predicted  \n",
       "0    0    0    0    0    0                0  \n",
       "1    1    1    1    1    1                1  \n",
       "2    0    0    0    0    0                0  \n",
       "3    0    0    0    0    0                0  \n",
       "4    1    1    0    0    0                1  "
      ]
     },
     "execution_count": 73,
     "metadata": {},
     "output_type": "execute_result"
    }
   ],
   "source": [
    "# Selecting the train dataset along with the Conversion Probability and final predicted value for 'Converted'\n",
    "leads_train_pred = y_train_pred_final.copy()\n",
    "leads_train_pred.head()"
   ]
  },
  {
   "cell_type": "code",
   "execution_count": 74,
   "id": "7c714988",
   "metadata": {},
   "outputs": [
    {
     "data": {
      "text/html": [
       "<div>\n",
       "<style scoped>\n",
       "    .dataframe tbody tr th:only-of-type {\n",
       "        vertical-align: middle;\n",
       "    }\n",
       "\n",
       "    .dataframe tbody tr th {\n",
       "        vertical-align: top;\n",
       "    }\n",
       "\n",
       "    .dataframe thead th {\n",
       "        text-align: right;\n",
       "    }\n",
       "</style>\n",
       "<table border=\"1\" class=\"dataframe\">\n",
       "  <thead>\n",
       "    <tr style=\"text-align: right;\">\n",
       "      <th></th>\n",
       "      <th>Lead Number</th>\n",
       "      <th>Converted</th>\n",
       "      <th>Converted_Prob</th>\n",
       "      <th>final_predicted</th>\n",
       "    </tr>\n",
       "  </thead>\n",
       "  <tbody>\n",
       "    <tr>\n",
       "      <th>0</th>\n",
       "      <td>618332</td>\n",
       "      <td>1</td>\n",
       "      <td>0.089906</td>\n",
       "      <td>0</td>\n",
       "    </tr>\n",
       "    <tr>\n",
       "      <th>1</th>\n",
       "      <td>605316</td>\n",
       "      <td>1</td>\n",
       "      <td>0.998940</td>\n",
       "      <td>1</td>\n",
       "    </tr>\n",
       "    <tr>\n",
       "      <th>2</th>\n",
       "      <td>655685</td>\n",
       "      <td>0</td>\n",
       "      <td>0.003859</td>\n",
       "      <td>0</td>\n",
       "    </tr>\n",
       "    <tr>\n",
       "      <th>3</th>\n",
       "      <td>581653</td>\n",
       "      <td>0</td>\n",
       "      <td>0.157972</td>\n",
       "      <td>0</td>\n",
       "    </tr>\n",
       "    <tr>\n",
       "      <th>4</th>\n",
       "      <td>619035</td>\n",
       "      <td>1</td>\n",
       "      <td>0.631279</td>\n",
       "      <td>1</td>\n",
       "    </tr>\n",
       "  </tbody>\n",
       "</table>\n",
       "</div>"
      ],
      "text/plain": [
       "   Lead Number  Converted  Converted_Prob  final_predicted\n",
       "0       618332          1        0.089906                0\n",
       "1       605316          1        0.998940                1\n",
       "2       655685          0        0.003859                0\n",
       "3       581653          0        0.157972                0\n",
       "4       619035          1        0.631279                1"
      ]
     },
     "execution_count": 74,
     "metadata": {},
     "output_type": "execute_result"
    }
   ],
   "source": [
    "# Dropping unnecessary columns from train dataset\n",
    "leads_train_pred = leads_train_pred[['Lead Number','Converted','Converted_Prob','final_predicted']]\n",
    "leads_train_pred.head()"
   ]
  },
  {
   "cell_type": "code",
   "execution_count": 75,
   "id": "e3ab7f4c",
   "metadata": {},
   "outputs": [
    {
     "data": {
      "text/html": [
       "<div>\n",
       "<style scoped>\n",
       "    .dataframe tbody tr th:only-of-type {\n",
       "        vertical-align: middle;\n",
       "    }\n",
       "\n",
       "    .dataframe tbody tr th {\n",
       "        vertical-align: top;\n",
       "    }\n",
       "\n",
       "    .dataframe thead th {\n",
       "        text-align: right;\n",
       "    }\n",
       "</style>\n",
       "<table border=\"1\" class=\"dataframe\">\n",
       "  <thead>\n",
       "    <tr style=\"text-align: right;\">\n",
       "      <th></th>\n",
       "      <th>Lead Number</th>\n",
       "      <th>Converted</th>\n",
       "      <th>Converted_Prob</th>\n",
       "      <th>final_predicted</th>\n",
       "    </tr>\n",
       "  </thead>\n",
       "  <tbody>\n",
       "    <tr>\n",
       "      <th>0</th>\n",
       "      <td>618332</td>\n",
       "      <td>1</td>\n",
       "      <td>0.089906</td>\n",
       "      <td>0</td>\n",
       "    </tr>\n",
       "    <tr>\n",
       "      <th>1</th>\n",
       "      <td>605316</td>\n",
       "      <td>1</td>\n",
       "      <td>0.998940</td>\n",
       "      <td>1</td>\n",
       "    </tr>\n",
       "    <tr>\n",
       "      <th>2</th>\n",
       "      <td>655685</td>\n",
       "      <td>0</td>\n",
       "      <td>0.003859</td>\n",
       "      <td>0</td>\n",
       "    </tr>\n",
       "    <tr>\n",
       "      <th>3</th>\n",
       "      <td>581653</td>\n",
       "      <td>0</td>\n",
       "      <td>0.157972</td>\n",
       "      <td>0</td>\n",
       "    </tr>\n",
       "    <tr>\n",
       "      <th>4</th>\n",
       "      <td>619035</td>\n",
       "      <td>1</td>\n",
       "      <td>0.631279</td>\n",
       "      <td>1</td>\n",
       "    </tr>\n",
       "  </tbody>\n",
       "</table>\n",
       "</div>"
      ],
      "text/plain": [
       "   Lead Number  Converted  Converted_Prob  final_predicted\n",
       "0       618332          1        0.089906                0\n",
       "1       605316          1        0.998940                1\n",
       "2       655685          0        0.003859                0\n",
       "3       581653          0        0.157972                0\n",
       "4       619035          1        0.631279                1"
      ]
     },
     "execution_count": 75,
     "metadata": {},
     "output_type": "execute_result"
    }
   ],
   "source": [
    "# Concatenating the 2 dataframes train and test along the rows with the append() function\n",
    "lead_full_pred = leads_train_pred.append(leads_test_pred)\n",
    "lead_full_pred.head()"
   ]
  },
  {
   "cell_type": "code",
   "execution_count": 76,
   "id": "c504ced4",
   "metadata": {},
   "outputs": [
    {
     "name": "stdout",
     "output_type": "stream",
     "text": [
      "(5931, 4)\n",
      "(2543, 4)\n",
      "(8474, 4)\n"
     ]
    }
   ],
   "source": [
    "# Inspecting the shape of the final dataframe and the test and train dataframes\n",
    "print(leads_train_pred.shape)\n",
    "print(leads_test_pred.shape)\n",
    "print(lead_full_pred.shape)"
   ]
  },
  {
   "cell_type": "code",
   "execution_count": 77,
   "id": "9d678f77",
   "metadata": {},
   "outputs": [
    {
     "data": {
      "text/plain": [
       "8474"
      ]
     },
     "execution_count": 77,
     "metadata": {},
     "output_type": "execute_result"
    }
   ],
   "source": [
    "# Ensuring the Lead Numbers are unique for each lead in the finl dataframe\n",
    "len(lead_full_pred['Lead Number'].unique().tolist())"
   ]
  },
  {
   "cell_type": "code",
   "execution_count": 78,
   "id": "42658e41",
   "metadata": {},
   "outputs": [
    {
     "data": {
      "text/html": [
       "<div>\n",
       "<style scoped>\n",
       "    .dataframe tbody tr th:only-of-type {\n",
       "        vertical-align: middle;\n",
       "    }\n",
       "\n",
       "    .dataframe tbody tr th {\n",
       "        vertical-align: top;\n",
       "    }\n",
       "\n",
       "    .dataframe thead th {\n",
       "        text-align: right;\n",
       "    }\n",
       "</style>\n",
       "<table border=\"1\" class=\"dataframe\">\n",
       "  <thead>\n",
       "    <tr style=\"text-align: right;\">\n",
       "      <th></th>\n",
       "      <th>Lead Number</th>\n",
       "      <th>Converted</th>\n",
       "      <th>Converted_Prob</th>\n",
       "      <th>final_predicted</th>\n",
       "      <th>Lead_Score</th>\n",
       "    </tr>\n",
       "  </thead>\n",
       "  <tbody>\n",
       "    <tr>\n",
       "      <th>0</th>\n",
       "      <td>618332</td>\n",
       "      <td>1</td>\n",
       "      <td>0.089906</td>\n",
       "      <td>0</td>\n",
       "      <td>9</td>\n",
       "    </tr>\n",
       "    <tr>\n",
       "      <th>1</th>\n",
       "      <td>605316</td>\n",
       "      <td>1</td>\n",
       "      <td>0.998940</td>\n",
       "      <td>1</td>\n",
       "      <td>100</td>\n",
       "    </tr>\n",
       "    <tr>\n",
       "      <th>2</th>\n",
       "      <td>655685</td>\n",
       "      <td>0</td>\n",
       "      <td>0.003859</td>\n",
       "      <td>0</td>\n",
       "      <td>0</td>\n",
       "    </tr>\n",
       "    <tr>\n",
       "      <th>3</th>\n",
       "      <td>581653</td>\n",
       "      <td>0</td>\n",
       "      <td>0.157972</td>\n",
       "      <td>0</td>\n",
       "      <td>16</td>\n",
       "    </tr>\n",
       "    <tr>\n",
       "      <th>4</th>\n",
       "      <td>619035</td>\n",
       "      <td>1</td>\n",
       "      <td>0.631279</td>\n",
       "      <td>1</td>\n",
       "      <td>63</td>\n",
       "    </tr>\n",
       "  </tbody>\n",
       "</table>\n",
       "</div>"
      ],
      "text/plain": [
       "   Lead Number  Converted  Converted_Prob  final_predicted  Lead_Score\n",
       "0       618332          1        0.089906                0           9\n",
       "1       605316          1        0.998940                1         100\n",
       "2       655685          0        0.003859                0           0\n",
       "3       581653          0        0.157972                0          16\n",
       "4       619035          1        0.631279                1          63"
      ]
     },
     "execution_count": 78,
     "metadata": {},
     "output_type": "execute_result"
    }
   ],
   "source": [
    "# Calculating the Lead Score value\n",
    "# Lead Score = 100 * Conversion_Prob\n",
    "lead_full_pred['Lead_Score'] = lead_full_pred['Converted_Prob'].apply(lambda x : round(x*100))\n",
    "lead_full_pred.head()"
   ]
  },
  {
   "cell_type": "code",
   "execution_count": 79,
   "id": "1ce9716f",
   "metadata": {},
   "outputs": [
    {
     "data": {
      "text/html": [
       "<div>\n",
       "<style scoped>\n",
       "    .dataframe tbody tr th:only-of-type {\n",
       "        vertical-align: middle;\n",
       "    }\n",
       "\n",
       "    .dataframe tbody tr th {\n",
       "        vertical-align: top;\n",
       "    }\n",
       "\n",
       "    .dataframe thead th {\n",
       "        text-align: right;\n",
       "    }\n",
       "</style>\n",
       "<table border=\"1\" class=\"dataframe\">\n",
       "  <thead>\n",
       "    <tr style=\"text-align: right;\">\n",
       "      <th></th>\n",
       "      <th>Converted</th>\n",
       "      <th>Converted_Prob</th>\n",
       "      <th>final_predicted</th>\n",
       "      <th>Lead_Score</th>\n",
       "    </tr>\n",
       "    <tr>\n",
       "      <th>Lead Number</th>\n",
       "      <th></th>\n",
       "      <th></th>\n",
       "      <th></th>\n",
       "      <th></th>\n",
       "    </tr>\n",
       "  </thead>\n",
       "  <tbody>\n",
       "    <tr>\n",
       "      <th>579533</th>\n",
       "      <td>1</td>\n",
       "      <td>0.945474</td>\n",
       "      <td>1</td>\n",
       "      <td>95</td>\n",
       "    </tr>\n",
       "    <tr>\n",
       "      <th>579538</th>\n",
       "      <td>1</td>\n",
       "      <td>0.631279</td>\n",
       "      <td>1</td>\n",
       "      <td>63</td>\n",
       "    </tr>\n",
       "    <tr>\n",
       "      <th>579545</th>\n",
       "      <td>0</td>\n",
       "      <td>0.017534</td>\n",
       "      <td>0</td>\n",
       "      <td>2</td>\n",
       "    </tr>\n",
       "    <tr>\n",
       "      <th>579546</th>\n",
       "      <td>0</td>\n",
       "      <td>0.764786</td>\n",
       "      <td>1</td>\n",
       "      <td>76</td>\n",
       "    </tr>\n",
       "    <tr>\n",
       "      <th>579564</th>\n",
       "      <td>1</td>\n",
       "      <td>0.803152</td>\n",
       "      <td>1</td>\n",
       "      <td>80</td>\n",
       "    </tr>\n",
       "  </tbody>\n",
       "</table>\n",
       "</div>"
      ],
      "text/plain": [
       "             Converted  Converted_Prob  final_predicted  Lead_Score\n",
       "Lead Number                                                        \n",
       "579533               1        0.945474                1          95\n",
       "579538               1        0.631279                1          63\n",
       "579545               0        0.017534                0           2\n",
       "579546               0        0.764786                1          76\n",
       "579564               1        0.803152                1          80"
      ]
     },
     "execution_count": 79,
     "metadata": {},
     "output_type": "execute_result"
    }
   ],
   "source": [
    "# Making the Lead Number column as index\n",
    "\n",
    "lead_full_pred = lead_full_pred.set_index('Lead Number').sort_index(axis = 0, ascending = True)\n",
    "lead_full_pred.head()"
   ]
  },
  {
   "cell_type": "code",
   "execution_count": 80,
   "id": "f653043a",
   "metadata": {},
   "outputs": [
    {
     "data": {
      "text/plain": [
       "Do Not Email                                   -1.45\n",
       "Lead Origin_Lead Add Form                       1.14\n",
       "Lead Source_Welingak Website                    3.85\n",
       "Last Activity_Olark Chat Conversation          -1.47\n",
       "What is your current occupation_Not Provided   -0.64\n",
       "Tags_Busy                                       0.86\n",
       "Tags_Closed by Horizzon                         6.56\n",
       "Tags_Lost to EINS                               5.48\n",
       "Tags_Ringing                                   -3.88\n",
       "Tags_Will revert after reading the email        4.53\n",
       "Tags_invalid number                            -3.76\n",
       "Tags_switched off                              -4.49\n",
       "Last Notable Activity_SMS Sent                  2.85\n",
       "dtype: float64"
      ]
     },
     "execution_count": 80,
     "metadata": {},
     "output_type": "execute_result"
    }
   ],
   "source": [
    "# Selecting the coefficients of the selected features from our final model excluding the intercept\n",
    "\n",
    "pd.options.display.float_format = '{:.2f}'.format\n",
    "new_params = res.params[1:]\n",
    "new_params"
   ]
  },
  {
   "cell_type": "code",
   "execution_count": 81,
   "id": "32eb514c",
   "metadata": {},
   "outputs": [
    {
     "data": {
      "text/plain": [
       "Do Not Email                                   -22.06\n",
       "Lead Origin_Lead Add Form                       17.43\n",
       "Lead Source_Welingak Website                    58.69\n",
       "Last Activity_Olark Chat Conversation          -22.47\n",
       "What is your current occupation_Not Provided    -9.78\n",
       "Tags_Busy                                       13.14\n",
       "Tags_Closed by Horizzon                        100.00\n",
       "Tags_Lost to EINS                               83.54\n",
       "Tags_Ringing                                   -59.14\n",
       "Tags_Will revert after reading the email        69.00\n",
       "Tags_invalid number                            -57.29\n",
       "Tags_switched off                              -68.51\n",
       "Last Notable Activity_SMS Sent                  43.48\n",
       "dtype: float64"
      ]
     },
     "execution_count": 81,
     "metadata": {},
     "output_type": "execute_result"
    }
   ],
   "source": [
    "# Getting a relative coeffient value for all the features wrt the feature with the highest coefficient\n",
    "\n",
    "feature_importance = new_params\n",
    "feature_importance = 100.0 * (feature_importance / feature_importance.max())\n",
    "feature_importance"
   ]
  },
  {
   "cell_type": "code",
   "execution_count": 83,
   "id": "40500c8d",
   "metadata": {},
   "outputs": [
    {
     "data": {
      "text/html": [
       "<div>\n",
       "<style scoped>\n",
       "    .dataframe tbody tr th:only-of-type {\n",
       "        vertical-align: middle;\n",
       "    }\n",
       "\n",
       "    .dataframe tbody tr th {\n",
       "        vertical-align: top;\n",
       "    }\n",
       "\n",
       "    .dataframe thead th {\n",
       "        text-align: right;\n",
       "    }\n",
       "</style>\n",
       "<table border=\"1\" class=\"dataframe\">\n",
       "  <thead>\n",
       "    <tr style=\"text-align: right;\">\n",
       "      <th></th>\n",
       "      <th>index</th>\n",
       "      <th>0</th>\n",
       "    </tr>\n",
       "  </thead>\n",
       "  <tbody>\n",
       "    <tr>\n",
       "      <th>6</th>\n",
       "      <td>Tags_Closed by Horizzon</td>\n",
       "      <td>100.00</td>\n",
       "    </tr>\n",
       "    <tr>\n",
       "      <th>7</th>\n",
       "      <td>Tags_Lost to EINS</td>\n",
       "      <td>83.54</td>\n",
       "    </tr>\n",
       "    <tr>\n",
       "      <th>9</th>\n",
       "      <td>Tags_Will revert after reading the email</td>\n",
       "      <td>69.00</td>\n",
       "    </tr>\n",
       "  </tbody>\n",
       "</table>\n",
       "</div>"
      ],
      "text/plain": [
       "                                      index      0\n",
       "6                   Tags_Closed by Horizzon 100.00\n",
       "7                         Tags_Lost to EINS  83.54\n",
       "9  Tags_Will revert after reading the email  69.00"
      ]
     },
     "execution_count": 83,
     "metadata": {},
     "output_type": "execute_result"
    }
   ],
   "source": [
    "# Top 3 features which contribute most towards the probability of a lead getting converted\n",
    "\n",
    "pd.DataFrame(feature_importance).reset_index().sort_values(by=0,ascending=False).head(3)"
   ]
  },
  {
   "cell_type": "markdown",
   "id": "fd3b3660",
   "metadata": {},
   "source": [
    "## Test Data"
   ]
  },
  {
   "cell_type": "code",
   "execution_count": 84,
   "id": "c1d79d06",
   "metadata": {},
   "outputs": [
    {
     "data": {
      "text/html": [
       "<div>\n",
       "<style scoped>\n",
       "    .dataframe tbody tr th:only-of-type {\n",
       "        vertical-align: middle;\n",
       "    }\n",
       "\n",
       "    .dataframe tbody tr th {\n",
       "        vertical-align: top;\n",
       "    }\n",
       "\n",
       "    .dataframe thead th {\n",
       "        text-align: right;\n",
       "    }\n",
       "</style>\n",
       "<table border=\"1\" class=\"dataframe\">\n",
       "  <thead>\n",
       "    <tr style=\"text-align: right;\">\n",
       "      <th></th>\n",
       "      <th>Prospect ID</th>\n",
       "      <th>Id</th>\n",
       "      <th>Lead Origin</th>\n",
       "      <th>Lead Source</th>\n",
       "      <th>Do Not Email</th>\n",
       "      <th>Do Not Call</th>\n",
       "      <th>TotalVisits</th>\n",
       "      <th>Total Time Spent on Website</th>\n",
       "      <th>Page Views Per Visit</th>\n",
       "      <th>Last Activity</th>\n",
       "      <th>...</th>\n",
       "      <th>Get updates on DM Content</th>\n",
       "      <th>Lead Profile</th>\n",
       "      <th>City</th>\n",
       "      <th>Asymmetrique Activity Index</th>\n",
       "      <th>Asymmetrique Profile Index</th>\n",
       "      <th>Asymmetrique Activity Score</th>\n",
       "      <th>Asymmetrique Profile Score</th>\n",
       "      <th>I agree to pay the amount through cheque</th>\n",
       "      <th>A free copy of Mastering The Interview</th>\n",
       "      <th>Last Notable Activity</th>\n",
       "    </tr>\n",
       "  </thead>\n",
       "  <tbody>\n",
       "    <tr>\n",
       "      <th>0</th>\n",
       "      <td>718cc1da-cdba-426b-9f53-4367354afe-70</td>\n",
       "      <td>111151</td>\n",
       "      <td>API</td>\n",
       "      <td>Direct Traffic</td>\n",
       "      <td>No</td>\n",
       "      <td>No</td>\n",
       "      <td>3.00</td>\n",
       "      <td>143</td>\n",
       "      <td>5.00</td>\n",
       "      <td>Email Link Clicked</td>\n",
       "      <td>...</td>\n",
       "      <td>No</td>\n",
       "      <td>NaN</td>\n",
       "      <td>Mumbai</td>\n",
       "      <td>NaN</td>\n",
       "      <td>NaN</td>\n",
       "      <td>NaN</td>\n",
       "      <td>NaN</td>\n",
       "      <td>No</td>\n",
       "      <td>No</td>\n",
       "      <td>Email Link Clicked</td>\n",
       "    </tr>\n",
       "    <tr>\n",
       "      <th>1</th>\n",
       "      <td>718cc1da-cdba-426b-9f53-4367354afe-71</td>\n",
       "      <td>111152</td>\n",
       "      <td>Landing Page Submission</td>\n",
       "      <td>Direct Traffic</td>\n",
       "      <td>No</td>\n",
       "      <td>No</td>\n",
       "      <td>251.00</td>\n",
       "      <td>54</td>\n",
       "      <td>2.00</td>\n",
       "      <td>Page Visited on Website</td>\n",
       "      <td>...</td>\n",
       "      <td>No</td>\n",
       "      <td>Select</td>\n",
       "      <td>Thane &amp; Outskirts</td>\n",
       "      <td>NaN</td>\n",
       "      <td>NaN</td>\n",
       "      <td>NaN</td>\n",
       "      <td>NaN</td>\n",
       "      <td>No</td>\n",
       "      <td>Yes</td>\n",
       "      <td>Page Visited on Website</td>\n",
       "    </tr>\n",
       "    <tr>\n",
       "      <th>2</th>\n",
       "      <td>718cc1da-cdba-426b-9f53-4367354afe-72</td>\n",
       "      <td>111153</td>\n",
       "      <td>API</td>\n",
       "      <td>Olark Chat</td>\n",
       "      <td>No</td>\n",
       "      <td>No</td>\n",
       "      <td>0.00</td>\n",
       "      <td>0</td>\n",
       "      <td>0.00</td>\n",
       "      <td>SMS Sent</td>\n",
       "      <td>...</td>\n",
       "      <td>No</td>\n",
       "      <td>Select</td>\n",
       "      <td>Mumbai</td>\n",
       "      <td>NaN</td>\n",
       "      <td>NaN</td>\n",
       "      <td>NaN</td>\n",
       "      <td>NaN</td>\n",
       "      <td>No</td>\n",
       "      <td>No</td>\n",
       "      <td>Modified</td>\n",
       "    </tr>\n",
       "    <tr>\n",
       "      <th>3</th>\n",
       "      <td>718cc1da-cdba-426b-9f53-4367354afe-73</td>\n",
       "      <td>111154</td>\n",
       "      <td>API</td>\n",
       "      <td>Google</td>\n",
       "      <td>No</td>\n",
       "      <td>No</td>\n",
       "      <td>16.00</td>\n",
       "      <td>485</td>\n",
       "      <td>2.00</td>\n",
       "      <td>Email Opened</td>\n",
       "      <td>...</td>\n",
       "      <td>No</td>\n",
       "      <td>Lateral Student</td>\n",
       "      <td>Other Cities</td>\n",
       "      <td>NaN</td>\n",
       "      <td>NaN</td>\n",
       "      <td>NaN</td>\n",
       "      <td>NaN</td>\n",
       "      <td>No</td>\n",
       "      <td>No</td>\n",
       "      <td>Email Opened</td>\n",
       "    </tr>\n",
       "    <tr>\n",
       "      <th>4</th>\n",
       "      <td>718cc1da-cdba-426b-9f53-4367354afe-74</td>\n",
       "      <td>111155</td>\n",
       "      <td>Landing Page Submission</td>\n",
       "      <td>Google</td>\n",
       "      <td>No</td>\n",
       "      <td>No</td>\n",
       "      <td>4.00</td>\n",
       "      <td>1849</td>\n",
       "      <td>7.00</td>\n",
       "      <td>Olark Chat Conversation</td>\n",
       "      <td>...</td>\n",
       "      <td>No</td>\n",
       "      <td>Select</td>\n",
       "      <td>Other Cities of Maharashtra</td>\n",
       "      <td>NaN</td>\n",
       "      <td>NaN</td>\n",
       "      <td>NaN</td>\n",
       "      <td>NaN</td>\n",
       "      <td>No</td>\n",
       "      <td>No</td>\n",
       "      <td>Modified</td>\n",
       "    </tr>\n",
       "  </tbody>\n",
       "</table>\n",
       "<p>5 rows × 36 columns</p>\n",
       "</div>"
      ],
      "text/plain": [
       "                             Prospect ID      Id              Lead Origin  \\\n",
       "0  718cc1da-cdba-426b-9f53-4367354afe-70  111151                      API   \n",
       "1  718cc1da-cdba-426b-9f53-4367354afe-71  111152  Landing Page Submission   \n",
       "2  718cc1da-cdba-426b-9f53-4367354afe-72  111153                      API   \n",
       "3  718cc1da-cdba-426b-9f53-4367354afe-73  111154                      API   \n",
       "4  718cc1da-cdba-426b-9f53-4367354afe-74  111155  Landing Page Submission   \n",
       "\n",
       "      Lead Source Do Not Email Do Not Call  TotalVisits  \\\n",
       "0  Direct Traffic           No          No         3.00   \n",
       "1  Direct Traffic           No          No       251.00   \n",
       "2      Olark Chat           No          No         0.00   \n",
       "3          Google           No          No        16.00   \n",
       "4          Google           No          No         4.00   \n",
       "\n",
       "   Total Time Spent on Website  Page Views Per Visit            Last Activity  \\\n",
       "0                          143                  5.00       Email Link Clicked   \n",
       "1                           54                  2.00  Page Visited on Website   \n",
       "2                            0                  0.00                 SMS Sent   \n",
       "3                          485                  2.00             Email Opened   \n",
       "4                         1849                  7.00  Olark Chat Conversation   \n",
       "\n",
       "   ... Get updates on DM Content     Lead Profile  \\\n",
       "0  ...                        No              NaN   \n",
       "1  ...                        No           Select   \n",
       "2  ...                        No           Select   \n",
       "3  ...                        No  Lateral Student   \n",
       "4  ...                        No           Select   \n",
       "\n",
       "                          City Asymmetrique Activity Index  \\\n",
       "0                       Mumbai                         NaN   \n",
       "1            Thane & Outskirts                         NaN   \n",
       "2                       Mumbai                         NaN   \n",
       "3                 Other Cities                         NaN   \n",
       "4  Other Cities of Maharashtra                         NaN   \n",
       "\n",
       "  Asymmetrique Profile Index Asymmetrique Activity Score  \\\n",
       "0                        NaN                         NaN   \n",
       "1                        NaN                         NaN   \n",
       "2                        NaN                         NaN   \n",
       "3                        NaN                         NaN   \n",
       "4                        NaN                         NaN   \n",
       "\n",
       "  Asymmetrique Profile Score I agree to pay the amount through cheque  \\\n",
       "0                        NaN                                       No   \n",
       "1                        NaN                                       No   \n",
       "2                        NaN                                       No   \n",
       "3                        NaN                                       No   \n",
       "4                        NaN                                       No   \n",
       "\n",
       "  A free copy of Mastering The Interview    Last Notable Activity  \n",
       "0                                     No       Email Link Clicked  \n",
       "1                                    Yes  Page Visited on Website  \n",
       "2                                     No                 Modified  \n",
       "3                                     No             Email Opened  \n",
       "4                                     No                 Modified  \n",
       "\n",
       "[5 rows x 36 columns]"
      ]
     },
     "execution_count": 84,
     "metadata": {},
     "output_type": "execute_result"
    }
   ],
   "source": [
    "df = pd.read_csv('test.csv')\n",
    "df.head()"
   ]
  },
  {
   "cell_type": "code",
   "execution_count": 85,
   "id": "1d96d1d2",
   "metadata": {},
   "outputs": [
    {
     "data": {
      "text/plain": [
       "(2007, 36)"
      ]
     },
     "execution_count": 85,
     "metadata": {},
     "output_type": "execute_result"
    }
   ],
   "source": [
    "df.shape"
   ]
  },
  {
   "cell_type": "code",
   "execution_count": 86,
   "id": "77869699",
   "metadata": {},
   "outputs": [],
   "source": [
    "# Replacing 'Select' with NaN (As it means no option is selected)\n",
    "df = df.replace('Select', np.nan)"
   ]
  },
  {
   "cell_type": "code",
   "execution_count": 87,
   "id": "69de41d4",
   "metadata": {},
   "outputs": [],
   "source": [
    "# Removing Id values since they are unique for everyone\n",
    "df = df.drop(['Prospect ID'], 1)\n",
    "\n",
    "# Dropping single valued columns\n",
    "df = df.drop(['Magazine',\n",
    "              'Receive More Updates About Our Courses',\n",
    "              'I agree to pay the amount through cheque',\n",
    "              'Get updates on DM Content',\n",
    "              'Update me on Supply Chain Content'],axis=1)"
   ]
  },
  {
   "cell_type": "code",
   "execution_count": 88,
   "id": "07e4cc6e",
   "metadata": {},
   "outputs": [
    {
     "data": {
      "text/plain": [
       "Id                                               0.00\n",
       "Lead Origin                                      0.00\n",
       "Lead Source                                      0.60\n",
       "Do Not Email                                     0.00\n",
       "Do Not Call                                      0.00\n",
       "TotalVisits                                      1.20\n",
       "Total Time Spent on Website                      0.00\n",
       "Page Views Per Visit                             1.20\n",
       "Last Activity                                    0.90\n",
       "Country                                         25.91\n",
       "Specialization                                  35.08\n",
       "How did you hear about X Education              80.17\n",
       "What is your current occupation                 28.60\n",
       "What matters most to you in choosing a course   28.80\n",
       "Search                                           0.00\n",
       "Newspaper Article                                0.00\n",
       "X Education Forums                               0.00\n",
       "Newspaper                                        0.00\n",
       "Digital Advertisement                            0.00\n",
       "Through Recommendations                          0.00\n",
       "Tags                                            35.03\n",
       "Lead Quality                                    50.97\n",
       "Lead Profile                                    72.65\n",
       "City                                            38.71\n",
       "Asymmetrique Activity Index                     45.34\n",
       "Asymmetrique Profile Index                      45.34\n",
       "Asymmetrique Activity Score                     45.34\n",
       "Asymmetrique Profile Score                      45.34\n",
       "A free copy of Mastering The Interview           0.00\n",
       "Last Notable Activity                            0.00\n",
       "dtype: float64"
      ]
     },
     "execution_count": 88,
     "metadata": {},
     "output_type": "execute_result"
    }
   ],
   "source": [
    "# Checking the percentage of missing values\n",
    "round(100*(df.isnull().sum()/len(df.index)), 2)"
   ]
  },
  {
   "cell_type": "code",
   "execution_count": 89,
   "id": "76423efb",
   "metadata": {},
   "outputs": [],
   "source": [
    "# Removing columns with  >=50% null values\n",
    "df1 = df.loc[:, round(100*(df.isnull().sum()/len(df.index)), 2) < 50]"
   ]
  },
  {
   "cell_type": "code",
   "execution_count": 90,
   "id": "784cf437",
   "metadata": {},
   "outputs": [
    {
     "data": {
      "text/plain": [
       "Id                                               0.00\n",
       "Lead Origin                                      0.00\n",
       "Lead Source                                      0.60\n",
       "Do Not Email                                     0.00\n",
       "Do Not Call                                      0.00\n",
       "TotalVisits                                      1.20\n",
       "Total Time Spent on Website                      0.00\n",
       "Page Views Per Visit                             1.20\n",
       "Last Activity                                    0.90\n",
       "Country                                         25.91\n",
       "Specialization                                  35.08\n",
       "What is your current occupation                 28.60\n",
       "What matters most to you in choosing a course   28.80\n",
       "Search                                           0.00\n",
       "Newspaper Article                                0.00\n",
       "X Education Forums                               0.00\n",
       "Newspaper                                        0.00\n",
       "Digital Advertisement                            0.00\n",
       "Through Recommendations                          0.00\n",
       "Tags                                            35.03\n",
       "City                                            38.71\n",
       "Asymmetrique Activity Index                     45.34\n",
       "Asymmetrique Profile Index                      45.34\n",
       "Asymmetrique Activity Score                     45.34\n",
       "Asymmetrique Profile Score                      45.34\n",
       "A free copy of Mastering The Interview           0.00\n",
       "Last Notable Activity                            0.00\n",
       "dtype: float64"
      ]
     },
     "execution_count": 90,
     "metadata": {},
     "output_type": "execute_result"
    }
   ],
   "source": [
    "# Checking the % of missing values in new dataframe\n",
    "round(100*(df1.isnull().sum()/len(df1.index)), 2)"
   ]
  },
  {
   "cell_type": "code",
   "execution_count": 91,
   "id": "b311d17c",
   "metadata": {},
   "outputs": [],
   "source": [
    "#We are not getting any business insight also there is too much variation. \n",
    "#We can drop the columns\n",
    "\n",
    "df = df1.drop(['Asymmetrique Activity Index',\n",
    "               'Asymmetrique Activity Score',\n",
    "               'Asymmetrique Profile Index',\n",
    "               'Asymmetrique Profile Score'],1)"
   ]
  },
  {
   "cell_type": "code",
   "execution_count": 92,
   "id": "ba4d3dd7",
   "metadata": {},
   "outputs": [],
   "source": [
    "# More than 95% of the total data is country 'India'. \n",
    "# Since remaining countries are not that significant, we will drop the country column.\n",
    "df = df.drop(['Country'], axis=1)\n",
    "\n",
    "# Around 58% of the total data is city 'Mumbai'. So we will impute Mumbai for NaN values.\n",
    "df['City'] = df['City'].replace(np.nan, 'Mumbai')\n",
    "\n",
    "#Remaining four columns do data is unavailable, so we will impute 'Not Provided' for NaN values.\n",
    "df['Specialization'] = df['Specialization'].replace(np.nan, 'Not Provided')\n",
    "df['Tags'] = df['Tags'].replace(np.nan, 'Not Provided')\n",
    "df['What matters most to you in choosing a course'] = df['What matters most to you in choosing a course'].replace(np.nan, 'Not Provided')\n",
    "df['What is your current occupation'] = df['What is your current occupation'].replace(np.nan, 'Not Provided')"
   ]
  },
  {
   "cell_type": "code",
   "execution_count": 93,
   "id": "ee750405",
   "metadata": {},
   "outputs": [],
   "source": [
    "# Lead Source- nan values can be replaced with Null value\n",
    "df['Lead Source'] = df['Lead Source'].fillna('Null')\n",
    "\n",
    "# As observed from plot above, many lead sources do not contribute much\n",
    "# Replacing all other categories having low or no conversion into other platforms.\n",
    "df['Lead Source'] = df['Lead Source'].replace(['google'], 'Google')\n",
    "df['Lead Source'] = df['Lead Source'].replace([ 'blog', 'Pay per Click Ads', 'bing', 'Social Media', 'WeLearn', \n",
    "                                                  'Click2call', 'Live Chat','welearnblog_Home', 'youtubechannel', 'testone', \n",
    "                                                   'Press_Release', 'NC_EDM','Null'], 'Other_Platforms')"
   ]
  },
  {
   "cell_type": "code",
   "execution_count": 94,
   "id": "08d509a0",
   "metadata": {},
   "outputs": [],
   "source": [
    "# These Last Activity the categories are not making significant contributions - \n",
    "# 'Had a Phone Conversation', 'View in browser link Clicked', 'Visited Booth in Tradeshow', 'Approached upfront','Resubscribed to emails','Email Received', 'Email Marked Spam' \n",
    "# So we group them in Other_Activity.\n",
    "\n",
    "df['Last Activity'] = df['Last Activity'].replace(['Had a Phone Conversation', 'View in browser link Clicked', \n",
    "                                                   'Visited Booth in Tradeshow', 'Approached upfront',\n",
    "                                                   'Resubscribed to emails','Email Received', 'Email Marked Spam'], \n",
    "                                                   'Other_Activity')"
   ]
  },
  {
   "cell_type": "code",
   "execution_count": 95,
   "id": "0d423765",
   "metadata": {},
   "outputs": [],
   "source": [
    "# Conversion rate is higher in 'Will revert after reading the email'.\n",
    "\n",
    "# Let's keep considerable last activities as such and club all others to \"Other_Activity\"\n",
    "df['Tags'] = df['Tags'].replace(['In confusion whether part time or DLP', 'in touch with EINS','Diploma holder (Not Eligible)',\n",
    "                                     'Approached upfront','Graduation in progress','number not provided', 'opp hangup','Still Thinking',\n",
    "                                    'Lost to Others','Shall take in the next coming month','Lateral student','Interested in Next batch',\n",
    "                                    'Recognition issue (DEC approval)','Want to take admission but has financial problems',\n",
    "                                    'University not recognized'], 'Other_Tags')"
   ]
  },
  {
   "cell_type": "code",
   "execution_count": 96,
   "id": "b962b647",
   "metadata": {},
   "outputs": [],
   "source": [
    "# In Last notable Activity column, We can see that these categories have no value at all - \n",
    "# 'Approached upfront','Resubscribed to emails', 'View in browser link Clicked','Form Submitted on Website', 'Email Received', 'Email Marked Spam' \n",
    "\n",
    "# Let's keep considerable last activities as such and club all others to \"Other_Activity\"\n",
    "df['Last Notable Activity'] = df['Last Notable Activity'].replace(['Approached upfront','Resubscribed to emails', \n",
    "                                                                   'View in browser link Clicked','Form Submitted on Website', \n",
    "                                                                   'Email Received', 'Email Marked Spam'], 'Other_Last_Notable_Activity')"
   ]
  },
  {
   "cell_type": "code",
   "execution_count": 97,
   "id": "aaacea95",
   "metadata": {},
   "outputs": [
    {
     "data": {
      "text/plain": [
       "(2007, 22)"
      ]
     },
     "execution_count": 97,
     "metadata": {},
     "output_type": "execute_result"
    }
   ],
   "source": [
    "df.shape"
   ]
  },
  {
   "cell_type": "code",
   "execution_count": 98,
   "id": "47fd14be",
   "metadata": {},
   "outputs": [
    {
     "data": {
      "image/png": "[encoded data removed]",
      "text/plain": [
       "<Figure size 1080x360 with 3 Axes>"
      ]
     },
     "metadata": {
      "needs_background": "light"
     },
     "output_type": "display_data"
    }
   ],
   "source": [
    "cols = ['Total Time Spent on Website', 'Page Views Per Visit','TotalVisits']\n",
    "# Plotting for outliers\n",
    "plt.figure(figsize = (15, 5))\n",
    "for i, col in enumerate(cols):\n",
    "    plt.subplot(1,3, i+1)\n",
    "    sns.boxplot(df[col])\n",
    "plt.show()"
   ]
  },
  {
   "cell_type": "code",
   "execution_count": 101,
   "id": "16d714cb",
   "metadata": {},
   "outputs": [],
   "source": [
    "\n",
    "def Outlier_treatment(df,columnList):\n",
    "    for i in columnList:\n",
    "        q1 = df[i].describe()[\"25%\"]\n",
    "        q3 = df[i].describe()[\"75%\"]\n",
    "        IQR = q3 - q1\n",
    "\n",
    "        upper_bound = q3 + 1.5*IQR\n",
    "        lower_bound = q1 - 1.5*IQR\n",
    "\n",
    "        # capping upper_bound\n",
    "        df[i] = np.where(df[i] > upper_bound, upper_bound,df[i])\n",
    "\n",
    "        # flooring lower_bound\n",
    "        df[i] = np.where(df[i] < lower_bound, lower_bound,df[i])"
   ]
  },
  {
   "cell_type": "code",
   "execution_count": 103,
   "id": "97cd56e3",
   "metadata": {},
   "outputs": [],
   "source": [
    "# Checking outliers for numerical variables other than target variable \n",
    "capping_cols = [\"TotalVisits\",\"Page Views Per Visit\"]\n",
    "\n",
    "# UDF \n",
    "Outlier_treatment(df,capping_cols)"
   ]
  },
  {
   "cell_type": "code",
   "execution_count": 104,
   "id": "0ba3c90c",
   "metadata": {},
   "outputs": [
    {
     "data": {
      "text/plain": [
       "(2007, 22)"
      ]
     },
     "execution_count": 104,
     "metadata": {},
     "output_type": "execute_result"
    }
   ],
   "source": [
    "df.shape"
   ]
  },
  {
   "cell_type": "code",
   "execution_count": 105,
   "id": "5ee88572",
   "metadata": {},
   "outputs": [
    {
     "data": {
      "image/png": "[encoded data removed]",
      "text/plain": [
       "<Figure size 1080x360 with 3 Axes>"
      ]
     },
     "metadata": {
      "needs_background": "light"
     },
     "output_type": "display_data"
    }
   ],
   "source": [
    "# Plotting for outliers\n",
    "plt.figure(figsize = (15, 5))\n",
    "for i, col in enumerate(cols):\n",
    "    plt.subplot(1,3, i+1)\n",
    "    sns.boxplot(df[col])\n",
    "plt.show()"
   ]
  },
  {
   "cell_type": "code",
   "execution_count": 106,
   "id": "ee60a2c2",
   "metadata": {},
   "outputs": [],
   "source": [
    "# We will drop all those columns that are not relevant from our business perspective.\n",
    "\n",
    "new_df= df.copy()\n",
    "new_df= new_df.drop(['What matters most to you in choosing a course','Search','Newspaper Article',\n",
    "                     'X Education Forums','Newspaper','Digital Advertisement','Through Recommendations',\n",
    "                     'A free copy of Mastering The Interview'],1)"
   ]
  },
  {
   "cell_type": "code",
   "execution_count": 107,
   "id": "eb65c9b1",
   "metadata": {},
   "outputs": [],
   "source": [
    "# converting binary variables Yes/No to 1/0\n",
    "\n",
    "yes_no_cols = ['Do Not Email', 'Do Not Call']\n",
    "def binary_map(x):\n",
    "    return x.map({'Yes': 1, \"No\": 0})\n",
    "\n",
    "new_df[yes_no_cols] = new_df[yes_no_cols].apply(binary_map) "
   ]
  },
  {
   "cell_type": "code",
   "execution_count": 108,
   "id": "2f566a36",
   "metadata": {},
   "outputs": [
    {
     "data": {
      "text/plain": [
       "(2007, 80)"
      ]
     },
     "execution_count": 108,
     "metadata": {},
     "output_type": "execute_result"
    }
   ],
   "source": [
    "columns_for_dummies = ['Lead Origin', 'Lead Source', 'Last Activity', 'Specialization',\n",
    "                       'What is your current occupation','Tags', 'City', 'Last Notable Activity']\n",
    "\n",
    "# creating dummy columns\n",
    "dummies = pd.get_dummies(new_df[columns_for_dummies], drop_first=True)\n",
    "\n",
    "# concat with original data set\n",
    "new_df = pd.concat([new_df, dummies], axis = 1)\n",
    "\n",
    "# dropping the original columns\n",
    "new_df.drop(columns_for_dummies, axis = 1, inplace = True)\n",
    "new_df.shape"
   ]
  },
  {
   "cell_type": "code",
   "execution_count": 109,
   "id": "f77219aa",
   "metadata": {},
   "outputs": [
    {
     "data": {
      "text/plain": [
       "(2007, 22)"
      ]
     },
     "execution_count": 109,
     "metadata": {},
     "output_type": "execute_result"
    }
   ],
   "source": [
    "df.shape"
   ]
  },
  {
   "cell_type": "code",
   "execution_count": 111,
   "id": "70c96fc4",
   "metadata": {},
   "outputs": [],
   "source": [
    "# Scaling for continuous variables:\n",
    "\n",
    "scaler = StandardScaler()\n",
    "\n",
    "new_df[['Total Time Spent on Website', 'Page Views Per Visit','TotalVisits']] = scaler.fit_transform(new_df[['Total Time Spent on Website', 'Page Views Per Visit',\n",
    "                                                                                                               'TotalVisits']])"
   ]
  },
  {
   "cell_type": "code",
   "execution_count": 113,
   "id": "9adb99c2",
   "metadata": {},
   "outputs": [],
   "source": [
    "new_df.set_index(\"Id\",inplace=True)"
   ]
  },
  {
   "cell_type": "code",
   "execution_count": 114,
   "id": "5d8a4a80",
   "metadata": {},
   "outputs": [],
   "source": [
    "y_test=y_test.head(2007)"
   ]
  },
  {
   "cell_type": "code",
   "execution_count": 115,
   "id": "40c6b4b0",
   "metadata": {},
   "outputs": [],
   "source": [
    "y_test=y_test.sample(n=2007,random_state=42)"
   ]
  },
  {
   "cell_type": "code",
   "execution_count": 117,
   "id": "5b5cab22",
   "metadata": {},
   "outputs": [],
   "source": [
    "col=col2"
   ]
  },
  {
   "cell_type": "code",
   "execution_count": 118,
   "id": "09dffdfa",
   "metadata": {},
   "outputs": [
    {
     "data": {
      "text/plain": [
       "Index(['Do Not Email', 'Lead Origin_Lead Add Form',\n",
       "       'Lead Source_Welingak Website', 'Last Activity_Olark Chat Conversation',\n",
       "       'What is your current occupation_Not Provided', 'Tags_Busy',\n",
       "       'Tags_Closed by Horizzon', 'Tags_Lost to EINS', 'Tags_Ringing',\n",
       "       'Tags_Will revert after reading the email', 'Tags_invalid number',\n",
       "       'Tags_switched off', 'Last Notable Activity_SMS Sent'],\n",
       "      dtype='object')"
      ]
     },
     "execution_count": 118,
     "metadata": {},
     "output_type": "execute_result"
    }
   ],
   "source": [
    "col"
   ]
  },
  {
   "cell_type": "code",
   "execution_count": 120,
   "id": "b404782f",
   "metadata": {},
   "outputs": [
    {
     "data": {
      "text/plain": [
       "(2007, 13)"
      ]
     },
     "execution_count": 120,
     "metadata": {},
     "output_type": "execute_result"
    }
   ],
   "source": [
    "new_df[col].shape"
   ]
  },
  {
   "cell_type": "code",
   "execution_count": 123,
   "id": "983579c4",
   "metadata": {},
   "outputs": [
    {
     "name": "stdout",
     "output_type": "stream",
     "text": [
      "------------------Result of test\n"
     ]
    }
   ],
   "source": [
    "X_test_sm = sm.add_constant(new_df[col])\n",
    "y_test_pred = logm3.fit().predict(X_test_sm)\n",
    "\n",
    "y_test_pred_final = pd.DataFrame({'Id':new_df.index, 'Converted':y_test.values, 'Convert_Probability':y_test_pred})\n",
    "y_test_pred_final['Convert_predicted'] = y_test_pred_final.Convert_Probability.map(lambda x: 1 if x > 0.345 else 0)\n",
    "y_test_pred_final['Lead_Score'] = y_test_pred_final.Convert_Probability.map(lambda x: round(x*100))\n",
    "y_test_pred_final.reset_index(inplace=True, drop=True)\n",
    "print(\"------------------Result of test\")"
   ]
  },
  {
   "cell_type": "code",
   "execution_count": 124,
   "id": "72eea16b",
   "metadata": {},
   "outputs": [
    {
     "data": {
      "text/html": [
       "<div>\n",
       "<style scoped>\n",
       "    .dataframe tbody tr th:only-of-type {\n",
       "        vertical-align: middle;\n",
       "    }\n",
       "\n",
       "    .dataframe tbody tr th {\n",
       "        vertical-align: top;\n",
       "    }\n",
       "\n",
       "    .dataframe thead th {\n",
       "        text-align: right;\n",
       "    }\n",
       "</style>\n",
       "<table border=\"1\" class=\"dataframe\">\n",
       "  <thead>\n",
       "    <tr style=\"text-align: right;\">\n",
       "      <th></th>\n",
       "      <th>Id</th>\n",
       "      <th>Converted</th>\n",
       "      <th>Convert_Probability</th>\n",
       "      <th>Convert_predicted</th>\n",
       "      <th>Lead_Score</th>\n",
       "    </tr>\n",
       "  </thead>\n",
       "  <tbody>\n",
       "    <tr>\n",
       "      <th>0</th>\n",
       "      <td>111151</td>\n",
       "      <td>0</td>\n",
       "      <td>0.09</td>\n",
       "      <td>0</td>\n",
       "      <td>9</td>\n",
       "    </tr>\n",
       "    <tr>\n",
       "      <th>1</th>\n",
       "      <td>111152</td>\n",
       "      <td>0</td>\n",
       "      <td>0.16</td>\n",
       "      <td>0</td>\n",
       "      <td>16</td>\n",
       "    </tr>\n",
       "    <tr>\n",
       "      <th>2</th>\n",
       "      <td>111153</td>\n",
       "      <td>1</td>\n",
       "      <td>0.16</td>\n",
       "      <td>0</td>\n",
       "      <td>16</td>\n",
       "    </tr>\n",
       "    <tr>\n",
       "      <th>3</th>\n",
       "      <td>111154</td>\n",
       "      <td>1</td>\n",
       "      <td>0.95</td>\n",
       "      <td>1</td>\n",
       "      <td>95</td>\n",
       "    </tr>\n",
       "    <tr>\n",
       "      <th>4</th>\n",
       "      <td>111155</td>\n",
       "      <td>0</td>\n",
       "      <td>0.04</td>\n",
       "      <td>0</td>\n",
       "      <td>4</td>\n",
       "    </tr>\n",
       "    <tr>\n",
       "      <th>...</th>\n",
       "      <td>...</td>\n",
       "      <td>...</td>\n",
       "      <td>...</td>\n",
       "      <td>...</td>\n",
       "      <td>...</td>\n",
       "    </tr>\n",
       "    <tr>\n",
       "      <th>2002</th>\n",
       "      <td>113153</td>\n",
       "      <td>0</td>\n",
       "      <td>0.02</td>\n",
       "      <td>0</td>\n",
       "      <td>2</td>\n",
       "    </tr>\n",
       "    <tr>\n",
       "      <th>2003</th>\n",
       "      <td>113154</td>\n",
       "      <td>1</td>\n",
       "      <td>0.09</td>\n",
       "      <td>0</td>\n",
       "      <td>9</td>\n",
       "    </tr>\n",
       "    <tr>\n",
       "      <th>2004</th>\n",
       "      <td>113155</td>\n",
       "      <td>1</td>\n",
       "      <td>0.09</td>\n",
       "      <td>0</td>\n",
       "      <td>9</td>\n",
       "    </tr>\n",
       "    <tr>\n",
       "      <th>2005</th>\n",
       "      <td>113156</td>\n",
       "      <td>0</td>\n",
       "      <td>0.04</td>\n",
       "      <td>0</td>\n",
       "      <td>4</td>\n",
       "    </tr>\n",
       "    <tr>\n",
       "      <th>2006</th>\n",
       "      <td>113157</td>\n",
       "      <td>1</td>\n",
       "      <td>0.95</td>\n",
       "      <td>1</td>\n",
       "      <td>95</td>\n",
       "    </tr>\n",
       "  </tbody>\n",
       "</table>\n",
       "<p>2007 rows × 5 columns</p>\n",
       "</div>"
      ],
      "text/plain": [
       "          Id  Converted  Convert_Probability  Convert_predicted  Lead_Score\n",
       "0     111151          0                 0.09                  0           9\n",
       "1     111152          0                 0.16                  0          16\n",
       "2     111153          1                 0.16                  0          16\n",
       "3     111154          1                 0.95                  1          95\n",
       "4     111155          0                 0.04                  0           4\n",
       "...      ...        ...                  ...                ...         ...\n",
       "2002  113153          0                 0.02                  0           2\n",
       "2003  113154          1                 0.09                  0           9\n",
       "2004  113155          1                 0.09                  0           9\n",
       "2005  113156          0                 0.04                  0           4\n",
       "2006  113157          1                 0.95                  1          95\n",
       "\n",
       "[2007 rows x 5 columns]"
      ]
     },
     "execution_count": 124,
     "metadata": {},
     "output_type": "execute_result"
    }
   ],
   "source": [
    "y_test_pred_final"
   ]
  },
  {
   "cell_type": "code",
   "execution_count": 125,
   "id": "643dcc0c",
   "metadata": {},
   "outputs": [
    {
     "data": {
      "text/plain": [
       "0    1260\n",
       "1     747\n",
       "Name: Convert_predicted, dtype: int64"
      ]
     },
     "execution_count": 125,
     "metadata": {},
     "output_type": "execute_result"
    }
   ],
   "source": [
    "y_test_pred_final[\"Convert_predicted\"].value_counts()"
   ]
  },
  {
   "cell_type": "code",
   "execution_count": 126,
   "id": "dbcfc476",
   "metadata": {},
   "outputs": [],
   "source": [
    "test_data=y_test_pred_final[[\"Id\",\"Convert_predicted\"]]\n"
   ]
  },
  {
   "cell_type": "code",
   "execution_count": 127,
   "id": "14fbefe1",
   "metadata": {},
   "outputs": [],
   "source": [
    "test_data[\"Converted\"]=y_test_pred_final[\"Convert_predicted\"]\n"
   ]
  },
  {
   "cell_type": "code",
   "execution_count": 128,
   "id": "b8e800e7",
   "metadata": {},
   "outputs": [
    {
     "data": {
      "text/plain": [
       "(2007,)"
      ]
     },
     "execution_count": 128,
     "metadata": {},
     "output_type": "execute_result"
    }
   ],
   "source": [
    "y_test.shape"
   ]
  },
  {
   "cell_type": "code",
   "execution_count": 129,
   "id": "5089e5ff",
   "metadata": {},
   "outputs": [
    {
     "data": {
      "text/plain": [
       "0    1260\n",
       "1     747\n",
       "Name: Converted, dtype: int64"
      ]
     },
     "execution_count": 129,
     "metadata": {},
     "output_type": "execute_result"
    }
   ],
   "source": [
    "test_data[\"Converted\"].value_counts()"
   ]
  },
  {
   "cell_type": "code",
   "execution_count": 130,
   "id": "758bb45b",
   "metadata": {},
   "outputs": [
    {
     "data": {
      "text/html": [
       "<div>\n",
       "<style scoped>\n",
       "    .dataframe tbody tr th:only-of-type {\n",
       "        vertical-align: middle;\n",
       "    }\n",
       "\n",
       "    .dataframe tbody tr th {\n",
       "        vertical-align: top;\n",
       "    }\n",
       "\n",
       "    .dataframe thead th {\n",
       "        text-align: right;\n",
       "    }\n",
       "</style>\n",
       "<table border=\"1\" class=\"dataframe\">\n",
       "  <thead>\n",
       "    <tr style=\"text-align: right;\">\n",
       "      <th></th>\n",
       "      <th>Id</th>\n",
       "      <th>Convert_predicted</th>\n",
       "      <th>Converted</th>\n",
       "    </tr>\n",
       "  </thead>\n",
       "  <tbody>\n",
       "    <tr>\n",
       "      <th>0</th>\n",
       "      <td>111151</td>\n",
       "      <td>0</td>\n",
       "      <td>0</td>\n",
       "    </tr>\n",
       "    <tr>\n",
       "      <th>1</th>\n",
       "      <td>111152</td>\n",
       "      <td>0</td>\n",
       "      <td>0</td>\n",
       "    </tr>\n",
       "    <tr>\n",
       "      <th>2</th>\n",
       "      <td>111153</td>\n",
       "      <td>0</td>\n",
       "      <td>0</td>\n",
       "    </tr>\n",
       "    <tr>\n",
       "      <th>3</th>\n",
       "      <td>111154</td>\n",
       "      <td>1</td>\n",
       "      <td>1</td>\n",
       "    </tr>\n",
       "    <tr>\n",
       "      <th>4</th>\n",
       "      <td>111155</td>\n",
       "      <td>0</td>\n",
       "      <td>0</td>\n",
       "    </tr>\n",
       "    <tr>\n",
       "      <th>...</th>\n",
       "      <td>...</td>\n",
       "      <td>...</td>\n",
       "      <td>...</td>\n",
       "    </tr>\n",
       "    <tr>\n",
       "      <th>2002</th>\n",
       "      <td>113153</td>\n",
       "      <td>0</td>\n",
       "      <td>0</td>\n",
       "    </tr>\n",
       "    <tr>\n",
       "      <th>2003</th>\n",
       "      <td>113154</td>\n",
       "      <td>0</td>\n",
       "      <td>0</td>\n",
       "    </tr>\n",
       "    <tr>\n",
       "      <th>2004</th>\n",
       "      <td>113155</td>\n",
       "      <td>0</td>\n",
       "      <td>0</td>\n",
       "    </tr>\n",
       "    <tr>\n",
       "      <th>2005</th>\n",
       "      <td>113156</td>\n",
       "      <td>0</td>\n",
       "      <td>0</td>\n",
       "    </tr>\n",
       "    <tr>\n",
       "      <th>2006</th>\n",
       "      <td>113157</td>\n",
       "      <td>1</td>\n",
       "      <td>1</td>\n",
       "    </tr>\n",
       "  </tbody>\n",
       "</table>\n",
       "<p>2007 rows × 3 columns</p>\n",
       "</div>"
      ],
      "text/plain": [
       "          Id  Convert_predicted  Converted\n",
       "0     111151                  0          0\n",
       "1     111152                  0          0\n",
       "2     111153                  0          0\n",
       "3     111154                  1          1\n",
       "4     111155                  0          0\n",
       "...      ...                ...        ...\n",
       "2002  113153                  0          0\n",
       "2003  113154                  0          0\n",
       "2004  113155                  0          0\n",
       "2005  113156                  0          0\n",
       "2006  113157                  1          1\n",
       "\n",
       "[2007 rows x 3 columns]"
      ]
     },
     "execution_count": 130,
     "metadata": {},
     "output_type": "execute_result"
    }
   ],
   "source": [
    "test_data"
   ]
  },
  {
   "cell_type": "code",
   "execution_count": 131,
   "id": "73624e26",
   "metadata": {},
   "outputs": [],
   "source": [
    "test_data = test_data.drop(\"Convert_predicted\", axis=1)"
   ]
  },
  {
   "cell_type": "code",
   "execution_count": 132,
   "id": "7a64c24c",
   "metadata": {},
   "outputs": [
    {
     "data": {
      "text/html": [
       "<div>\n",
       "<style scoped>\n",
       "    .dataframe tbody tr th:only-of-type {\n",
       "        vertical-align: middle;\n",
       "    }\n",
       "\n",
       "    .dataframe tbody tr th {\n",
       "        vertical-align: top;\n",
       "    }\n",
       "\n",
       "    .dataframe thead th {\n",
       "        text-align: right;\n",
       "    }\n",
       "</style>\n",
       "<table border=\"1\" class=\"dataframe\">\n",
       "  <thead>\n",
       "    <tr style=\"text-align: right;\">\n",
       "      <th></th>\n",
       "      <th>Id</th>\n",
       "      <th>Converted</th>\n",
       "    </tr>\n",
       "  </thead>\n",
       "  <tbody>\n",
       "    <tr>\n",
       "      <th>0</th>\n",
       "      <td>111151</td>\n",
       "      <td>0</td>\n",
       "    </tr>\n",
       "    <tr>\n",
       "      <th>1</th>\n",
       "      <td>111152</td>\n",
       "      <td>0</td>\n",
       "    </tr>\n",
       "    <tr>\n",
       "      <th>2</th>\n",
       "      <td>111153</td>\n",
       "      <td>0</td>\n",
       "    </tr>\n",
       "    <tr>\n",
       "      <th>3</th>\n",
       "      <td>111154</td>\n",
       "      <td>1</td>\n",
       "    </tr>\n",
       "    <tr>\n",
       "      <th>4</th>\n",
       "      <td>111155</td>\n",
       "      <td>0</td>\n",
       "    </tr>\n",
       "    <tr>\n",
       "      <th>...</th>\n",
       "      <td>...</td>\n",
       "      <td>...</td>\n",
       "    </tr>\n",
       "    <tr>\n",
       "      <th>2002</th>\n",
       "      <td>113153</td>\n",
       "      <td>0</td>\n",
       "    </tr>\n",
       "    <tr>\n",
       "      <th>2003</th>\n",
       "      <td>113154</td>\n",
       "      <td>0</td>\n",
       "    </tr>\n",
       "    <tr>\n",
       "      <th>2004</th>\n",
       "      <td>113155</td>\n",
       "      <td>0</td>\n",
       "    </tr>\n",
       "    <tr>\n",
       "      <th>2005</th>\n",
       "      <td>113156</td>\n",
       "      <td>0</td>\n",
       "    </tr>\n",
       "    <tr>\n",
       "      <th>2006</th>\n",
       "      <td>113157</td>\n",
       "      <td>1</td>\n",
       "    </tr>\n",
       "  </tbody>\n",
       "</table>\n",
       "<p>2007 rows × 2 columns</p>\n",
       "</div>"
      ],
      "text/plain": [
       "          Id  Converted\n",
       "0     111151          0\n",
       "1     111152          0\n",
       "2     111153          0\n",
       "3     111154          1\n",
       "4     111155          0\n",
       "...      ...        ...\n",
       "2002  113153          0\n",
       "2003  113154          0\n",
       "2004  113155          0\n",
       "2005  113156          0\n",
       "2006  113157          1\n",
       "\n",
       "[2007 rows x 2 columns]"
      ]
     },
     "execution_count": 132,
     "metadata": {},
     "output_type": "execute_result"
    }
   ],
   "source": [
    "test_data"
   ]
  },
  {
   "cell_type": "code",
   "execution_count": 133,
   "id": "b7c7dbb2",
   "metadata": {},
   "outputs": [],
   "source": [
    "test_data.to_csv(\"Kaggle_data.csv\",index=False)"
   ]
  },
  {
   "cell_type": "code",
   "execution_count": 134,
   "id": "c9578590",
   "metadata": {},
   "outputs": [
    {
     "data": {
      "text/html": [
       "<div>\n",
       "<style scoped>\n",
       "    .dataframe tbody tr th:only-of-type {\n",
       "        vertical-align: middle;\n",
       "    }\n",
       "\n",
       "    .dataframe tbody tr th {\n",
       "        vertical-align: top;\n",
       "    }\n",
       "\n",
       "    .dataframe thead th {\n",
       "        text-align: right;\n",
       "    }\n",
       "</style>\n",
       "<table border=\"1\" class=\"dataframe\">\n",
       "  <thead>\n",
       "    <tr style=\"text-align: right;\">\n",
       "      <th></th>\n",
       "      <th>Id</th>\n",
       "      <th>Converted</th>\n",
       "    </tr>\n",
       "  </thead>\n",
       "  <tbody>\n",
       "    <tr>\n",
       "      <th>0</th>\n",
       "      <td>111151</td>\n",
       "      <td>0</td>\n",
       "    </tr>\n",
       "    <tr>\n",
       "      <th>1</th>\n",
       "      <td>111152</td>\n",
       "      <td>0</td>\n",
       "    </tr>\n",
       "    <tr>\n",
       "      <th>2</th>\n",
       "      <td>111153</td>\n",
       "      <td>0</td>\n",
       "    </tr>\n",
       "    <tr>\n",
       "      <th>3</th>\n",
       "      <td>111154</td>\n",
       "      <td>1</td>\n",
       "    </tr>\n",
       "    <tr>\n",
       "      <th>4</th>\n",
       "      <td>111155</td>\n",
       "      <td>0</td>\n",
       "    </tr>\n",
       "  </tbody>\n",
       "</table>\n",
       "</div>"
      ],
      "text/plain": [
       "       Id  Converted\n",
       "0  111151          0\n",
       "1  111152          0\n",
       "2  111153          0\n",
       "3  111154          1\n",
       "4  111155          0"
      ]
     },
     "execution_count": 134,
     "metadata": {},
     "output_type": "execute_result"
    }
   ],
   "source": [
    "test_data.head()"
   ]
  },
  {
   "cell_type": "code",
   "execution_count": null,
   "id": "7282571d",
   "metadata": {},
   "outputs": [],
   "source": []
  }
 ],
 "metadata": {
  "kernelspec": {
   "display_name": "Python 3 (ipykernel)",
   "language": "python",
   "name": "python3"
  },
  "language_info": {
   "codemirror_mode": {
    "name": "ipython",
    "version": 3
   },
   "file_extension": ".py",
   "mimetype": "text/x-python",
   "name": "python",
   "nbconvert_exporter": "python",
   "pygments_lexer": "ipython3",
   "version": "3.9.12"
  }
 },
 "nbformat": 4,
 "nbformat_minor": 5
}
